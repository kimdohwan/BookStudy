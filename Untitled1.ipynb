{
 "cells": [
  {
   "cell_type": "code",
   "execution_count": 11,
   "metadata": {},
   "outputs": [
    {
     "data": {
      "text/plain": [
       "[(1, 2),\n",
       " (1, 3),\n",
       " (1, 4),\n",
       " (1, 5),\n",
       " (2, 1),\n",
       " (2, 3),\n",
       " (2, 4),\n",
       " (2, 5),\n",
       " (3, 1),\n",
       " (3, 2),\n",
       " (3, 4),\n",
       " (3, 5),\n",
       " (4, 1),\n",
       " (4, 2),\n",
       " (4, 3),\n",
       " (4, 5),\n",
       " (5, 1),\n",
       " (5, 2),\n",
       " (5, 3),\n",
       " (5, 4)]"
      ]
     },
     "execution_count": 11,
     "metadata": {},
     "output_type": "execute_result"
    }
   ],
   "source": [
    "from itertools import permutations\n",
    "# permutations 는 순서를 인식한다. 순서가 다르다면 다른 조합이다\n",
    "items = [1, 2, 3, 4, 5]\n",
    "list(permutations(items, 2))"
   ]
  },
  {
   "cell_type": "code",
   "execution_count": 13,
   "metadata": {},
   "outputs": [
    {
     "data": {
      "text/plain": [
       "[(1, 2),\n",
       " (1, 3),\n",
       " (1, 4),\n",
       " (1, 5),\n",
       " (2, 3),\n",
       " (2, 4),\n",
       " (2, 5),\n",
       " (3, 4),\n",
       " (3, 5),\n",
       " (4, 5)]"
      ]
     },
     "execution_count": 13,
     "metadata": {},
     "output_type": "execute_result"
    }
   ],
   "source": [
    "from itertools import combinations\n",
    "# combinations 는 순서에 관계없이 다른 조합을 찾는다.\n",
    "list(combinations(items, 2))"
   ]
  },
  {
   "cell_type": "code",
   "execution_count": 97,
   "metadata": {},
   "outputs": [
    {
     "name": "stdout",
     "output_type": "stream",
     "text": [
      "4\n",
      "[(0,), (1,), (2,), (3,), (0, 1), (0, 2), (0, 3), (1, 2), (1, 3), (2, 3), (0, 1, 2), (0, 1, 3), (0, 2, 3), (1, 2, 3), (0, 1, 2, 3)]\n",
      "-----keys =  (0,) \n",
      "\n",
      "[('100',), ('200',), ('300',), ('400',), ('500',), ('600',)]\n",
      "\n",
      "{('600',), ('100',), ('500',), ('300',), ('400',), ('200',)} 데이터 중복 제거 후 \n",
      "\n",
      "-----keys =  (1,) \n",
      "\n",
      "[('ryan',), ('apeach',), ('tube',), ('con',), ('muzi',), ('apeach',)]\n",
      "\n",
      "{('muzi',), ('con',), ('tube',), ('apeach',), ('ryan',)} 데이터 중복 제거 후 \n",
      "\n",
      "-----keys =  (2,) \n",
      "\n",
      "[('music',), ('math',), ('computer',), ('computer',), ('music',), ('music',)]\n",
      "\n",
      "{('computer',), ('math',), ('music',)} 데이터 중복 제거 후 \n",
      "\n",
      "-----keys =  (3,) \n",
      "\n",
      "[('2',), ('2',), ('3',), ('4',), ('3',), ('2',)]\n",
      "\n",
      "{('2',), ('3',), ('4',)} 데이터 중복 제거 후 \n",
      "\n",
      "-----keys =  (0, 1) \n",
      "\n",
      "[('100', 'ryan'), ('200', 'apeach'), ('300', 'tube'), ('400', 'con'), ('500', 'muzi'), ('600', 'apeach')]\n",
      "\n",
      "{('600', 'apeach'), ('200', 'apeach'), ('100', 'ryan'), ('500', 'muzi'), ('400', 'con'), ('300', 'tube')} 데이터 중복 제거 후 \n",
      "\n",
      "-----keys =  (0, 2) \n",
      "\n",
      "[('100', 'music'), ('200', 'math'), ('300', 'computer'), ('400', 'computer'), ('500', 'music'), ('600', 'music')]\n",
      "\n",
      "{('300', 'computer'), ('400', 'computer'), ('100', 'music'), ('500', 'music'), ('200', 'math'), ('600', 'music')} 데이터 중복 제거 후 \n",
      "\n",
      "-----keys =  (0, 3) \n",
      "\n",
      "[('100', '2'), ('200', '2'), ('300', '3'), ('400', '4'), ('500', '3'), ('600', '2')]\n",
      "\n",
      "{('300', '3'), ('400', '4'), ('600', '2'), ('200', '2'), ('100', '2'), ('500', '3')} 데이터 중복 제거 후 \n",
      "\n",
      "-----keys =  (1, 2) \n",
      "\n",
      "[('ryan', 'music'), ('apeach', 'math'), ('tube', 'computer'), ('con', 'computer'), ('muzi', 'music'), ('apeach', 'music')]\n",
      "\n",
      "{('con', 'computer'), ('muzi', 'music'), ('ryan', 'music'), ('tube', 'computer'), ('apeach', 'math'), ('apeach', 'music')} 데이터 중복 제거 후 \n",
      "\n",
      "-----keys =  (1, 3) \n",
      "\n",
      "[('ryan', '2'), ('apeach', '2'), ('tube', '3'), ('con', '4'), ('muzi', '3'), ('apeach', '2')]\n",
      "\n",
      "{('ryan', '2'), ('muzi', '3'), ('apeach', '2'), ('con', '4'), ('tube', '3')} 데이터 중복 제거 후 \n",
      "\n",
      "-----keys =  (2, 3) \n",
      "\n",
      "[('music', '2'), ('math', '2'), ('computer', '3'), ('computer', '4'), ('music', '3'), ('music', '2')]\n",
      "\n",
      "{('music', '3'), ('computer', '3'), ('math', '2'), ('music', '2'), ('computer', '4')} 데이터 중복 제거 후 \n",
      "\n",
      "-----keys =  (0, 1, 2) \n",
      "\n",
      "[('100', 'ryan', 'music'), ('200', 'apeach', 'math'), ('300', 'tube', 'computer'), ('400', 'con', 'computer'), ('500', 'muzi', 'music'), ('600', 'apeach', 'music')]\n",
      "\n",
      "{('600', 'apeach', 'music'), ('200', 'apeach', 'math'), ('100', 'ryan', 'music'), ('400', 'con', 'computer'), ('500', 'muzi', 'music'), ('300', 'tube', 'computer')} 데이터 중복 제거 후 \n",
      "\n",
      "-----keys =  (0, 1, 3) \n",
      "\n",
      "[('100', 'ryan', '2'), ('200', 'apeach', '2'), ('300', 'tube', '3'), ('400', 'con', '4'), ('500', 'muzi', '3'), ('600', 'apeach', '2')]\n",
      "\n",
      "{('100', 'ryan', '2'), ('200', 'apeach', '2'), ('600', 'apeach', '2'), ('300', 'tube', '3'), ('500', 'muzi', '3'), ('400', 'con', '4')} 데이터 중복 제거 후 \n",
      "\n",
      "-----keys =  (0, 2, 3) \n",
      "\n",
      "[('100', 'music', '2'), ('200', 'math', '2'), ('300', 'computer', '3'), ('400', 'computer', '4'), ('500', 'music', '3'), ('600', 'music', '2')]\n",
      "\n",
      "{('300', 'computer', '3'), ('200', 'math', '2'), ('600', 'music', '2'), ('100', 'music', '2'), ('500', 'music', '3'), ('400', 'computer', '4')} 데이터 중복 제거 후 \n",
      "\n",
      "-----keys =  (1, 2, 3) \n",
      "\n",
      "[('ryan', 'music', '2'), ('apeach', 'math', '2'), ('tube', 'computer', '3'), ('con', 'computer', '4'), ('muzi', 'music', '3'), ('apeach', 'music', '2')]\n",
      "\n",
      "{('apeach', 'music', '2'), ('apeach', 'math', '2'), ('ryan', 'music', '2'), ('muzi', 'music', '3'), ('con', 'computer', '4'), ('tube', 'computer', '3')} 데이터 중복 제거 후 \n",
      "\n",
      "-----keys =  (0, 1, 2, 3) \n",
      "\n",
      "[('100', 'ryan', 'music', '2'), ('200', 'apeach', 'math', '2'), ('300', 'tube', 'computer', '3'), ('400', 'con', 'computer', '4'), ('500', 'muzi', 'music', '3'), ('600', 'apeach', 'music', '2')]\n",
      "\n",
      "{('100', 'ryan', 'music', '2'), ('400', 'con', 'computer', '4'), ('500', 'muzi', 'music', '3'), ('200', 'apeach', 'math', '2'), ('600', 'apeach', 'music', '2'), ('300', 'tube', 'computer', '3')} 데이터 중복 제거 후 \n",
      "\n",
      "[(0,), (0, 1), (0, 2), (0, 3), (1, 2), (0, 1, 2), (0, 1, 3), (0, 2, 3), (1, 2, 3), (0, 1, 2, 3)]\n"
     ]
    },
    {
     "data": {
      "text/plain": [
       "{(0,), (1, 2)}"
      ]
     },
     "execution_count": 97,
     "metadata": {},
     "output_type": "execute_result"
    }
   ],
   "source": [
    "from collections import deque\n",
    "from itertools import combinations\n",
    "def solution(relation):\n",
    "    n_row=len(relation)\n",
    "    n_col=len(relation[0])  #->runtime error 우려되는 부분\n",
    "    print(n_col)\n",
    "\n",
    "    # candidates 에 조합에 사용될 경우의 수를 담아준다.\n",
    "    candidates=[]\n",
    "    for i in range(1,n_col+1):\n",
    "        candidates.extend(combinations(range(n_col),i))\n",
    "    print(candidates)\n",
    "    \n",
    "    # candidates 에서 뽑아준 key 에 해당하는 데이터를 뽑아낸 후, tmp 에 넣어준다.\n",
    "    # set 을 통해 중복된 값이 존재하는지 검사한 후, 중복이 없다면 final 에 넣어준다. \n",
    "    # 이미 이 단계에서 답을 거의 다 구했다고 보면 된다. 왜냐하면 final 에서 중복된 key 만 제거해주면 되기 때문이다.\n",
    "    final=[]\n",
    "    for keys in candidates:\n",
    "        tmp=[tuple([item[key] for key in keys]) for item in relation]\n",
    "        print('-----keys = ', keys, '\\n')\n",
    "        print(tmp)\n",
    "        print('')\n",
    "        print(set(tmp), '데이터 중복 제거 후', '\\n')\n",
    "        if len(set(tmp))==n_row:  # 경우의 수에 해당하는 가짓수가 뽑힌 후 같은 조합이 존재하지 않으면 append 해준다?\n",
    "            final.append(keys)\n",
    "    print(final)\n",
    "    \n",
    "# # final 에서 중복된 키는 어떻게 제거해줄 수 있을까?\n",
    "# # 자 검사를 해주는데\n",
    "#     answer = set(final[:])\n",
    "#     for i in range(len(final)):\n",
    "#         for k in final[i + 1:]:\n",
    "#             print(final[i], k)\n",
    "#             if set(final[i])==set(final[i]).intersection(set(final[k])):\n",
    "#                 print(k, 'if')\n",
    "#                 answer.discard(k)\n",
    "#     return answer \n",
    "\n",
    "    answer=set(final[:])\n",
    "    for i in range(len(final)):\n",
    "        for j in range(i+1,len(final)):\n",
    "            if len(final[i])==len(set(final[i]).intersection(set(final[j]))):\n",
    "                answer.discard(final[j])\n",
    "\n",
    "    return answer\n",
    "\n",
    "a = [[\"100\",\"ryan\",\"music\",\"2\"],[\"200\",\"apeach\",\"math\",\"2\"],[\"300\",\"tube\",\"computer\",\"3\"],[\"400\",\"con\",\"computer\",\"4\"],[\"500\",\"muzi\",\"music\",\"3\"],[\"600\",\"apeach\",\"music\",\"2\"]]\n",
    "solution(a)"
   ]
  },
  {
   "cell_type": "code",
   "execution_count": 98,
   "metadata": {},
   "outputs": [
    {
     "data": {
      "text/plain": [
       "False"
      ]
     },
     "execution_count": 98,
     "metadata": {},
     "output_type": "execute_result"
    }
   ],
   "source": [
    "(0,) in (0, 1)"
   ]
  },
  {
   "cell_type": "code",
   "execution_count": 189,
   "metadata": {},
   "outputs": [
    {
     "name": "stdout",
     "output_type": "stream",
     "text": [
      "[1]\n",
      "[1, 6]\n"
     ]
    },
    {
     "data": {
      "text/plain": [
       "2"
      ]
     },
     "execution_count": 189,
     "metadata": {},
     "output_type": "execute_result"
    }
   ],
   "source": [
    "def solution(relation):\n",
    "    answer_list = list()\n",
    "    \n",
    "    for i in range(1, 1 << len(relation[0])):  # 1 부터 15 까지 돌린다. 1 << 의 경우 조합의 가짓수를 의미 2^n-1 이다\n",
    "        tmp_set = set()\n",
    "        \n",
    "        for j in range(len(relation)):\n",
    "            tmp = ''\n",
    "            for k in range(len(relation[0])):\n",
    "                if i & (1 << k):\n",
    "#                     print(i, 1 << k, j)\n",
    "                    tmp += str(relation[j][k])\n",
    "#                 print('tmp=', tmp)\n",
    "            tmp_set.add(tmp)\n",
    "#             print('tmp_set=', tmp_set)\n",
    "#         print(tmp_set)\n",
    "\n",
    "        if len(tmp_set) == len(relation):\n",
    "            not_duplicate = True\n",
    "            for num in answer_list:\n",
    "                if (num & i) == num:\n",
    "                    not_duplicate = False\n",
    "                    break\n",
    "            if not_duplicate:\n",
    "                answer_list.append(i)\n",
    "                print(answer_list)\n",
    "    return len(answer_list)\n",
    "\n",
    "a = [[\"100\",\"ryan\",\"music\",\"2\"],[\"200\",\"apeach\",\"math\",\"2\"],[\"300\",\"tube\",\"computer\",\"3\"],[\"400\",\"con\",\"computer\",\"4\"],[\"500\",\"muzi\",\"music\",\"3\"],[\"600\",\"apeach\",\"music\",\"2\"]]\n",
    "solution(a)"
   ]
  },
  {
   "cell_type": "code",
   "execution_count": 158,
   "metadata": {},
   "outputs": [
    {
     "data": {
      "text/plain": [
       "8"
      ]
     },
     "execution_count": 158,
     "metadata": {},
     "output_type": "execute_result"
    }
   ],
   "source": [
    "1 << 3"
   ]
  },
  {
   "cell_type": "code",
   "execution_count": 1,
   "metadata": {},
   "outputs": [
    {
     "ename": "NameError",
     "evalue": "name 'combinations' is not defined",
     "output_type": "error",
     "traceback": [
      "\u001b[0;31m---------------------------------------------------------------------------\u001b[0m",
      "\u001b[0;31mNameError\u001b[0m                                 Traceback (most recent call last)",
      "\u001b[0;32m<ipython-input-1-f7579721b740>\u001b[0m in \u001b[0;36m<module>\u001b[0;34m\u001b[0m\n\u001b[1;32m      1\u001b[0m a = [tuple(\n\u001b[0;32m----> 2\u001b[0;31m     combinations([1, 2, 3], i)) for i in range(1, 4)]\n\u001b[0m\u001b[1;32m      3\u001b[0m \u001b[0;32mfor\u001b[0m \u001b[0mi\u001b[0m \u001b[0;32min\u001b[0m \u001b[0ma\u001b[0m\u001b[0;34m:\u001b[0m\u001b[0;34m\u001b[0m\u001b[0;34m\u001b[0m\u001b[0m\n\u001b[1;32m      4\u001b[0m     \u001b[0mprint\u001b[0m\u001b[0;34m(\u001b[0m\u001b[0mi\u001b[0m\u001b[0;34m)\u001b[0m\u001b[0;34m\u001b[0m\u001b[0;34m\u001b[0m\u001b[0m\n\u001b[1;32m      5\u001b[0m \u001b[0ma\u001b[0m\u001b[0;34m\u001b[0m\u001b[0;34m\u001b[0m\u001b[0m\n",
      "\u001b[0;32m<ipython-input-1-f7579721b740>\u001b[0m in \u001b[0;36m<listcomp>\u001b[0;34m(.0)\u001b[0m\n\u001b[1;32m      1\u001b[0m a = [tuple(\n\u001b[0;32m----> 2\u001b[0;31m     combinations([1, 2, 3], i)) for i in range(1, 4)]\n\u001b[0m\u001b[1;32m      3\u001b[0m \u001b[0;32mfor\u001b[0m \u001b[0mi\u001b[0m \u001b[0;32min\u001b[0m \u001b[0ma\u001b[0m\u001b[0;34m:\u001b[0m\u001b[0;34m\u001b[0m\u001b[0;34m\u001b[0m\u001b[0m\n\u001b[1;32m      4\u001b[0m     \u001b[0mprint\u001b[0m\u001b[0;34m(\u001b[0m\u001b[0mi\u001b[0m\u001b[0;34m)\u001b[0m\u001b[0;34m\u001b[0m\u001b[0;34m\u001b[0m\u001b[0m\n\u001b[1;32m      5\u001b[0m \u001b[0ma\u001b[0m\u001b[0;34m\u001b[0m\u001b[0;34m\u001b[0m\u001b[0m\n",
      "\u001b[0;31mNameError\u001b[0m: name 'combinations' is not defined"
     ]
    }
   ],
   "source": [
    "a = [tuple(\n",
    "    combinations([1, 2, 3], i)) for i in range(1, 4)]\n",
    "for i in a:\n",
    "    print(i)\n",
    "a"
   ]
  },
  {
   "cell_type": "code",
   "execution_count": 6,
   "metadata": {},
   "outputs": [
    {
     "name": "stdout",
     "output_type": "stream",
     "text": [
      "2000-10-10\n"
     ]
    }
   ],
   "source": [
    "a = '20001010'\n",
    "a = a[:4] + '-' + a[4:6]+ '-' + a[6:]\n",
    "print(a)"
   ]
  }
 ],
 "metadata": {
  "kernelspec": {
   "display_name": "Python 3",
   "language": "python",
   "name": "python3"
  },
  "language_info": {
   "codemirror_mode": {
    "name": "ipython",
    "version": 3
   },
   "file_extension": ".py",
   "mimetype": "text/x-python",
   "name": "python",
   "nbconvert_exporter": "python",
   "pygments_lexer": "ipython3",
   "version": "3.6.7"
  }
 },
 "nbformat": 4,
 "nbformat_minor": 2
}
