{
 "cells": [
  {
   "cell_type": "markdown",
   "metadata": {},
   "source": [
    "- reference count  \n",
    "메모리 heap 영역에서 이뤄지는 메모리 할당/해제 과정 중 객체를 reference 하고 있는 변수들을 수를 계산\n",
    "- garbage collection  \n",
    "파이썬, 자바, C++ 에서 사용  \n",
    "변수를 할당 한 후 프로그래머가 직접 해제해주지 않고 언어 자체에서 스스로 해제해줌  \n"
   ]
  },
  {
   "cell_type": "code",
   "execution_count": 8,
   "metadata": {},
   "outputs": [
    {
     "data": {
      "text/plain": [
       "2"
      ]
     },
     "execution_count": 8,
     "metadata": {},
     "output_type": "execute_result"
    }
   ],
   "source": [
    "import sys\n",
    "a = 'sfe9f09sei'\n",
    "sys.getrefcount(a)\n",
    "\n",
    "# a 에 들어있는 객체(문자열)를 가르키는/사용하는 객체의 갯수를 \n",
    "# getrefcount 로 알 수 있다\n",
    "# a 와 함수 getrefcount 에서 사용 중이므로 2개가 나온다"
   ]
  },
  {
   "cell_type": "code",
   "execution_count": 2,
   "metadata": {},
   "outputs": [
    {
     "data": {
      "text/plain": [
       "3"
      ]
     },
     "execution_count": 2,
     "metadata": {},
     "output_type": "execute_result"
    }
   ],
   "source": [
    "b = a\n",
    "sys.getrefcount(a)\n",
    "\n",
    "# 문자열 객체(a에 들어간 값)을 b 또한 참조하므로 개수가 1개 증가 "
   ]
  },
  {
   "cell_type": "code",
   "execution_count": 3,
   "metadata": {},
   "outputs": [
    {
     "data": {
      "text/plain": [
       "2"
      ]
     },
     "execution_count": 3,
     "metadata": {},
     "output_type": "execute_result"
    }
   ],
   "source": [
    "del b \n",
    "sys.getrefcount(a)\n",
    "\n",
    "# b 값을 삭제(메모리 해제?)\n",
    "# 카운트 값이 다시 2로 돌아온다 "
   ]
  },
  {
   "cell_type": "markdown",
   "metadata": {},
   "source": [
    "call by object reference  \n",
    "- 파이썬에서 사용하는 객체 참조 방식 \n",
    "- c 언어에서 사용하는 call by value, call by reference 와 다르다 \n",
    "\n",
    "객체 값 변경하기\n",
    "- list[index] 값을 지정 \n",
    "객체를 새로 생성 \n",
    "- 함수 내에 같은 test_list 가 새로운 메모리 공간에 할당\n"
   ]
  },
  {
   "cell_type": "code",
   "execution_count": null,
   "metadata": {},
   "outputs": [],
   "source": [
    "test_list = [1, 2]\n",
    "\n",
    "# 값 변경 o\n",
    "def change_list():\n",
    "    test_list[0] = 5\n",
    "    print(f'test_list = {test_list} after func(change_list)')\n",
    "\n",
    "# 값 변경 x\n",
    "def local_list():\n",
    "    test_list = [3, 4]\n",
    "    print(f'test_list = {test_list} in func(local_list)')\n",
    "    print(f'test_list refcount = {sys.getrefcount(test_list)} in func(local_list)')\n",
    "\n",
    "print(f'test_list = {test_list} in global')\n",
    "change_list()\n",
    "local_list()\n",
    "print(f'test_list refcount = {sys.getrefcount(test_list)} in global')"
   ]
  },
  {
   "cell_type": "code",
   "execution_count": null,
   "metadata": {},
   "outputs": [],
   "source": []
  },
  {
   "cell_type": "code",
   "execution_count": null,
   "metadata": {},
   "outputs": [],
   "source": []
  },
  {
   "cell_type": "code",
   "execution_count": null,
   "metadata": {},
   "outputs": [],
   "source": []
  }
 ],
 "metadata": {
  "kernelspec": {
   "display_name": "Python 3",
   "language": "python",
   "name": "python3"
  },
  "language_info": {
   "codemirror_mode": {
    "name": "ipython",
    "version": 3
   },
   "file_extension": ".py",
   "mimetype": "text/x-python",
   "name": "python",
   "nbconvert_exporter": "python",
   "pygments_lexer": "ipython3",
   "version": "3.6.5"
  }
 },
 "nbformat": 4,
 "nbformat_minor": 2
}
