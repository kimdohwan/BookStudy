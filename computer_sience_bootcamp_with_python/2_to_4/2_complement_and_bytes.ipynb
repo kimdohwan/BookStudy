{
 "cells": [
  {
   "cell_type": "markdown",
   "metadata": {},
   "source": [
    "### 컴퓨터에 저장되는 바이트 형태로 정수 나타내기"
   ]
  },
  {
   "cell_type": "markdown",
   "metadata": {},
   "source": [
    "#### to_bytes()\n",
    "- signed 는 보수(음수를 위해 필요)를 위한 옵션(default False)"
   ]
  },
  {
   "cell_type": "code",
   "execution_count": 24,
   "metadata": {},
   "outputs": [
    {
     "data": {
      "text/plain": [
       "b'\\xfc'"
      ]
     },
     "execution_count": 24,
     "metadata": {},
     "output_type": "execute_result"
    }
   ],
   "source": [
    "(-4).to_bytes(1, byteorder='little', signed = True)"
   ]
  },
  {
   "cell_type": "code",
   "execution_count": 5,
   "metadata": {},
   "outputs": [
    {
     "data": {
      "text/plain": [
       "b'\\xf3'"
      ]
     },
     "execution_count": 5,
     "metadata": {},
     "output_type": "execute_result"
    }
   ],
   "source": [
    "(-13).to_bytes(1, byteorder='little', signed = True)"
   ]
  },
  {
   "cell_type": "code",
   "execution_count": 7,
   "metadata": {},
   "outputs": [
    {
     "data": {
      "text/plain": [
       "b'\\xf3\\xff'"
      ]
     },
     "execution_count": 7,
     "metadata": {},
     "output_type": "execute_result"
    }
   ],
   "source": [
    "(-13).to_bytes(2, byteorder='little', signed = True)"
   ]
  },
  {
   "cell_type": "code",
   "execution_count": 10,
   "metadata": {},
   "outputs": [
    {
     "data": {
      "text/plain": [
       "b'\\xf3\\xff\\xff\\xff\\xff\\xff\\xff\\xff\\xff\\xff\\xff\\xff\\xff\\xff\\xff\\xff\\xff\\xff\\xff\\xff\\xff\\xff\\xff\\xff\\xff\\xff\\xff\\xff\\xff\\xff\\xff\\xff\\xff\\xff\\xff\\xff\\xff\\xff\\xff\\xff\\xff\\xff\\xff\\xff\\xff\\xff\\xff\\xff\\xff\\xff\\xff\\xff\\xff\\xff\\xff\\xff\\xff\\xff\\xff\\xff\\xff\\xff\\xff\\xff\\xff\\xff\\xff\\xff\\xff\\xff\\xff\\xff\\xff\\xff\\xff\\xff\\xff\\xff\\xff\\xff\\xff\\xff\\xff\\xff\\xff\\xff\\xff\\xff\\xff\\xff\\xff\\xff\\xff\\xff\\xff\\xff\\xff\\xff\\xff\\xff'"
      ]
     },
     "execution_count": 10,
     "metadata": {},
     "output_type": "execute_result"
    }
   ],
   "source": [
    "(-13).to_bytes(100, byteorder='little', signed = True)"
   ]
  },
  {
   "cell_type": "markdown",
   "metadata": {},
   "source": [
    "#### from_bytes()\n",
    "- 바이트 형태를 정수로 나타내기"
   ]
  },
  {
   "cell_type": "code",
   "execution_count": 43,
   "metadata": {},
   "outputs": [
    {
     "data": {
      "text/plain": [
       "-13"
      ]
     },
     "execution_count": 43,
     "metadata": {},
     "output_type": "execute_result"
    }
   ],
   "source": [
    "int.from_bytes(b'\\xf3', byteorder='big', signed = True)"
   ]
  },
  {
   "cell_type": "markdown",
   "metadata": {},
   "source": [
    "#### 직접 보수계산 한 -13이 10000011 로 변하는지 바이트 확인해보기\n",
    "- 11110011 로 변한 이유\n",
    "    - 기본적으로 8bit 상태니까 1의 보수 계산 시 앞자리 4개가 1로 변하는걸 깜빡함\n",
    "\n",
    "- 계산 시 맨 앞자리 1을 적은 이유?\n",
    "    - 맨 앞 1이 음수를 나타낸다고 공부했기때문, 음수는 맨 앞에 1, 양수는 0인 이유를 찬찬히 생각해보면 왜 그런지 알 수 있다. 8bit 는 정수(음수포함)를 -128 ~ 127 까지 표현 할 수 있다. 128은 2의 7승, 7자리로 수를 표현하고 맨 앞 1자리는 부호를 표현하기 때문이다. 밑에서 -129를 1바이트로 표현 할 때 에러가 발생하는 것을 볼 수 있다."
   ]
  },
  {
   "cell_type": "code",
   "execution_count": 31,
   "metadata": {},
   "outputs": [
    {
     "data": {
      "text/plain": [
       "'0b11110011'"
      ]
     },
     "execution_count": 31,
     "metadata": {},
     "output_type": "execute_result"
    }
   ],
   "source": [
    "bin(0xf3)"
   ]
  },
  {
   "cell_type": "code",
   "execution_count": 41,
   "metadata": {},
   "outputs": [
    {
     "data": {
      "text/plain": [
       "'-0b1101'"
      ]
     },
     "execution_count": 41,
     "metadata": {},
     "output_type": "execute_result"
    }
   ],
   "source": [
    "bin(-13)\n",
    "# bin 으로는 음수 시에 그냥 '-' 문자를 추가해줄뿐이다."
   ]
  },
  {
   "cell_type": "code",
   "execution_count": 44,
   "metadata": {},
   "outputs": [
    {
     "data": {
      "text/plain": [
       "243"
      ]
     },
     "execution_count": 44,
     "metadata": {},
     "output_type": "execute_result"
    }
   ],
   "source": [
    "int(0b11110011)\n",
    "# int -13에 해당하는 바이트를 넣으면 나오는 수는 \n",
    "# 단순히 2진수 11110011 를 계산한 수이다.\n",
    "# 당연한 결과 \n",
    "# 음수를 나타내는 바이트(보수 적용)는 \n",
    "# (to, from)_byte 함수를 사용해서 볼 수 있다."
   ]
  },
  {
   "cell_type": "code",
   "execution_count": 208,
   "metadata": {},
   "outputs": [
    {
     "name": "stdout",
     "output_type": "stream",
     "text": [
      "b'\\x80' b'\\x7f'\n",
      "0b10000000 0b1111111\n",
      "128\n"
     ]
    }
   ],
   "source": [
    "a = (-128).to_bytes(1, byteorder='little', signed = True)\n",
    "b = (127).to_bytes(1, byteorder='little', signed = True)\n",
    "\n",
    "print(a, b)\n",
    "print(bin(0x80), bin(0x7f))\n",
    "\n",
    "print(a[0]) \n",
    "# 얘가 128이 나오는건 -128이 이진수 11111111 이기때문이겠지?\n",
    "# 그렇다면 함수에서 해석하는 이진수와 \n",
    "# 컴퓨터가 받아들이는 바이트의 이진수는 다르게 작동한다는것을 알 수 있다\n",
    "\n",
    "# (-129).to_bytes(1, byteorder='little', signed = True)\n",
    "# 1바이트로 나타낼 수 있는 정수범위를 넘었기에 에러가 난다 \n",
    "# 바이트 수를 2로 바꿔주면 다시 작동\n",
    "# -128 ~ 127 까지가 1바이트로 나타낼 수 있는 범위"
   ]
  },
  {
   "cell_type": "code",
   "execution_count": 209,
   "metadata": {},
   "outputs": [
    {
     "name": "stdout",
     "output_type": "stream",
     "text": [
      "b'\\x80'\n",
      "128\n",
      "0b10000000\n"
     ]
    }
   ],
   "source": [
    "# to_bytes() 함수가 리턴한 바이트형을 \n",
    "# bin() 함수에 직접 넣어줄 수 있는 형태로 바꿔주는 함수를 만들어 보았따.\n",
    "\n",
    "def bytes_to_int(bytes):\n",
    "    bytes_to_str = str(bytes)\n",
    "    modified_str = bytes_to_str.replace(\"'\", '').replace(\"b\\\\\", '0')\n",
    "    str_to_int = int(modified_str, 16)\n",
    "    return str_to_int\n",
    "\n",
    "print(a)\n",
    "print(bytes_to_int(a))\n",
    "print(bin(bytes_to_int(a)))\n",
    "\n",
    "# -128 구하는 과정 \n",
    "# -> 이진수 128 = 1000 0000\n",
    "# -> 128의 1의보수 = 0111 1111\n",
    "# -> 2의 보수(+1) = 1000 0000"
   ]
  }
 ],
 "metadata": {
  "kernelspec": {
   "display_name": "Python 3",
   "language": "python",
   "name": "python3"
  },
  "language_info": {
   "codemirror_mode": {
    "name": "ipython",
    "version": 3
   },
   "file_extension": ".py",
   "mimetype": "text/x-python",
   "name": "python",
   "nbconvert_exporter": "python",
   "pygments_lexer": "ipython3",
   "version": "3.6.5"
  }
 },
 "nbformat": 4,
 "nbformat_minor": 2
}
