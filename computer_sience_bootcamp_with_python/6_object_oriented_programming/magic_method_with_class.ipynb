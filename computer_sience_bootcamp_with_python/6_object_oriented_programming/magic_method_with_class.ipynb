{
 "cells": [
  {
   "cell_type": "code",
   "execution_count": 1,
   "metadata": {},
   "outputs": [],
   "source": [
    "class TestClass:\n",
    "    '''\n",
    "    이것은 docstring 입니다\n",
    "    '''\n",
    "    def __init__(self, name):\n",
    "        self.name = name\n",
    "        \n",
    "    def method_function(self):\n",
    "        '''\n",
    "        함수안의 docstring\n",
    "        '''\n",
    "        print('this is method function')\n",
    "        \n",
    "    def __call__(self, x, y):\n",
    "        return x + y\n",
    "    \n",
    "    def __getattr__(self, attribute):\n",
    "        return f'{attribute} 는 없다 이놈아'\n",
    "\n",
    "        \n",
    "def common_function():\n",
    "    print('this is common function')\n",
    "\n",
    "a = TestClass('안녕')\n",
    "b = common_function"
   ]
  },
  {
   "cell_type": "code",
   "execution_count": 2,
   "metadata": {},
   "outputs": [
    {
     "name": "stdout",
     "output_type": "stream",
     "text": [
      "['__call__', '__class__', '__delattr__', '__dict__', '__dir__', '__doc__', '__eq__', '__format__', '__ge__', '__getattr__', '__getattribute__', '__gt__', '__hash__', '__init__', '__init_subclass__', '__le__', '__lt__', '__module__', '__ne__', '__new__', '__reduce__', '__reduce_ex__', '__repr__', '__setattr__', '__sizeof__', '__str__', '__subclasshook__', '__weakref__', 'method_function'] \n",
      " ['__call__', '__class__', '__delattr__', '__dict__', '__dir__', '__doc__', '__eq__', '__format__', '__ge__', '__getattr__', '__getattribute__', '__gt__', '__hash__', '__init__', '__init_subclass__', '__le__', '__lt__', '__module__', '__ne__', '__new__', '__reduce__', '__reduce_ex__', '__repr__', '__setattr__', '__sizeof__', '__str__', '__subclasshook__', '__weakref__', 'method_function', 'name'] \n",
      " ['__call__', '__class__', '__delattr__', '__dir__', '__doc__', '__eq__', '__format__', '__func__', '__ge__', '__get__', '__getattribute__', '__gt__', '__hash__', '__init__', '__init_subclass__', '__le__', '__lt__', '__ne__', '__new__', '__reduce__', '__reduce_ex__', '__repr__', '__self__', '__setattr__', '__sizeof__', '__str__', '__subclasshook__'] \n",
      " ['__annotations__', '__call__', '__class__', '__closure__', '__code__', '__defaults__', '__delattr__', '__dict__', '__dir__', '__doc__', '__eq__', '__format__', '__ge__', '__get__', '__getattribute__', '__globals__', '__gt__', '__hash__', '__init__', '__init_subclass__', '__kwdefaults__', '__le__', '__lt__', '__module__', '__name__', '__ne__', '__new__', '__qualname__', '__reduce__', '__reduce_ex__', '__repr__', '__setattr__', '__sizeof__', '__str__', '__subclasshook__']\n"
     ]
    }
   ],
   "source": [
    "# 클래스와 함수에 들어가는 dir 의 차이와 용도를 알아본다\n",
    "print(\n",
    "    dir(TestClass),\n",
    "    '\\n',\n",
    "    dir(a), # 인스턴스\n",
    "    '\\n',\n",
    "    dir(a.method_function), # 인스턴스의 메소드(호출포함)\n",
    "    '\\n',\n",
    "    dir(b), # 일반함수\n",
    ")"
   ]
  },
  {
   "cell_type": "markdown",
   "metadata": {},
   "source": [
    "- 인스턴스의 메소드와 일반함수를 dir() 해본 결과\n",
    "    - 호출 시 () o  \n",
    "    둘다 같은 attribute 가짐, 따라서 인스턴스의 메소드나 일반 함수나 같은 방식으로 동작한다는 것을 알 수 있다.  \n",
    "    - 호출 없음 () x  \n",
    "        - 일반 함수만 가지는 attribute:  \n",
    "            annotations, closure, code, default, dict, globals, kwdefault, module, name, qualname, \n",
    "        - 인스턴스 메소드만 가지는 attribute:  \n",
    "            func, self, \n",
    "            \n",
    "attribute 의 동작을 공부하면서 왜 저렇게 다르고 어떻게 작동하는지 참고하자 "
   ]
  },
  {
   "cell_type": "code",
   "execution_count": 3,
   "metadata": {},
   "outputs": [
    {
     "name": "stdout",
     "output_type": "stream",
     "text": [
      "<class '__main__.TestClass'> <class 'function'>\n",
      "<class '__main__.TestClass'> <class 'function'>\n",
      "<class 'type'> <class 'type'>\n"
     ]
    }
   ],
   "source": [
    "'''__class__\n",
    "- class instance 가 속한 class\n",
    "- type() 실행 시 object.__class__와 같은 object 를 return'''\n",
    "print(a.__class__, b.__class__)\n",
    "print(type(a), type(b))\n",
    "print(type(type), type.__class__)"
   ]
  },
  {
   "cell_type": "code",
   "execution_count": 4,
   "metadata": {},
   "outputs": [
    {
     "name": "stdout",
     "output_type": "stream",
     "text": [
      "<function TestClass.__call__ at 0x7f5535641488>\n",
      "<bound method TestClass.__call__ of <__main__.TestClass object at 0x7f553564eef0>>\n",
      "3\n",
      "True True True\n"
     ]
    }
   ],
   "source": [
    "'''__call__\n",
    "- () 를 의미, callable() 함수가 True 를 return 한다면 __call__ 있다고 볼수있다.(아닌경우도 있음)\n",
    "- 클래스는 callable(인스턴스 생성 시 사용)\n",
    "- 클래스에 __call__() 구현 할 경우 인스턴스를 함수처럼 동작하게 할 수 있다.'''\n",
    "print(TestClass.__call__)\n",
    "print(a.__call__)\n",
    "print(a(1, 2))\n",
    "print(callable(a), callable(TestClass), callable(b))"
   ]
  },
  {
   "cell_type": "code",
   "execution_count": 5,
   "metadata": {},
   "outputs": [
    {
     "name": "stdout",
     "output_type": "stream",
     "text": [
      "안녕 안녕\n",
      "no 는 없다 이놈아\n",
      "True\n",
      "no 는 없다 이놈아\n",
      "안녕\n",
      "hello\n",
      "True\n"
     ]
    },
    {
     "data": {
      "text/plain": [
       "\"정리해보기 \\n같은 기능을 하는 3가지\\n    a.name\\n    getattr(a, 'name')\\n    a.__getattribute('name') \\n__getattr__ 의 역할 \\n    클래스에 정의된 경우, 존재하지 않는 attr 을 존재하는 것처럼 해준다(hasattr->T)\\n    정의 없는 경우, getattr 에서 에러발생(3번째 인자 유무에 따라 다름, hasattr->F)\\nget, set, del 친구들의 역할 \\n    클래스의 attr 에 들어갈 value 값을 설정, 삭제해주며 \\n    매직 매서드가 존재함으로서 \\n    del, getattr(), setattr() 과 같은 함수사용이 가능한 느낌.\""
      ]
     },
     "execution_count": 5,
     "metadata": {},
     "output_type": "execute_result"
    }
   ],
   "source": [
    "'''__getattr__, __setattr__, __delattr__, __getattribute__\n",
    "- hasattr() 함수는 getattr() 을 호출함으로써 실행된다고 한다(Error->False)\n",
    "- getattr\n",
    "You use\n",
    "__getattr__ to define how to handle attributes that are not found\n",
    "and\n",
    "getattr to get the attributes\n",
    "__getattribute__ 는 getattr() 과 같은 역할을 하는듯\n",
    "하지만 __getattr__ 은 없는 속성 처리를 위한 메서드인듯\n",
    "'''\n",
    "print(getattr(a, 'name'), a.name) # name 이 없을 경우 AttributeError \n",
    "# a.name 은 위의 getattr(a, 'name') 과 동일(쟤를 호출하나봐)\n",
    "\n",
    "print(getattr(a, 'no', 'a')) \n",
    "# no 라는 attr 이 없으면 'a' 를 리턴\n",
    "# (하지만 내가 직접 __getattr__을 정의했기때문에 해당하는 attr 이 없을 경우\n",
    "# 직접 정의한 __getattr__ 이 실행된다)\n",
    "\n",
    "print(hasattr(a, 'no')) \n",
    "# no 라는 attr 이 생성되는건 아니다.\n",
    "# (__getattr__ 이 정의되어 있다면 True를 반환\n",
    "# 정의되지 않았다면 False 를 반환)\n",
    "print(a.no) # __getattr__ 정의 했으므로 에러 안남(정의안하면 에러 발생)\n",
    "\n",
    "print(a.__getattribute__('name')) # 얘가 있어서 getattr() 이 되나봐?\n",
    "\n",
    "setattr(a, 'hi', 'hello') # a.hi = 'hello' 와 동일\n",
    "print(a.hi)\n",
    "\n",
    "delattr(a, 'hi') # del a.hi 와 동일 \n",
    "print(hasattr(a, 'hi'))\n",
    "\n",
    "'''정리해보기 \n",
    "같은 기능을 하는 3가지\n",
    "    a.name\n",
    "    getattr(a, 'name')\n",
    "    a.__getattribute('name') \n",
    "__getattr__ 의 역할 \n",
    "    클래스에 정의된 경우, 존재하지 않는 attr 을 존재하는 것처럼 해준다(hasattr->T)\n",
    "    정의 없는 경우, getattr 에서 에러발생(3번째 인자 유무에 따라 다름, hasattr->F)\n",
    "get, set, del 친구들의 역할 \n",
    "    클래스의 attr 에 들어갈 value 값을 설정, 삭제해주며 \n",
    "    매직 매서드가 존재함으로서 \n",
    "    del, getattr(), setattr() 과 같은 함수사용이 가능한 느낌.'''"
   ]
  },
  {
   "cell_type": "code",
   "execution_count": 6,
   "metadata": {},
   "outputs": [
    {
     "name": "stdout",
     "output_type": "stream",
     "text": [
      "['name', '__module__', '__doc__', '__init__', 'method_function', '__call__', '__getattr__', '__dict__', '__weakref__', '__repr__', '__hash__', '__str__', '__getattribute__', '__setattr__', '__delattr__', '__lt__', '__le__', '__eq__', '__ne__', '__gt__', '__ge__', '__new__', '__reduce_ex__', '__reduce__', '__subclasshook__', '__init_subclass__', '__format__', '__sizeof__', '__dir__', '__class__'] \n",
      " ['__call__', '__class__', '__delattr__', '__dict__', '__dir__', '__doc__', '__eq__', '__format__', '__ge__', '__getattr__', '__getattribute__', '__gt__', '__hash__', '__init__', '__init_subclass__', '__le__', '__lt__', '__module__', '__ne__', '__new__', '__reduce__', '__reduce_ex__', '__repr__', '__setattr__', '__sizeof__', '__str__', '__subclasshook__', '__weakref__', 'method_function', 'name']\n"
     ]
    }
   ],
   "source": [
    "'''__dir__\n",
    "dir()이 객체에서 호출 될 때 실행된다.\n",
    "객체가 __dir__ 이 없거나 __getattr__ 커스텀 정의가 있는경우엔\n",
    "dir() 실행 시 정확한 값이 return 되지 않을 수도 있다.'''\n",
    "print(a.__dir__(), '\\n', dir(a)) # 같은 값"
   ]
  },
  {
   "cell_type": "code",
   "execution_count": 7,
   "metadata": {},
   "outputs": [
    {
     "data": {
      "text/plain": [
       "{'name': '안녕'}"
      ]
     },
     "execution_count": 7,
     "metadata": {},
     "output_type": "execute_result"
    }
   ],
   "source": [
    "'''__dict__\n",
    "A dictionary or other mapping object used \n",
    "to store an object’s (writable) attributes. <- 공식문서\n",
    "Keep 메모 참고 할 것(설명 깃 주소)\n",
    "__dict__ 는 단지 인스턴스의 'local' attr 을 보여줄 뿐이다.\n",
    "하지만 dir() 은 더 확장시킨 전체적인 attr 을 알 수 있다.\n",
    "'''\n",
    "a.__dict__"
   ]
  },
  {
   "cell_type": "code",
   "execution_count": 8,
   "metadata": {},
   "outputs": [
    {
     "name": "stdout",
     "output_type": "stream",
     "text": [
      "\n",
      "    이것은 docstring 입니다\n",
      "    \n",
      "\n",
      "        함수안의 docstring\n",
      "        \n",
      "None\n"
     ]
    }
   ],
   "source": [
    "''' ___doc___\n",
    "docstring 은 클래스나 함수 내부의 apostrophe(')에 담긴 \n",
    "내용들을 볼 수 있다. 만약 docstring 이 없는 경우에는 \n",
    "리턴값이 없거나 __getattr__ 이 실행된다.(정의된 경우)\n",
    "'''\n",
    "print(a.__doc__)\n",
    "print(a.method_function.__doc__)\n",
    "print(b.__doc__)"
   ]
  },
  {
   "cell_type": "code",
   "execution_count": 9,
   "metadata": {},
   "outputs": [
    {
     "name": "stdout",
     "output_type": "stream",
     "text": [
      "__name__ 는 없다 이놈아 __qualname__ 는 없다 이놈아\n",
      "TestClass TestClass\n",
      "method_function TestClass.method_function <class 'method'>\n",
      "common_function common_function <class 'function'>\n"
     ]
    }
   ],
   "source": [
    "''' __name__, __qualname__\n",
    "정의된 이름과 qualified name 을 보여준다.\n",
    "qualname 은 단순히 name 뿐만아니라 global 하게 알 수 있다\n",
    "두 속성은 colon 과 같이 정의된 객체들에게 부여되어있다\n",
    "변수라던가 인스턴스의 경우 두 속성을 가지고 있지 않다\n",
    "'''\n",
    "print(a.__name__, a.__qualname__)\n",
    "print(TestClass.__name__, TestClass.__qualname__)\n",
    "\n",
    "print(a.method_function.__name__, a.method_function.__qualname__, a.method_function.__class__)\n",
    "print(b.__name__, b.__qualname__, b.__class__)"
   ]
  },
  {
   "cell_type": "code",
   "execution_count": 10,
   "metadata": {},
   "outputs": [
    {
     "name": "stdout",
     "output_type": "stream",
     "text": [
      "__main__ __main__ __main__ __main__\n",
      "<__main__.TestClass object at 0x7f553564eef0> \n",
      " <bound method Random.choice of <random.Random object at 0x55eed7cfa668>>\n",
      "random choice\n",
      "__main__\n"
     ]
    }
   ],
   "source": [
    "'''__module__, __name__, __main__\n",
    "\n",
    "__module__ 해당 객체가 속한 스크립트의 module name(파일명)을 보여준다.\n",
    "이 때 스크립트는 당연히 .py(파이썬 파일)\n",
    "단 해당 스크립트가 현재 \"실행중\"일 경우 module name 은 \"__main__\"이 된다.\n",
    "\n",
    "if __name__ = \"__main__\": 을 자주 보게되는데 \n",
    "이 경우 실행중인 스크립트의 module name 은 __main__ 이 되므로 \n",
    "\n",
    "해당 스크립트가 import 되어 사용되는지 여부를 알기 위해서 \n",
    "또는 \n",
    "프로그램의 시작점일 때만 특정 코드를 실행하기위해 사용된다.\n",
    "\n",
    "'''\n",
    "print(\n",
    "    TestClass.__module__,\n",
    "    a.__module__, \n",
    "    a.method_function.__module__,\n",
    "    b.__module__\n",
    ")\n",
    "\n",
    "import random\n",
    "\n",
    "# a는 __main__.TestClass random 은 Random.choice\n",
    "print(a, '\\n', random.choice)\n",
    "# module 과 name 을 헷갈리말자 \n",
    "# 함수나 클래스에 사용하는 __name__과 스크립트 실행여부를 알기위한 용도의 __name__은 \n",
    "# 같은 원리이지만 용도가 다른느낌이니까 헷갈리지말자\n",
    "print(random.choice.__module__, random.choice.__name__)\n",
    "\n",
    "# 현재 실행중이므로 __main__ 리턴)\n",
    "print(__name__)"
   ]
  },
  {
   "cell_type": "code",
   "execution_count": 11,
   "metadata": {},
   "outputs": [
    {
     "name": "stdout",
     "output_type": "stream",
     "text": [
      "False True False False True True\n",
      "None 레퍼런스가 다르다\n"
     ]
    }
   ],
   "source": [
    "'''\n",
    "__eq__, __ne__, __ge__, __gt__, __le__, __lt__\n",
    "operator(연산자) 기능\n",
    "\"rich comparison\" method 라고 한다'''\n",
    "c = 1\n",
    "print(\n",
    "    c.__eq__(2),\n",
    "    c.__ne__(2),\n",
    "    c.__ge__(2),\n",
    "    c.__gt__(2),\n",
    "    c.__le__(2),\n",
    "    c.__lt__(2),\n",
    ")\n",
    "\n",
    "# eq 를 customizing 해보았다 \n",
    "# 절대 건들진 말자.\n",
    "# other 이 부호 뒤에오는 None 을 받아서 처리한다\n",
    "class Eq:\n",
    "    def __eq__(self, other):\n",
    "        if self is other:\n",
    "            return print(f'{other} 레퍼런스가 같다')\n",
    "        else: \n",
    "            return print(f'{other} 레퍼런스가 다르다')\n",
    "        \n",
    "e = Eq()\n",
    "e == None\n"
   ]
  },
  {
   "cell_type": "code",
   "execution_count": 12,
   "metadata": {},
   "outputs": [
    {
     "name": "stdout",
     "output_type": "stream",
     "text": [
      "8750246547183\n",
      "1 1 1 1 True False\n"
     ]
    }
   ],
   "source": [
    "'''__hash__\n",
    "hash 는 두가지의 용도로 프로그래밍에 쓰인다.\n",
    "1. 내가 어딘가에 저장해둔 무언가를 찾기위해(검색)\n",
    "2. 파일 간섭이나 비밀번호 보호을 위해(보안)\n",
    "\n",
    "'''\n",
    "\n",
    "########### hash table 알고리즘 공부하고 다시 확실히 정리하자 ############\n",
    "\n",
    "print(a.__hash__())\n",
    "\n",
    "# operator 를 사용하는 경우 \n",
    "# \n",
    "e = 1\n",
    "f = 1.0\n",
    "print(\n",
    "    hash(e),\n",
    "    hash(f),\n",
    "    e.__hash__(),\n",
    "    f.__hash__(),\n",
    "    e == f,\n",
    "    e is f,\n",
    ")\n"
   ]
  },
  {
   "cell_type": "code",
   "execution_count": 13,
   "metadata": {},
   "outputs": [
    {
     "name": "stdout",
     "output_type": "stream",
     "text": [
      "this is method function\n",
      "<class '__main__.TestClass'> \n",
      " None \n",
      " name 는 없다 이놈아 \n",
      " True \n",
      " True\n"
     ]
    }
   ],
   "source": [
    "'''__new__(static class method)\n",
    "instance 를 만들 때 new 는 init 에 앞서 객체생성을 할당하고\n",
    "new 가 init 을 호출해서 사용할 초기값들을 initialize 하게 된다.\n",
    "\n",
    "Foo() -> __new__(allocator) -> __init__(initializer)\n",
    "\n",
    "Use __new__ when you need to control the creation of a new instance. \n",
    "Use __init__ when you need to control initialization of a new instance.\n",
    "\n",
    "또한 new 의 경우 새 인스턴스를 return 하지만 \n",
    "init 의 경우 return 이 없고(return 아예 불가능) new 가 만들어준 instance 에 \n",
    "parameter 로 self 를 받아 initializing 한다\n",
    "\n",
    "new 는 cls 를 parameter 로 받으며 \n",
    "new 가 호출 되었을 때, 아직 init 을 위한 self 가 존재하지 않는다\n",
    "(enable to use 'self' after __new__)\n",
    "'''\n",
    "# new 를 사용해서 클래스 creation 만 해봄\n",
    "# 이 때 init 에 필요한 name 이 없음에도 불구하고 클래스 생성 됨\n",
    "new_a = TestClass.__new__(TestClass)\n",
    "# new_b = TestClass() <- name 안넣었다고 init 이 안됨\n",
    "print(\n",
    "    type(new_a), '\\n',\n",
    "    new_a.method_function(), '\\n', # instance method 잘 동작\n",
    "    new_a.name, '\\n', # name 존재하지 않음 \n",
    "    type(new_a) == type(a), '\\n', # 같은 클래스 맞다 \n",
    "    isinstance(new_a, TestClass), # instance 맞다\n",
    ")\n"
   ]
  },
  {
   "cell_type": "code",
   "execution_count": 14,
   "metadata": {},
   "outputs": [
    {
     "name": "stdout",
     "output_type": "stream",
     "text": [
      "A.__new__ called\n",
      "A.__init__ called\n",
      "B.__new__ called\n"
     ]
    }
   ],
   "source": [
    "'''\n",
    "new 를 overriding 하는 경우\n",
    "In general, you shouldn't need to override __new__ \n",
    "unless you're subclassing an immutable type like str, int, unicode or tuple.\n",
    "불변 타입을 서브클래스화 하지 않는다면 new 를 override 할 필요없다는데\n",
    "무슨소리인지 잘 모르겠다 ㅎㅎㅎ \n",
    "일단 밑에 보이는 정도로 이해하고 넘어가자\n",
    "'''\n",
    "\n",
    "# 꼭 object 를 상속받아야 한다고 블로그에있는데(class A(object)의 방식) \n",
    "# 파이썬 버젼이 높아지면서 기본적으로 상속되어 있는듯\n",
    "class A:\n",
    "    def __new__(cls):\n",
    "        print(\"A.__new__ called\")\n",
    "        return super(A, cls).__new__(cls)\n",
    "    \n",
    "    def __init__(self):\n",
    "        print(\"A.__init__ called\")\n",
    "\n",
    "\n",
    "# __new__ return 에서 super(상속)를 없애면\n",
    "# init 을 호출하지 않기때문에 객체생성만 하고 initialize 과정이 없게된다\n",
    "class B:\n",
    "    def __new__(cls):\n",
    "        print(\"B.__new__ called\")\n",
    "#         return super(B, cls).__new__(cls)\n",
    "    \n",
    "    def __init__(self):\n",
    "        print(\"B.__init__ called\")\n",
    "        \n",
    "        \n",
    "A()\n",
    "B() # init 실행되지 않음"
   ]
  },
  {
   "cell_type": "code",
   "execution_count": 17,
   "metadata": {},
   "outputs": [
    {
     "data": {
      "text/plain": [
       "'__init_subclass__ 를 알기위해선 메타클래스, 데코레이터를 공부하고 다시 보자\\n'"
      ]
     },
     "execution_count": 17,
     "metadata": {},
     "output_type": "execute_result"
    }
   ],
   "source": [
    "'''__init_subclass__ 를 알기위해선 메타클래스, 데코레이터를 공부하고 다시 보자\n",
    "'''\n"
   ]
  }
 ],
 "metadata": {
  "kernelspec": {
   "display_name": "Python 3",
   "language": "python",
   "name": "python3"
  },
  "language_info": {
   "codemirror_mode": {
    "name": "ipython",
    "version": 3
   },
   "file_extension": ".py",
   "mimetype": "text/x-python",
   "name": "python",
   "nbconvert_exporter": "python",
   "pygments_lexer": "ipython3",
   "version": "3.6.5"
  }
 },
 "nbformat": 4,
 "nbformat_minor": 2
}
