{
 "cells": [
  {
   "cell_type": "code",
   "execution_count": 1,
   "metadata": {},
   "outputs": [
    {
     "name": "stdout",
     "output_type": "stream",
     "text": [
      "<generator object square_numbers at 0x7effac93da98>\n"
     ]
    }
   ],
   "source": [
    "# generator 함수 생성\n",
    "def square_numbers(nums):\n",
    "    for i in nums:\n",
    "        yield i * i\n",
    "                \n",
    "# genarator 함수\n",
    "my_generator = square_numbers([1, 2, 3])\n",
    "\n",
    "# genarator라는 오브젝트가 리턴됨을 볼 수 있다.\n",
    "print(my_generator)\n",
    "\n",
    "# generator는 자신이 리턴할 모든 값을 메모리에 저장하지 않기에\n",
    "# 리스트로 보이지 않는다. 한번 호출할 때 마다 하나의 값만을 yield(생산, 전달) 한다\n",
    "# print(next(my_generator))\n",
    "# print(next(my_generator))\n",
    "# print(next(my_generator))"
   ]
  },
  {
   "cell_type": "code",
   "execution_count": 2,
   "metadata": {},
   "outputs": [
    {
     "name": "stdout",
     "output_type": "stream",
     "text": [
      "1\n",
      "4\n",
      "9\n"
     ]
    }
   ],
   "source": [
    "'''만약 위 코드에서 next() 로 generator 값 1, 4, 9 를 \n",
    "모두 출력했다면 for문의 my_generator 는 가진 값이 없어서 \n",
    "아무것도 출력하지 않게 된다'''\n",
    "for num in my_generator:\n",
    "    print(num)"
   ]
  },
  {
   "cell_type": "code",
   "execution_count": 3,
   "metadata": {},
   "outputs": [
    {
     "name": "stdout",
     "output_type": "stream",
     "text": [
      "<generator object <genexpr> at 0x7effac93dbf8>\n",
      "1\n",
      "4\n",
      "9\n"
     ]
    }
   ],
   "source": [
    "'''\n",
    "list comprehension 과 같은 방식으로 generator 생성 가능\n",
    "'''\n",
    "my_nums = (x*x for x in [1, 2, 3])\n",
    "print(my_nums)\n",
    "\n",
    "for num in my_nums:\n",
    "    print(num)\n",
    "# list(my_nums) 를 해주면 한번에 데이터를 볼 수 있다"
   ]
  },
  {
   "cell_type": "markdown",
   "metadata": {},
   "source": [
    "#### generator 를 사용하여 메모리 사용량 비교해보기"
   ]
  },
  {
   "cell_type": "code",
   "execution_count": 4,
   "metadata": {},
   "outputs": [],
   "source": [
    "from __future__ import division\n",
    "import os\n",
    "import psutil\n",
    "import random\n",
    "import time\n",
    "\n",
    "names = ['최용호', '지길정', '진영욱', '김세훈', '오세훈', '김민우']\n",
    "majors = ['컴퓨터 공학', '국문학', '영문학', '수학', '정치']\n",
    "\n",
    "process = psutil.Process(os.getpid())\n",
    "memory_before = process.memory_info().rss / 1024 / 1024\n",
    "\n",
    "def people_list(num_people):\n",
    "    result = []\n",
    "    for i in range(num_people):\n",
    "        person = {\n",
    "            'id': i,\n",
    "            'name': random.choice(names),\n",
    "            'major': random.choice(majors),\n",
    "        }\n",
    "        result.append(person)\n",
    "    return result\n",
    "\n",
    "def people_generator(num_people):\n",
    "    for i in range(num_people):\n",
    "        person = {\n",
    "            'id': i,\n",
    "            'name': random.choice(names),\n",
    "            'major': random.choice(major),\n",
    "        }\n",
    "        yield person\n"
   ]
  },
  {
   "cell_type": "code",
   "execution_count": 5,
   "metadata": {},
   "outputs": [
    {
     "name": "stdout",
     "output_type": "stream",
     "text": [
      "45.62109375\n",
      "72.8203125\n",
      "0.2674934950000001\n"
     ]
    }
   ],
   "source": [
    "'''process_time() 은 현재 코드가 실행되는데 걸리는 시간이다 \n",
    "time.clock 과 같은 역할이지만 python3 에서는 이 방법을 권장한다'''\n",
    "t1 = time.process_time()\n",
    "people = people_list(100000)\n",
    "t2 = time.process_time()\n",
    "memory_after = process.memory_info().rss / 1024 / 1024\n",
    "total_time = t2 - t1\n",
    "\n",
    "print(memory_before)\n",
    "print(memory_after)\n",
    "print(total_time)"
   ]
  },
  {
   "cell_type": "code",
   "execution_count": 6,
   "metadata": {},
   "outputs": [
    {
     "name": "stdout",
     "output_type": "stream",
     "text": [
      "45.62109375\n",
      "47.30078125\n",
      "0.011788205999999968\n"
     ]
    }
   ],
   "source": [
    "t1 = time.process_time()\n",
    "people = people_generator(100000)\n",
    "t2 = time.process_time()\n",
    "memory_after = process.memory_info().rss / 1024 / 1024\n",
    "total_time = t2 - t1\n",
    "\n",
    "print(memory_before)\n",
    "print(memory_after)\n",
    "print(total_time)"
   ]
  }
 ],
 "metadata": {
  "kernelspec": {
   "display_name": "Python 3",
   "language": "python",
   "name": "python3"
  },
  "language_info": {
   "codemirror_mode": {
    "name": "ipython",
    "version": 3
   },
   "file_extension": ".py",
   "mimetype": "text/x-python",
   "name": "python",
   "nbconvert_exporter": "python",
   "pygments_lexer": "ipython3",
   "version": "3.6.5"
  }
 },
 "nbformat": 4,
 "nbformat_minor": 2
}
