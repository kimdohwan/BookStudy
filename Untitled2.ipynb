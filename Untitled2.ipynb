{
 "cells": [
  {
   "cell_type": "code",
   "execution_count": 187,
   "metadata": {},
   "outputs": [],
   "source": [
    "\"\"\"\n",
    "7n 이거나 7을 포함하면 차순이 바뀐다.\"\"\"\n",
    "\n",
    "# +1 -1 을 하는 과정에서 n 번째에서 멈추면 된다 \n",
    "\n",
    "\n",
    "def pingpong(n):\n",
    "    if n == 1:\n",
    "        return 1\n",
    "    \n",
    "    i = 1\n",
    "    ni = 1\n",
    "    direction = 1\n",
    "    \n",
    "    while True:\n",
    "        print(ni, direction if direction == -1 else '')\n",
    "        if n == i:\n",
    "            return ni\n",
    "        \n",
    "        if i % 7 == 0 or i % 10 == 7 or i // 10 == 7:\n",
    "            direction = -direction\n",
    "        \n",
    "        i += 1\n",
    "        ni += direction\n",
    "\n",
    "def o(n):\n",
    "    if n % 7 == 0 or n % 10 == 7 or n // 10 == 7:\n",
    "        return -1\n",
    "    else: \n",
    "        return 1\n",
    "        \n",
    "def p(n):\n",
    "    \n",
    "    return "
   ]
  },
  {
   "cell_type": "code",
   "execution_count": 190,
   "metadata": {},
   "outputs": [
    {
     "name": "stdout",
     "output_type": "stream",
     "text": [
      "1 \n",
      "2 \n",
      "3 \n",
      "4 \n",
      "5 \n",
      "6 \n",
      "7 \n",
      "6 -1\n",
      "5 -1\n",
      "4 -1\n",
      "3 -1\n",
      "2 -1\n",
      "1 -1\n",
      "0 -1\n",
      "1 \n",
      "2 \n",
      "3 \n",
      "2 -1\n",
      "1 -1\n",
      "0 -1\n",
      "-1 -1\n",
      "0 \n",
      "1 \n",
      "2 \n",
      "3 \n",
      "4 \n",
      "5 \n",
      "4 -1\n",
      "5 \n",
      "6 \n",
      "7 \n",
      "8 \n",
      "9 \n",
      "10 \n",
      "11 \n",
      "10 -1\n",
      "9 -1\n",
      "10 \n",
      "11 \n",
      "12 \n",
      "13 \n",
      "14 \n",
      "13 -1\n",
      "12 -1\n",
      "11 -1\n",
      "10 -1\n",
      "9 -1\n",
      "10 \n",
      "11 \n",
      "10 -1\n",
      "9 -1\n",
      "8 -1\n",
      "7 -1\n",
      "6 -1\n",
      "5 -1\n",
      "4 -1\n",
      "5 \n",
      "4 -1\n",
      "3 -1\n",
      "2 -1\n",
      "1 -1\n",
      "0 -1\n",
      "-1 -1\n",
      "0 \n",
      "1 \n",
      "2 \n",
      "3 \n",
      "2 -1\n"
     ]
    },
    {
     "data": {
      "text/plain": [
       "2"
      ]
     },
     "execution_count": 190,
     "metadata": {},
     "output_type": "execute_result"
    }
   ],
   "source": [
    "pingpong(68)"
   ]
  },
  {
   "cell_type": "code",
   "execution_count": 89,
   "metadata": {},
   "outputs": [
    {
     "name": "stdout",
     "output_type": "stream",
     "text": [
      "1 12.34\n"
     ]
    }
   ],
   "source": [
    "n = 1234\n",
    "print( n // 1000, n / 100)"
   ]
  }
 ],
 "metadata": {
  "kernelspec": {
   "display_name": "Python 3",
   "language": "python",
   "name": "python3"
  },
  "language_info": {
   "codemirror_mode": {
    "name": "ipython",
    "version": 3
   },
   "file_extension": ".py",
   "mimetype": "text/x-python",
   "name": "python",
   "nbconvert_exporter": "python",
   "pygments_lexer": "ipython3",
   "version": "3.6.7"
  }
 },
 "nbformat": 4,
 "nbformat_minor": 2
}
