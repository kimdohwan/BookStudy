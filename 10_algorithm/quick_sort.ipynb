{
 "cells": [
  {
   "cell_type": "markdown",
   "metadata": {},
   "source": [
    "#### 책에 나온 quick sort 예제 \n",
    "- 이 함수는 인자로 받는 data(배열)를 직접적으로 바꿔줌(return = None)"
   ]
  },
  {
   "cell_type": "code",
   "execution_count": 73,
   "metadata": {},
   "outputs": [],
   "source": [
    "def quick_sort(data, start, end):\n",
    "    \n",
    "    # 탈출 조건 \n",
    "    if start >= end:\n",
    "        print(f'함수 종료 start({start}) >= end({end})')\n",
    "        return \n",
    "    left = start\n",
    "    right = end\n",
    "    pivot = data[(start + end) // 2]\n",
    "    \n",
    "    print(\n",
    "          'left:', left, 'value:', data[left],\n",
    "          '\\nright:', right, 'value:', data[right],\n",
    "          '\\npivot 값:', pivot, '\\n'\n",
    "    )\n",
    "    \n",
    "    # until intersect left and right\n",
    "    while left <= right:\n",
    "        # it stops when the left data is greater than or equal to the pivot\n",
    "        while data[left] < pivot:\n",
    "            left += 1\n",
    "            print('left 인덱스 1 증가, left:', left, 'value:', data[left])\n",
    "            \n",
    "        # it stops when the right data is greater than or equal to the pivot\n",
    "        while data[right] > pivot:\n",
    "            right -= 1\n",
    "            print('right 인덱스 1 감소, right:', right, 'value:', data[right])\n",
    "        \n",
    "        print('\\nbefore exchange\\n', data)\n",
    "        # exchange if left and right don't intersect\n",
    "        if left <= right:\n",
    "            data[left], data[right] = data[right], data[left]\n",
    "            left += 1\n",
    "            right -= 1\n",
    "            print(\n",
    "                f'\\nexchange execution, \\nleft+1: {left}, value: {data[left]}\\nright-1: {right}, value: {data[right]}\\n',\n",
    "                data, '\\n'\n",
    "            )\n",
    "        \n",
    "    print('------------start right 함수 실행------------')    \n",
    "    quick_sort(data, start, right)\n",
    "    print('------------left end 함수 실행------------')\n",
    "    quick_sort(data, left, end)"
   ]
  },
  {
   "cell_type": "markdown",
   "metadata": {},
   "source": [
    "- pirnt() 해보면서 정렬과정 체크해보기 "
   ]
  },
  {
   "cell_type": "code",
   "execution_count": 80,
   "metadata": {},
   "outputs": [
    {
     "name": "stdout",
     "output_type": "stream",
     "text": [
      "left: 0 value: 8 \n",
      "right: 5 value: 5 \n",
      "pivot 값: 4 \n",
      "\n",
      "right 인덱스 1 감소, right: 4 value: 2\n",
      "\n",
      "before exchange\n",
      " [8, 9, 4, 6, 2, 5]\n",
      "\n",
      "exchange execution, \n",
      "left+1: 1, value: 9\n",
      "right-1: 3, value: 6\n",
      " [2, 9, 4, 6, 8, 5] \n",
      "\n",
      "right 인덱스 1 감소, right: 2 value: 4\n",
      "\n",
      "before exchange\n",
      " [2, 9, 4, 6, 8, 5]\n",
      "\n",
      "exchange execution, \n",
      "left+1: 2, value: 9\n",
      "right-1: 1, value: 4\n",
      " [2, 4, 9, 6, 8, 5] \n",
      "\n",
      "------------start right 함수 실행------------\n",
      "left: 0 value: 2 \n",
      "right: 1 value: 4 \n",
      "pivot 값: 2 \n",
      "\n",
      "right 인덱스 1 감소, right: 0 value: 2\n",
      "\n",
      "before exchange\n",
      " [2, 4, 9, 6, 8, 5]\n",
      "\n",
      "exchange execution, \n",
      "left+1: 1, value: 4\n",
      "right-1: -1, value: 5\n",
      " [2, 4, 9, 6, 8, 5] \n",
      "\n",
      "------------start right 함수 실행------------\n",
      "함수 종료 start(0) >= end(-1)\n",
      "------------left end 함수 실행------------\n",
      "함수 종료 start(1) >= end(1)\n",
      "------------left end 함수 실행------------\n",
      "left: 2 value: 9 \n",
      "right: 5 value: 5 \n",
      "pivot 값: 6 \n",
      "\n",
      "\n",
      "before exchange\n",
      " [2, 4, 9, 6, 8, 5]\n",
      "\n",
      "exchange execution, \n",
      "left+1: 3, value: 6\n",
      "right-1: 4, value: 8\n",
      " [2, 4, 5, 6, 8, 9] \n",
      "\n",
      "right 인덱스 1 감소, right: 3 value: 6\n",
      "\n",
      "before exchange\n",
      " [2, 4, 5, 6, 8, 9]\n",
      "\n",
      "exchange execution, \n",
      "left+1: 4, value: 8\n",
      "right-1: 2, value: 5\n",
      " [2, 4, 5, 6, 8, 9] \n",
      "\n",
      "------------start right 함수 실행------------\n",
      "함수 종료 start(2) >= end(2)\n",
      "------------left end 함수 실행------------\n",
      "left: 4 value: 8 \n",
      "right: 5 value: 9 \n",
      "pivot 값: 8 \n",
      "\n",
      "right 인덱스 1 감소, right: 4 value: 8\n",
      "\n",
      "before exchange\n",
      " [2, 4, 5, 6, 8, 9]\n",
      "\n",
      "exchange execution, \n",
      "left+1: 5, value: 9\n",
      "right-1: 3, value: 6\n",
      " [2, 4, 5, 6, 8, 9] \n",
      "\n",
      "------------start right 함수 실행------------\n",
      "함수 종료 start(4) >= end(3)\n",
      "------------left end 함수 실행------------\n",
      "함수 종료 start(5) >= end(5)\n"
     ]
    }
   ],
   "source": [
    "data = [8, 9, 4, 6, 2, 5]\n",
    "quick_sort(data, 0, len(data)-1)"
   ]
  },
  {
   "cell_type": "markdown",
   "metadata": {},
   "source": [
    "#### 위키백과 quick sort \n",
    "- 이 함수는 인자로 받은 x(배열)의 값을 변경하지 않고 return 값으로 정렬된 배열을 반환한다.  \n",
    "- cache 를 이용한 방식이다."
   ]
  },
  {
   "cell_type": "code",
   "execution_count": 63,
   "metadata": {},
   "outputs": [],
   "source": [
    "def quicksort(x):\n",
    "    if len(x) <= 1:\n",
    "        print('return: ', x)\n",
    "        return x\n",
    "    \n",
    "    pivot = x[len(x) // 2]\n",
    "    less = []\n",
    "    more = []\n",
    "    equal = []\n",
    "    print('------------', pivot)\n",
    "    for a in x:\n",
    "        if a < pivot:\n",
    "            print(f'{a} < {pivot}')\n",
    "            less.append(a)\n",
    "        elif a > pivot:\n",
    "            print(f'{a} > {pivot}')\n",
    "            more.append(a)\n",
    "        else:\n",
    "            print(f'{a} = {pivot}')\n",
    "            equal.append(a)\n",
    "        print('less = ', less, '\\n', 'more = ', more, '\\n', 'equal = ', equal, '\\n')\n",
    "    return quicksort(less) + equal + quicksort(more)"
   ]
  },
  {
   "cell_type": "code",
   "execution_count": 64,
   "metadata": {},
   "outputs": [
    {
     "name": "stdout",
     "output_type": "stream",
     "text": [
      "------------ 4\n",
      "5 > 4\n",
      "less =  [] \n",
      " more =  [5] \n",
      " equal =  [] \n",
      "\n",
      "3 < 4\n",
      "less =  [3] \n",
      " more =  [5] \n",
      " equal =  [] \n",
      "\n",
      "4 = 4\n",
      "less =  [3] \n",
      " more =  [5] \n",
      " equal =  [4] \n",
      "\n",
      "2 < 4\n",
      "less =  [3, 2] \n",
      " more =  [5] \n",
      " equal =  [4] \n",
      "\n",
      "1 < 4\n",
      "less =  [3, 2, 1] \n",
      " more =  [5] \n",
      " equal =  [4] \n",
      "\n",
      "------------ 2\n",
      "3 > 2\n",
      "less =  [] \n",
      " more =  [3] \n",
      " equal =  [] \n",
      "\n",
      "2 = 2\n",
      "less =  [] \n",
      " more =  [3] \n",
      " equal =  [2] \n",
      "\n",
      "1 < 2\n",
      "less =  [1] \n",
      " more =  [3] \n",
      " equal =  [2] \n",
      "\n",
      "return:  [1]\n",
      "return:  [3]\n",
      "return:  [5]\n"
     ]
    },
    {
     "data": {
      "text/plain": [
       "[1, 2, 3, 4, 5]"
      ]
     },
     "execution_count": 64,
     "metadata": {},
     "output_type": "execute_result"
    }
   ],
   "source": [
    "quicksort(x = [5,3,4,2,1])"
   ]
  },
  {
   "cell_type": "code",
   "execution_count": null,
   "metadata": {},
   "outputs": [],
   "source": []
  },
  {
   "cell_type": "markdown",
   "metadata": {},
   "source": [
    "### 코드 작성 연습\n"
   ]
  },
  {
   "cell_type": "code",
   "execution_count": 61,
   "metadata": {},
   "outputs": [],
   "source": [
    "def quick_sort(data, start, end):\n",
    "    if start >= end:\n",
    "        return \n",
    "    \n",
    "    left = start\n",
    "    right = end\n",
    "    p = data[(start + end) // 2]\n",
    "    \n",
    "    while left <= right:\n",
    "        \n",
    "        while data[left] < p:\n",
    "            left += 1\n",
    "            \n",
    "        while p < data[right]:\n",
    "            right -= 1\n",
    "            \n",
    "        if left <= right:\n",
    "            data[left], data[right] = data[right], data[left]\n",
    "            left += 1\n",
    "            right -= 1\n",
    "    \n",
    "    quick_sort(data, start, right)\n",
    "    quick_sort(data, left, end)\n",
    "            "
   ]
  },
  {
   "cell_type": "code",
   "execution_count": 62,
   "metadata": {},
   "outputs": [
    {
     "name": "stdout",
     "output_type": "stream",
     "text": [
      "[1, 3, 3, 4, 5]\n"
     ]
    }
   ],
   "source": [
    "data = [4, 3, 1, 5, 3]\n",
    "quick_sort(data, 0, len(data) - 1)\n",
    "print(data)"
   ]
  },
  {
   "cell_type": "markdown",
   "metadata": {},
   "source": [
    "### 정리 \n",
    "\n",
    "1. pivot 을 기준으로 왼쪽, 오른쪽 크기 비교를 한다.  \n",
    "    - 왼쪽에는 pivot 보다 작은값, 오른쪽엔 큰값을 배치\n",
    "2. 재귀 함수를 통해 pivot 의 왼쪽 배열을 다시 크기비교\n",
    "    - 왼쪽 배열이 재귀적으로 정렬을 마치면 오른쪽 배열 또한 실행 \n",
    "    \n",
    "빅오 표기법 으로는 n ^ 2 의 시간복잡도를 가지지만 실제로는 nlogn의 복잡도를 가진다.  pivot 을 기준으로 두개씩 쪼개진 정렬(로그의 밑수 2에 해당)  \n",
    "배열의 갯수인 상수 n 을 곱해주면 nlogn"
   ]
  }
 ],
 "metadata": {
  "kernelspec": {
   "display_name": "Python 3",
   "language": "python",
   "name": "python3"
  },
  "language_info": {
   "codemirror_mode": {
    "name": "ipython",
    "version": 3
   },
   "file_extension": ".py",
   "mimetype": "text/x-python",
   "name": "python",
   "nbconvert_exporter": "python",
   "pygments_lexer": "ipython3",
   "version": "3.6.5"
  }
 },
 "nbformat": 4,
 "nbformat_minor": 2
}
