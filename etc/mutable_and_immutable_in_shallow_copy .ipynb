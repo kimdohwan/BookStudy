{
 "cells": [
  {
   "cell_type": "markdown",
   "metadata": {},
   "source": [
    "### mutable, immutable 이 memory 에서 어떻게 작동하는가?\n",
    "- mutable 은 memory 공간안에서 object 의 value 가 변할 수 있다\n",
    "- immutable 은 이미 할당된 memory 공간안에서 object 의 value 변경 불가.   \n",
    "value 변경을 할 경우, 아예 새로운 memory 의 객체를 가르키게 된다"
   ]
  },
  {
   "cell_type": "code",
   "execution_count": 1,
   "metadata": {},
   "outputs": [
    {
     "name": "stdout",
     "output_type": "stream",
     "text": [
      "[1, 3, 2, 4, 5] [  1 100   3   4   5] [100   3]\n",
      "[1, 100, 3, 4, 5]\n"
     ]
    }
   ],
   "source": [
    "# 파이썬에서 안되는 list slicing 객체 연결을 numpy array 로 해결\n",
    "import numpy\n",
    "\n",
    "a = [1, 2, 3, 4, 5]\n",
    "b = numpy.asarray(a)\n",
    "c = b[1:3]\n",
    "a[1], a[2] = a[2], a[1]\n",
    "b[1] = 100\n",
    "print(a, b, c)\n",
    "print(list(b))\n"
   ]
  },
  {
   "cell_type": "code",
   "execution_count": 4,
   "metadata": {},
   "outputs": [
    {
     "name": "stdout",
     "output_type": "stream",
     "text": [
      "[[1, '111', '000'], 4, (3, 4)] [[1, '111', '000'], 2, (3,)]\n",
      "False False True False False\n"
     ]
    }
   ],
   "source": [
    "import copy\n",
    "\n",
    "d = [[1], 2, (3, )]\n",
    "e = copy.copy(d)  # d[:] 와 같이  slicing 하는 방식과 같다.\n",
    "e[0].append('111')\n",
    "d[0].append('000')\n",
    "d[1] = 4\n",
    "d[2] += (4, )\n",
    "print(d, e)\n",
    "print(\n",
    "    d == e, \n",
    "    id(d) == id(e), \n",
    "    id(d[0]) == id(e[0]), \n",
    "    id(d[1]) == id(e[1]),\n",
    "    id(d[2]) == id(e[2]),\n",
    ")\n",
    "# shallow copy 는 new list object + copies all the reference\n",
    "# 따라서 shallow copy 객체에 append 를 하면 new list object + item 이므로\n",
    "# 원본 객체에는 영향을 주지 않음\n",
    "# 하지만 copy 해온 각 item 은 같은 reference 를 가지고 있다 \n",
    "# 예를 들어 shallow copy 로 e 에 d 를 복사했다면,\n",
    "# d와 e 는 다른 객체를 참조하고있고 당연히 주소도 다르다 \n",
    "# 하지만 d[0] 과 e[0] 은 같은 객체를 참조하고있으며 당연히 같은 메모리를 가르킨다 \n",
    "# d[0] 이 list 라고 할 경우, 해당 list 의 값이 변경되게되면,\n",
    "# e[0] 또한 같은 객체를 가르키므로 같은 값을 가지게 되는 것이다\n",
    "# list 처럼 mutable object 는 가르키는 객체가 같기에 변화가 공유되지만\n",
    "# immutable object 일 경우 값이 바뀌면 참조 자체가 바뀌게되서 서로 영향이 없다\n",
    "# mutable : list, dictionary, set\n",
    "# immutable : int, str, tuple, float\n"
   ]
  },
  {
   "cell_type": "code",
   "execution_count": 5,
   "metadata": {},
   "outputs": [
    {
     "name": "stdout",
     "output_type": "stream",
     "text": [
      "[[1, '000'], 2, 3, '100'] [[1, '111'], 2, 3]\n",
      "False False False True\n"
     ]
    }
   ],
   "source": [
    "# deep copy 는 now list object + new object \n",
    "# 그릇과 내용물 모두 새로운 객체 생성\n",
    "d = [[1], 2, 3]\n",
    "e = copy.deepcopy(d)\n",
    "e[0].append('111')\n",
    "d[0].append('000')\n",
    "d.append('100')\n",
    "print(d, e)\n",
    "print(d == e, id(d) == id(e), id(d[0]) == id(e[0]), id(d[1]) == id(e[1]))\n"
   ]
  },
  {
   "cell_type": "code",
   "execution_count": 6,
   "metadata": {},
   "outputs": [
    {
     "name": "stdout",
     "output_type": "stream",
     "text": [
      " mutable            :   [[1, 1], {'안녕': 'hello'}, {1, 2}] \n",
      " shallow copy mutable:  [[1, 1], {'안녕': 'hello'}, {1, 2}] \n",
      " mutable 과 shallcopy 는 같은 객체? False\n",
      "mutable[0]와 shallowcopy[0]는 같은 객체? True\n",
      "mutable[1]와 shallowcopy[1]는 같은 객체? True\n",
      "mutable[2]와 shallowcopy[2]는 같은 객체? True\n"
     ]
    }
   ],
   "source": [
    "# shallow copy 는 mutable type 의 item 에게 서로 영향을 준다\n",
    "mutable = [list(), dict(), set()]\n",
    "mutable_shallcopy = mutable[:]\n",
    "\n",
    "mutable[0] += [1]  # append 로 해도 같음, += 써보고싶어서 씀\n",
    "mutable[0] += [1]\n",
    "mutable[1]['안녕'] = 'hello'\n",
    "mutable[2].update([1, 2])\n",
    "\n",
    "print(\n",
    "    ' mutable            :  ', mutable, '\\n', \n",
    "    'shallow copy mutable: ', mutable_shallcopy, '\\n',\n",
    "    'mutable 과 shallcopy 는 같은 객체?',\n",
    "    id(mutable) == id(mutable_shallcopy),\n",
    ")\n",
    "\n",
    "for i in range(len(mutable)):\n",
    "    print(\n",
    "        f'mutable[{i}]와 shallowcopy[{i}]는 같은 객체? {id(mutable[i]) == id(mutable_shallcopy[i])}'\n",
    "    )"
   ]
  },
  {
   "cell_type": "code",
   "execution_count": 2,
   "metadata": {},
   "outputs": [
    {
     "name": "stdout",
     "output_type": "stream",
     "text": [
      "\n",
      "값 변경 전\n",
      "\n",
      " immutable            :   [0, '', (), 0.0] \n",
      " shallow copy immutable:  [0, '', (), 0.0] \n",
      " immutable 과 shallcopy 는 같은 객체? False \n",
      "\n",
      "immutable[0]와 shallowcopy[0]는 같은 객체? True\n",
      "immutable[1]와 shallowcopy[1]는 같은 객체? True\n",
      "immutable[2]와 shallowcopy[2]는 같은 객체? True\n",
      "immutable[3]와 shallowcopy[3]는 같은 객체? True\n",
      "\n",
      "값 변경 후\n",
      "\n"
     ]
    },
    {
     "ename": "NameError",
     "evalue": "name 'mutable' is not defined",
     "output_type": "error",
     "traceback": [
      "\u001b[0;31m---------------------------------------------------------------------------\u001b[0m",
      "\u001b[0;31mNameError\u001b[0m                                 Traceback (most recent call last)",
      "\u001b[0;32m<ipython-input-2-575ad5cecfba>\u001b[0m in \u001b[0;36m<module>\u001b[0;34m\u001b[0m\n\u001b[1;32m     28\u001b[0m     \u001b[0;34m'shallow copy immutable: '\u001b[0m\u001b[0;34m,\u001b[0m \u001b[0mimmutable_shallcopy\u001b[0m\u001b[0;34m,\u001b[0m \u001b[0;34m'\\n'\u001b[0m\u001b[0;34m,\u001b[0m\u001b[0;34m\u001b[0m\u001b[0m\n\u001b[1;32m     29\u001b[0m     \u001b[0;34m'immutable 과 shallcopy 는 같은 객체?'\u001b[0m\u001b[0;34m,\u001b[0m\u001b[0;34m\u001b[0m\u001b[0m\n\u001b[0;32m---> 30\u001b[0;31m     \u001b[0mid\u001b[0m\u001b[0;34m(\u001b[0m\u001b[0mmutable\u001b[0m\u001b[0;34m)\u001b[0m \u001b[0;34m==\u001b[0m \u001b[0mid\u001b[0m\u001b[0;34m(\u001b[0m\u001b[0mmutable_shallcopy\u001b[0m\u001b[0;34m)\u001b[0m\u001b[0;34m,\u001b[0m \u001b[0;34m'\\n'\u001b[0m\u001b[0;34m,\u001b[0m\u001b[0;34m\u001b[0m\u001b[0m\n\u001b[0m\u001b[1;32m     31\u001b[0m )\n\u001b[1;32m     32\u001b[0m \u001b[0;34m\u001b[0m\u001b[0m\n",
      "\u001b[0;31mNameError\u001b[0m: name 'mutable' is not defined"
     ]
    }
   ],
   "source": [
    "# shallow copy 는 mutable type 의 item 에게 서로 영향을 준다\n",
    "immutable = [int(), str(), tuple(), float()]\n",
    "immutable_shallcopy = immutable[:]\n",
    "\n",
    "print('\\n값 변경 전\\n')\n",
    "print(\n",
    "    ' immutable            :  ', immutable, '\\n', \n",
    "    'shallow copy immutable: ', immutable_shallcopy, '\\n',\n",
    "    'immutable 과 shallcopy 는 같은 객체?',\n",
    "    id(immutable) == id(immutable_shallcopy), '\\n',\n",
    ")\n",
    "\n",
    "# 값 변경 전 item 들이 가르키는 객체는 같다\n",
    "for i in range(len(immutable)):\n",
    "    print(\n",
    "        f'immutable[{i}]와 shallowcopy[{i}]는 같은 객체? {id(immutable[i]) == id(immutable_shallcopy[i])}'\n",
    "    )\n",
    "\n",
    "\n",
    "immutable[0] += 1\n",
    "immutable[1] += 'abcd'\n",
    "immutable[2] += (3, )\n",
    "immutable[3] += 3.0\n",
    "\n",
    "print('\\n값 변경 후\\n')\n",
    "print(\n",
    "    ' immutable            :  ', immutable, '\\n', \n",
    "    'shallow copy immutable: ', immutable_shallcopy, '\\n',\n",
    "    'immutable 과 shallcopy 는 같은 객체?',\n",
    "    id(mutable) == id(mutable_shallcopy), '\\n',\n",
    ")\n",
    "\n",
    "print('immutable 객체의 값을 바꾸면 완전히 다른 객체를 참조한다')\n",
    "\n",
    "# 값 변경 전 item 들이 가르키는 객체는 같다\n",
    "for i in range(len(immutable)):\n",
    "    print(\n",
    "        f'immutable[{i}]와 shallowcopy[{i}]는 같은 객체? {id(immutable[i]) == id(immutable_shallcopy[i])}'\n",
    "    )"
   ]
  },
  {
   "cell_type": "code",
   "execution_count": null,
   "metadata": {},
   "outputs": [],
   "source": []
  }
 ],
 "metadata": {
  "kernelspec": {
   "display_name": "Python 3",
   "language": "python",
   "name": "python3"
  },
  "language_info": {
   "codemirror_mode": {
    "name": "ipython",
    "version": 3
   },
   "file_extension": ".py",
   "mimetype": "text/x-python",
   "name": "python",
   "nbconvert_exporter": "python",
   "pygments_lexer": "ipython3",
   "version": "3.6.5"
  }
 },
 "nbformat": 4,
 "nbformat_minor": 2
}
