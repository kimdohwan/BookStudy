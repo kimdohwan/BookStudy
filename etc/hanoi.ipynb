{
 "cells": [
  {
   "cell_type": "code",
   "execution_count": 5,
   "metadata": {},
   "outputs": [
    {
     "name": "stdout",
     "output_type": "stream",
     "text": [
      "a => b\n",
      "a => c\n",
      "b => c\n",
      "a => b\n",
      "c => a\n",
      "c => b\n",
      "a => b\n"
     ]
    }
   ],
   "source": [
    "# 1.26\n",
    "'''\n",
    "풀이:\n",
    "    n = 4 라고 가정\n",
    "    a = 출발, b = 목적지, c = 경유지\n",
    "    \n",
    "    마지막에 b 에 4개가 쌓이기 위해서는 \n",
    "    3개의 원판(n-1)이 c(경유지)에 쌓여있다가 \n",
    "    b(목적지)의 4번째 원판(n)위로 옮겨가야 한다.\n",
    "    \n",
    "    이 때 3개의 원판을 경유지로 옮겨놔야 하므로 \n",
    "        3개(n-1)개를 a -> c 로 보내는 과정\n",
    "    그리고 4번째 원판을 목적지로 보내야 하므로\n",
    "        4번째 원판(a에 1개만 남아있는: n = 1)을 a -> b 로 보내는 과정 \n",
    "    마지막으로 c(경유지)에 있는 원판을 b(목적지)로 보내는\n",
    "        3개(n-1)개를 c -> b 로 보내는 과정\n",
    "        \n",
    "    알고리즘의 재귀를 \n",
    "    마지막 단계(n)에서 실행되는 과정과 그 전단계(n-1)의 과정으로\n",
    "    나눠서 생각해보면 알기 쉽다. \n",
    "    마지막 단계부터 생각을 시작할 때 \n",
    "    전 단계(n-1)까지의 과정을 한 뭉텅이로(재귀로 이루어진) 생각하고\n",
    "    마지막에서 이뤄지는 과정만 잘 풀어낸다면 \n",
    "    그 다음은 제약조건 설정(여기서는 n = 1 일때)만 잘 해주면 된다.\n",
    "    \n",
    "하노이탑을 통해 느껴지는 알고리즘 풀이\n",
    "    1. 마지막 단계에서 이뤄지는 과정을 풀어보자\n",
    "    1-1. n의 개수가 낮을 때 이뤄지는 과정이 결국 되풀이 되는 것이다(2나 3을 대입할 것을 추천)\n",
    "    2. 결국 return 값이 완성, 시작되는 지점은 \n",
    "        재귀가 끝나는 지점(제약조건이 필요할 때)이다\n",
    "    \n",
    "        \n",
    "'''\n",
    "\n",
    "def hanoi(n, from_pos, to_pos, aux_pos):\n",
    "#     print(n, from_pos, to_pos, aux_pos)\n",
    "    if n == 1: \n",
    "        # 기둥에 원판이 한 개만 남았을 경우에(가장 밑에 깔려야하는 원판) 그 원판을 목적지로 이동 \n",
    "        print(from_pos, '=>', to_pos)\n",
    "        return\n",
    "    hanoi(n - 1, from_pos, aux_pos, to_pos) # 경유지로 n-1 개를 보내기 실행\n",
    "#     print(from_pos, '->', to_pos) # 목적지로 이동\n",
    "    hanoi(1, from_pos, to_pos, aux_pos) # 마지막 1개를 목적지로 보내기 실행 \n",
    "    hanoi(n - 1, aux_pos, to_pos, from_pos) # 경유지의 n-1 개를 목적지로 보내기 실행\n",
    "    \n",
    "\n",
    "hanoi(3, 'a', 'b', 'c')"
   ]
  },
  {
   "cell_type": "code",
   "execution_count": null,
   "metadata": {},
   "outputs": [],
   "source": []
  }
 ],
 "metadata": {
  "kernelspec": {
   "display_name": "Python 3",
   "language": "python",
   "name": "python3"
  },
  "language_info": {
   "codemirror_mode": {
    "name": "ipython",
    "version": 3
   },
   "file_extension": ".py",
   "mimetype": "text/x-python",
   "name": "python",
   "nbconvert_exporter": "python",
   "pygments_lexer": "ipython3",
   "version": "3.6.7"
  }
 },
 "nbformat": 4,
 "nbformat_minor": 2
}
