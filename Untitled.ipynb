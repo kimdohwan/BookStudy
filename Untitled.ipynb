{
 "cells": [
  {
   "cell_type": "code",
   "execution_count": 1,
   "metadata": {},
   "outputs": [],
   "source": [
    "import psycopg2\n",
    "\n",
    "def test():\n",
    "    print(' start')\n",
    "    conn = psycopg2.connect(\n",
    "        host=\"project-brunch.cvoqbij1g79e.ap-northeast-2.rds.amazonaws.com\",\n",
    "        database=\"ec2_deploy_rds\",\n",
    "        user=\"doh\",\n",
    "        password=\"ehghks0102\",\n",
    "        port=5432\n",
    "    )\n",
    "    cur = conn.cursor()\n",
    "#     cur.execute(\"SELECT * FROM articles_article WHERE id=2\")\n",
    "    try:\n",
    "        cur.execute(\n",
    "    #         \"INSERT INTO articles_article VALUES 'doh_title1', 'content', 'd9if931', '2003.1.2'::timestamp, '123', 4 RETURNING id\"\n",
    "    #         \"INSERT INTO articles_article(title, content, article_txid, published_time, text_id, writer_id) VALUES ('doh_title1', 'content', 'd9if932', '2003.1.2'::timestamp, '123', 4)\"\n",
    "#             \"select id from articles_writer set num_subsciption=3 where user_id='istep'\"\n",
    "            \"update articles_writer set num_subscription=3 where user_id='istep' returning id\"\n",
    "        )\n",
    "        a = cur.fetchone()\n",
    "        print(a)\n",
    "    except:\n",
    "        print('no result')\n",
    "    \n",
    "    \n",
    "    conn.commit()\n",
    "#     cur.close()\n",
    "#     conn.close()\n",
    "    \n",
    "#     a = cur.fetchall()\n",
    "#     print(a)\n",
    "\n"
   ]
  },
  {
   "cell_type": "code",
   "execution_count": 3,
   "metadata": {},
   "outputs": [
    {
     "name": "stdout",
     "output_type": "stream",
     "text": [
      "a\n",
      " start\n",
      "(26,)\n"
     ]
    }
   ],
   "source": [
    "print('a')\n",
    "test()"
   ]
  },
  {
   "cell_type": "code",
   "execution_count": 1,
   "metadata": {},
   "outputs": [
    {
     "data": {
      "text/plain": [
       "'{\"status\": \"204 created\", \"crawl\": \"\\\\uc790\\\\uc774\\\\uc36c\"}'"
      ]
     },
     "execution_count": 1,
     "metadata": {},
     "output_type": "execute_result"
    }
   ],
   "source": [
    "import requests\n",
    "\n",
    "r = requests.post(\n",
    "    \"https://7n82o95659.execute-api.ap-northeast-2.amazonaws.com/Post/\",\n",
    "    json={\"keyword\": \"자이썬\"}\n",
    ")\n",
    "r.text"
   ]
  },
  {
   "cell_type": "code",
   "execution_count": 6,
   "metadata": {},
   "outputs": [
    {
     "data": {
      "text/plain": [
       "'{\"status\": \"204 created\", \"crawl\": \"article\"}'"
      ]
     },
     "execution_count": 6,
     "metadata": {},
     "output_type": "execute_result"
    }
   ],
   "source": [
    "keyword = 'article'\n",
    "user_id = None\n",
    "r = requests.post(\n",
    "    \"https://7n82o95659.execute-api.ap-northeast-2.amazonaws.com/Post/\",\n",
    "    json={\n",
    "        \"keyword\": keyword,\n",
    "        \"writer\": f\"{user_id}\",\n",
    "    }\n",
    ")"
   ]
  },
  {
   "cell_type": "code",
   "execution_count": 22,
   "metadata": {},
   "outputs": [
    {
     "data": {
      "text/plain": [
       "'<!DOCTYPE html>\\n<html lang=\"ko\">\\n<head>\\n \\n\\n<title>brunch</title>\\n<meta charset=\"utf-8\">\\n<meta http-equiv=\"Content-Type\" content=\"text/html; charset=utf-8\">\\n<meta http-equiv=\"X-UA-Compatible\" content=\"IE=edge\">\\n<meta name=\"title\" content=\"brunch\">\\n<meta name=\"referrer\" content=\"always\">\\n<meta name=\"secureToken\" value=\"\">\\n<meta property=\"og:site_name\" content=\"brunch\">\\n<meta name=\"twitter:card\" content=\"summary\">\\n<meta name=\"twitter:app:name:iphone\" content=\"brunch\">\\n<meta name=\"twitter:app:id:iphone\" content=\"1001388574\">\\n<meta name=\"twitter:app:url:iphone\" content=\"brunchapp://open\">\\n<meta property=\"fb:app_id\" content=\"313683402170826\">\\n<link rel=\"SHORTCUT ICON\" href=\"//t1.daumcdn.net/brunch/static/icon/favicon/favicon64_150520.ico\"/>\\n<link rel=\"apple-touch-icon-precomposed\" sizes=\"180x180\" href=\"//t1.daumcdn.net/brunch/static/icon/ios/icon152.png\">\\n<link rel=\"apple-touch-icon-precomposed\" sizes=\"152x152\" href=\"//t1.daumcdn.net/brunch/static/icon/ios/icon152.png\">\\n<link rel=\"apple-touch-icon-precomposed\" sizes=\"120x120\" href=\"//t1.daumcdn.net/brunch/static/icon/ios/icon120.png\">\\n<meta name=\"viewport\" content=\"user-scalable=no, initial-scale=1.0, maximum-scale=1.0, minimum-scale=1.0, width=device-width,initial-scale=1, viewport-fit=cover\">\\n<!--[if lt IE 9]>\\n    <script src=\"//t1.daumcdn.net/brunch/static/libraries/js/jquery.min-1.11.3.js\"></script>\\n<![endif]-->\\n<!--[if gte IE 9]><!-->\\n<script type=\"text/javascript\" src=\"//t1.daumcdn.net/brunch/static/libraries/js/jquery.min-2.1.1.js\"></script>\\n<!--<![endif]-->\\n<script type=\"text/javascript\" src=\"//t1.daumcdn.net/brunch/static/libraries/js/jquery.cookie.min-1.4.1.js\"></script>\\n<script type=\"text/javascript\" src=\"//t1.daumcdn.net/brunch/static/libraries/js/jquery.xdomainrequest.min.js\"></script>\\n<script type=\"text/javascript\" src=\"//t1.daumcdn.net/brunch/static/libraries/js/handlebars.runtime.min-v3.0.0.js\"></script>\\n<script type=\"text/javascript\" src=\"//t1.daumcdn.net/brunch/static/libraries/js/userAgent.min-1.0.14.js\"></script>\\n<script type=\"text/javascript\" src=\"//t1.daumcdn.net/brunch/static/libraries/js/raven.min.3.17.0.js\"></script>\\n<script type=\"text/javascript\" src=\"//t1.daumcdn.net/brunch/static/libraries/js/clipboard.min.js\"></script>\\n\\n<script type=\"text/javascript\">\\n\\t/**\\n\\t * Tiara 내부에서 사용 하는 Message Queue 정의\\n\\t **/\\n\\tvar _tiq = \\'undefined\\' !== typeof _tiq ? _tiq : []; // Global Variables\\n\\tvar __TiaraObj = __TiaraObj || {};\\n\\tif (\\'undefined\\' === typeof __TiaraObj.startTime) {\\n\\t\\t__TiaraObj.startTime = new Date();\\n\\t}\\n\\twindow._tiq = _tiq;\\n\\twindow._platform = \"unknown\";\\n</script>\\n\\n\\t<link rel=\"stylesheet\" type=\"text/css\" href=\"//t1.daumcdn.net/brunch/static/real/201904101429/css/B.css\"/>\\n\\n\\t<script type=\"text/javascript\" src=\"//t1.daumcdn.net/brunch/static/libraries/js/jquery.word-break-keep-all.min-1.3.0.js\"></script>\\n\\t    <link rel=\"stylesheet\" type=\"text/css\" href=\"//t1.daumcdn.net/brunch/static/real/201904101429/product/B.Message.min.css\"/>\\n\\t\\t<script type=\"text/javascript\">\\n        if (\\'undefined\\' != typeof Raven) {\\n            Raven.config(\\'https://77b0c18789cf4de299d54be350ea2f2f@sentry.kakao.com/737\\', {\\n                ignoreErrors: [/Array size is not a small enough positive integer/]\\n            }).install();\\n        }\\n\\t</script>\\n\\n\\t\\t\\t        \\t<link rel=\"stylesheet\" type=\"text/css\" href=\"//t1.daumcdn.net/brunch/static/real/201904101429/product/B.Font.min.css\"/>\\n\\t\\t\\t\\n\\n\\t\\t\\t<link rel=\"stylesheet\" type=\"text/css\" href=\"//t1.daumcdn.net/brunch/static/real/201904101429/css/B.css\"/>\\n\\t\\t<link rel=\"stylesheet\" type=\"text/css\" href=\"//t1.daumcdn.net/brunch/static/real/201904101429/product/B.Subscription.min.css\"/>\\n\\t\\n</head>\\n<body>\\n\\t\\t\\t\\n\\n\\n\\n\\n\\n\\n\\n\\n<div class=\"service_header subscription\">\\n\\t\\n\\t<div class=\"wrap_inner  \">\\n\\t\\t<div class=\"f_l\">\\n\\t\\t\\n\\t\\t\\n\\t\\t</div>\\n\\t\\t\\t\\t\\t\\t\\n\\t\\t\\n\\n\\t\\t\\t\\t\\t\\t\\t\\t\\t<div class=\"wrap_custom wrap_custom_subscription\">\\n\\t\\t\\t\\t<span>\\n\\t\\t\\t\\t\\t 관심작가\\t\\t\\t\\t\\t<span class=\"text_key_color\">82</span>명\\n\\t\\t\\t\\t</span>\\n\\t\\t\\t</div>\\n\\t\\t        \\t\\t                \\t\\t        \\t\\t\\t\\t\\n\\t\\t\\t\\t\\t\\t\\t\\t\\t\\t\\t\\t\\t\\t\\t\\t\\t\\t\\t\\t\\n\\t\\t\\n\\t\\t\\n\\t\\t\\n\\t\\t\\n        <div class=\"f_r\">\\n\\t\\t\\t\\t\\t<div class=\"wrap_btn_statsArticle\">\\n\\t\\t\\t\\t<button class=\"img_ico link_close text_hide\">이전 페이지로 이동</button>\\n\\t\\t\\t</div>\\n\\t\\t\\t\\t</div>\\n\\t\\t\\t</div>\\n</div>\\n\\t\\t<div id=\"wrapSideMenu\">\\n\\t<main>\\n\\t\\t<button type=\"button\" id=\"btnCloseSideMenu\" class=\"btn_close_side_menu img_side_menu ico_close f_r text_hide\">닫기</button>\\n\\t\\t\\t\\t\\t<div class=\"wrap_side_profile logout\">\\n\\t\\t\\t\\t<div class=\"logo_service\"></div>\\n\\t\\t\\t\\t<p class=\"slogan\">You can make anything<br>by writing</p>\\n\\t\\t\\t\\t<p class=\"slogan_writer\">- C.S.Lewis -</p>\\n\\t\\t\\t\\t<a id=\"brunchSigninButton\" href=\"/signin\" class=\"#side_request btn_apply_author\"><button class=\"btn_request\">브런치 시작하기</button></a>\\n\\t\\t\\t\\t\\t</div>\\n\\t\\t\\t\\t<div class=\"wrap_side_service_menu\">\\n\\t\\t\\t\\t\\t<ul>\\n\\t\\t\\t\\t\\t\\t\\t\\t\\t<li>\\n\\t\\t\\t\\t\\t\\t<a class=\"menu_word4 #side_brunch\" href=\"/\"><span class=\"bar_left\"></span>브런치 홈<span class=\"bar_right\"></span></a>\\n\\t\\t\\t\\t\\t</li>\\n\\t\\t\\t\\t\\t<li>\\n\\t\\t\\t\\t\\t\\t<a class=\"menu_word5 #side_now brunchNowLink\" href=\"/now\"><span class=\"bar_left\"></span>브런치 나우<span class=\"bar_right\"></span></a>\\n\\t\\t\\t\\t\\t</li>\\n\\t\\t\\t\\t\\t<li>\\n\\t\\t\\t\\t\\t\\t<a class=\"menu_word5 #side_publish brunchPublishLink\" href=\"/publish\"><span class=\"bar_left\"></span>브런치 책방<span class=\"bar_right\"></span></a>\\n\\t\\t\\t\\t\\t</li>\\n\\t\\t\\t\\t\\t<li>\\n\\t\\t\\t\\t\\t\\t<a class=\"menu_word6 #side_mag\" href=\"/magazine\"><span class=\"bar_left\"></span>위클리 매거진<span class=\"bar_right\"></span></a>\\n\\t\\t\\t\\t\\t</li>\\n\\t\\t\\t\\t\\n\\t\\t\\t</ul>\\n\\n\\t\\t\\t\\n\\t\\t\\t\\t\\t\\t\\t<div class=\"wrap_side_setting wrap_find_user\">\\n\\t\\t\\t\\t\\t<div class=\"menu_side_banner\" style=\"padding-bottom: 40px;\"><a class=\"#side_project\" href=\"/special/list\"><img style=\"width:168px\" src=\"//i1.daumcdn.net/thumb/R336x0/?fname=http://t1.daumcdn.net/brunch/static/img/help/pc/top/side_banner_20171219.png\" alt=\"프로젝트 리스트 바로가기\" /></a></div>\\n                    <a href=\"/signin/find_account\" class=\"find_user\">계정을 잊어버리셨나요?</a>\\n\\t\\t\\t\\t</div>\\n\\t\\t\\t\\t\\t</div>\\n\\t</main>\\n</div>\\n\\n\\t<header></header>\\n<main>\\n\\t\\n\\t\\t\\n\\t<div class=\"inner_brunch_layer inner_brunch_layer1 #following\">\\n\\t\\t<div class=\"layer_head\">\\n\\t\\t\\t<!-- 2015-04-03 수정시작 -->\\n\\t\\t\\t<strong class=\"tit_follow\">이 작가가 구독하는 <span class=\"text_key_color\">82</span>명</strong>\\n\\t\\t\\t<!-- //2015-04-03 수정 끝 -->\\n\\t\\t</div>\\n\\t\\t<div class=\"header_head_menubar layer_body\">\\n\\t\\t\\t<!-- 2015-03-04 링크 영역 수정으로 인해 구조 수정 시작 -->\\n\\t\\t\\t<ul class=\"list_follow\">\\n\\t\\t\\t\\t\\t\\t\\t\\t\\t\\t\\t\\t\\t\\t\\t<li >\\n\\t\\t\\t\\t\\t\\t\\t<!-- 2015-04-03 제목만 있을경우 single_line 부여 -->\\n\\t\\t\\t\\t\\t\\t\\t<a href=\"/@ideachannel\" class=\"ico_brunch bloger_thumb #profile\"> <!-- 2015-04-03 클래스 link_thumb 삭제 -->\\n\\t\\t\\t\\t\\t\\t\\t\\t<img src=\"//img1.daumcdn.net/thumb/C42x42/?fname=http://t1.daumcdn.net/brunch/service/user/6pDd/image/jacygAppp7kVg4_JNf6pRDVfWK4.png\" width=\"42\" height=\"42\" class=\"img_thumb\" alt=\"이미지정보\"> <!-- 2015-04-03 img 사이즈 변경 -->\\n\\t\\t\\t\\t\\t\\t\\t</a>\\n\\t\\t\\t\\t\\t\\t\\t<a href=\"/@ideachannel\" class=\"link_follow #profile\">\\n\\t\\t\\t\\t\\t\\t\\t\\t<span class=\"cont_follow\">\\n\\t\\t\\t\\t\\t\\t\\t\\t\\t<strong class=\"tit_subject\">김태수</strong>\\n\\t\\t\\t\\t\\t\\t\\t\\t\\t<span class=\"desc_follow\">\\n\\t\\t\\t\\t\\t\\t\\t\\t\\t\\t특허, 디자인, 브랜드에 푹 빠져 살고 있는 변리사입니다. 알기 쉽게 지식재산을 설명하려고 노력하며, 최근 &quot;특허 콘서트&quot;라는 책을 출간하였습니다.\\n\\t\\t\\t\\t\\t\\t\\t\\t\\t</span>\\n\\t\\t\\t\\t\\t\\t\\t\\t</span>\\n\\t\\t\\t\\t\\t\\t\\t</a>\\n\\t\\t\\t\\t\\t\\t\\t\\t\\t\\t\\t\\t\\t\\t\\t\\t\\t\\t\\t\\t\\t\\t\\t\\t<button type=\"button\" id=\"btn_6pDd\" class=\"btn_post btn_default #follow\" value=\"6pDd\">\\n\\t\\t\\t\\t\\t\\t\\t\\t\\t\\t구독하기\\n\\t\\t\\t\\t\\t\\t\\t\\t\\t\\t<span class=\"ico_brunch\"></span>\\n\\t\\t\\t\\t\\t\\t\\t\\t\\t</button>\\n\\t\\t\\t\\t\\t\\t\\t\\t\\t\\t\\t\\t\\t\\t\\t\\t\\t\\t\\t\\t\\t</li>\\n\\t\\t\\t\\t\\t\\t\\t\\t\\t\\t\\t\\t\\t\\t\\t\\t\\t\\t\\t\\t<li >\\n\\t\\t\\t\\t\\t\\t\\t<!-- 2015-04-03 제목만 있을경우 single_line 부여 -->\\n\\t\\t\\t\\t\\t\\t\\t<a href=\"/@librarianyu\" class=\"ico_brunch bloger_thumb #profile\"> <!-- 2015-04-03 클래스 link_thumb 삭제 -->\\n\\t\\t\\t\\t\\t\\t\\t\\t<img src=\"//img1.daumcdn.net/thumb/C42x42/?fname=http://t1.daumcdn.net/brunch/service/user/1xRj/image/8PpHxNrgr2gIg0z_5IpbrvJ9W-A.jpg\" width=\"42\" height=\"42\" class=\"img_thumb\" alt=\"이미지정보\"> <!-- 2015-04-03 img 사이즈 변경 -->\\n\\t\\t\\t\\t\\t\\t\\t</a>\\n\\t\\t\\t\\t\\t\\t\\t<a href=\"/@librarianyu\" class=\"link_follow #profile\">\\n\\t\\t\\t\\t\\t\\t\\t\\t<span class=\"cont_follow\">\\n\\t\\t\\t\\t\\t\\t\\t\\t\\t<strong class=\"tit_subject\">사서 유</strong>\\n\\t\\t\\t\\t\\t\\t\\t\\t\\t<span class=\"desc_follow\">\\n\\t\\t\\t\\t\\t\\t\\t\\t\\t\\t유럽 배낭여행과 호주 워킹홀리데이를 다녀온,  도서관에서 근무 중인 사서이자 평범한 직장인입니다.\\n\\t\\t\\t\\t\\t\\t\\t\\t\\t</span>\\n\\t\\t\\t\\t\\t\\t\\t\\t</span>\\n\\t\\t\\t\\t\\t\\t\\t</a>\\n\\t\\t\\t\\t\\t\\t\\t\\t\\t\\t\\t\\t\\t\\t\\t\\t\\t\\t\\t\\t\\t\\t\\t\\t<button type=\"button\" id=\"btn_1xRj\" class=\"btn_post btn_default #follow\" value=\"1xRj\">\\n\\t\\t\\t\\t\\t\\t\\t\\t\\t\\t구독하기\\n\\t\\t\\t\\t\\t\\t\\t\\t\\t\\t<span class=\"ico_brunch\"></span>\\n\\t\\t\\t\\t\\t\\t\\t\\t\\t</button>\\n\\t\\t\\t\\t\\t\\t\\t\\t\\t\\t\\t\\t\\t\\t\\t\\t\\t\\t\\t\\t\\t</li>\\n\\t\\t\\t\\t\\t\\t\\t\\t\\t\\t\\t\\t\\t\\t\\t\\t\\t\\t\\t\\t<li >\\n\\t\\t\\t\\t\\t\\t\\t<!-- 2015-04-03 제목만 있을경우 single_line 부여 -->\\n\\t\\t\\t\\t\\t\\t\\t<a href=\"/@donghataylorkim\" class=\"ico_brunch bloger_thumb #profile\"> <!-- 2015-04-03 클래스 link_thumb 삭제 -->\\n\\t\\t\\t\\t\\t\\t\\t\\t<img src=\"//img1.daumcdn.net/thumb/C42x42/?fname=http://t1.daumcdn.net/brunch/service/guest/image/cm7sr3bAQqgwp3rXS8COIYQbd5U\" width=\"42\" height=\"42\" class=\"img_thumb\" alt=\"이미지정보\"> <!-- 2015-04-03 img 사이즈 변경 -->\\n\\t\\t\\t\\t\\t\\t\\t</a>\\n\\t\\t\\t\\t\\t\\t\\t<a href=\"/@donghataylorkim\" class=\"link_follow #profile\">\\n\\t\\t\\t\\t\\t\\t\\t\\t<span class=\"cont_follow\">\\n\\t\\t\\t\\t\\t\\t\\t\\t\\t<strong class=\"tit_subject\">루저들의살롱</strong>\\n\\t\\t\\t\\t\\t\\t\\t\\t\\t<span class=\"desc_follow\">\\n\\t\\t\\t\\t\\t\\t\\t\\t\\t\\t그냥 살아가고 있습니다.\\n\\t\\t\\t\\t\\t\\t\\t\\t\\t</span>\\n\\t\\t\\t\\t\\t\\t\\t\\t</span>\\n\\t\\t\\t\\t\\t\\t\\t</a>\\n\\t\\t\\t\\t\\t\\t\\t\\t\\t\\t\\t\\t\\t\\t\\t\\t\\t\\t\\t\\t\\t\\t\\t\\t<button type=\"button\" id=\"btn_6lFd\" class=\"btn_post btn_default #follow\" value=\"6lFd\">\\n\\t\\t\\t\\t\\t\\t\\t\\t\\t\\t구독하기\\n\\t\\t\\t\\t\\t\\t\\t\\t\\t\\t<span class=\"ico_brunch\"></span>\\n\\t\\t\\t\\t\\t\\t\\t\\t\\t</button>\\n\\t\\t\\t\\t\\t\\t\\t\\t\\t\\t\\t\\t\\t\\t\\t\\t\\t\\t\\t\\t\\t</li>\\n\\t\\t\\t\\t\\t\\t\\t\\t\\t\\t\\t\\t\\t\\t\\t\\t\\t\\t\\t\\t<li >\\n\\t\\t\\t\\t\\t\\t\\t<!-- 2015-04-03 제목만 있을경우 single_line 부여 -->\\n\\t\\t\\t\\t\\t\\t\\t<a href=\"/@name0904\" class=\"ico_brunch bloger_thumb #profile\"> <!-- 2015-04-03 클래스 link_thumb 삭제 -->\\n\\t\\t\\t\\t\\t\\t\\t\\t<img src=\"//img1.daumcdn.net/thumb/C42x42/?fname=http://t1.daumcdn.net/brunch/service/user/rif/image/2WeVa6lciAtJa0Yyj7W0u5IRAlM.jpg\" width=\"42\" height=\"42\" class=\"img_thumb\" alt=\"이미지정보\"> <!-- 2015-04-03 img 사이즈 변경 -->\\n\\t\\t\\t\\t\\t\\t\\t</a>\\n\\t\\t\\t\\t\\t\\t\\t<a href=\"/@name0904\" class=\"link_follow #profile\">\\n\\t\\t\\t\\t\\t\\t\\t\\t<span class=\"cont_follow\">\\n\\t\\t\\t\\t\\t\\t\\t\\t\\t<strong class=\"tit_subject\">황상호</strong>\\n\\t\\t\\t\\t\\t\\t\\t\\t\\t<span class=\"desc_follow\">\\n\\t\\t\\t\\t\\t\\t\\t\\t\\t\\t중앙일보 미주법인 LA 중앙일보 기자. 전 CJB 청주방송 기자. 책 &lt;내 뜻대로 산다&gt;, 공저 &lt;벼랑에 선 사람들&gt;.  한국기자협회 307회 이달의 기자상 등 특종상 다수 수상\\n\\t\\t\\t\\t\\t\\t\\t\\t\\t</span>\\n\\t\\t\\t\\t\\t\\t\\t\\t</span>\\n\\t\\t\\t\\t\\t\\t\\t</a>\\n\\t\\t\\t\\t\\t\\t\\t\\t\\t\\t\\t\\t\\t\\t\\t\\t\\t\\t\\t\\t\\t\\t\\t\\t<button type=\"button\" id=\"btn_rif\" class=\"btn_post btn_default #follow\" value=\"rif\">\\n\\t\\t\\t\\t\\t\\t\\t\\t\\t\\t구독하기\\n\\t\\t\\t\\t\\t\\t\\t\\t\\t\\t<span class=\"ico_brunch\"></span>\\n\\t\\t\\t\\t\\t\\t\\t\\t\\t</button>\\n\\t\\t\\t\\t\\t\\t\\t\\t\\t\\t\\t\\t\\t\\t\\t\\t\\t\\t\\t\\t\\t</li>\\n\\t\\t\\t\\t\\t\\t\\t\\t\\t\\t\\t\\t\\t\\t\\t\\t\\t\\t\\t\\t<li >\\n\\t\\t\\t\\t\\t\\t\\t<!-- 2015-04-03 제목만 있을경우 single_line 부여 -->\\n\\t\\t\\t\\t\\t\\t\\t<a href=\"/@eunbyuljang\" class=\"ico_brunch bloger_thumb #profile\"> <!-- 2015-04-03 클래스 link_thumb 삭제 -->\\n\\t\\t\\t\\t\\t\\t\\t\\t<img src=\"//img1.daumcdn.net/thumb/C42x42/?fname=http://t1.daumcdn.net/brunch/service/guest/image/tpZFAFxiOz3McWQ14OiTFmsISG0.JPG\" width=\"42\" height=\"42\" class=\"img_thumb\" alt=\"이미지정보\"> <!-- 2015-04-03 img 사이즈 변경 -->\\n\\t\\t\\t\\t\\t\\t\\t</a>\\n\\t\\t\\t\\t\\t\\t\\t<a href=\"/@eunbyuljang\" class=\"link_follow #profile\">\\n\\t\\t\\t\\t\\t\\t\\t\\t<span class=\"cont_follow\">\\n\\t\\t\\t\\t\\t\\t\\t\\t\\t<strong class=\"tit_subject\">은별</strong>\\n\\t\\t\\t\\t\\t\\t\\t\\t\\t<span class=\"desc_follow\">\\n\\t\\t\\t\\t\\t\\t\\t\\t\\t\\t세상에 대한 호기심이 많습니다. 액체중독자의 삶에 대해 쓰고 먹고 마시는 브랜드를 만듭니다.\\n\\t\\t\\t\\t\\t\\t\\t\\t\\t</span>\\n\\t\\t\\t\\t\\t\\t\\t\\t</span>\\n\\t\\t\\t\\t\\t\\t\\t</a>\\n\\t\\t\\t\\t\\t\\t\\t\\t\\t\\t\\t\\t\\t\\t\\t\\t\\t\\t\\t\\t\\t\\t\\t\\t<button type=\"button\" id=\"btn_1a1u\" class=\"btn_post btn_default #follow\" value=\"1a1u\">\\n\\t\\t\\t\\t\\t\\t\\t\\t\\t\\t구독하기\\n\\t\\t\\t\\t\\t\\t\\t\\t\\t\\t<span class=\"ico_brunch\"></span>\\n\\t\\t\\t\\t\\t\\t\\t\\t\\t</button>\\n\\t\\t\\t\\t\\t\\t\\t\\t\\t\\t\\t\\t\\t\\t\\t\\t\\t\\t\\t\\t\\t</li>\\n\\t\\t\\t\\t\\t\\t\\t\\t\\t\\t\\t\\t\\t\\t\\t\\t\\t\\t\\t\\t<li >\\n\\t\\t\\t\\t\\t\\t\\t<!-- 2015-04-03 제목만 있을경우 single_line 부여 -->\\n\\t\\t\\t\\t\\t\\t\\t<a href=\"/@mihuiyam\" class=\"ico_brunch bloger_thumb #profile\"> <!-- 2015-04-03 클래스 link_thumb 삭제 -->\\n\\t\\t\\t\\t\\t\\t\\t\\t<img src=\"//img1.daumcdn.net/thumb/C42x42/?fname=http://t1.daumcdn.net/brunch/service/guest/image/NDNJAeyvRqMrE8WJK8_MESp_dTk.png\" width=\"42\" height=\"42\" class=\"img_thumb\" alt=\"이미지정보\"> <!-- 2015-04-03 img 사이즈 변경 -->\\n\\t\\t\\t\\t\\t\\t\\t</a>\\n\\t\\t\\t\\t\\t\\t\\t<a href=\"/@mihuiyam\" class=\"link_follow #profile\">\\n\\t\\t\\t\\t\\t\\t\\t\\t<span class=\"cont_follow\">\\n\\t\\t\\t\\t\\t\\t\\t\\t\\t<strong class=\"tit_subject\">여행자MAY</strong>\\n\\t\\t\\t\\t\\t\\t\\t\\t\\t<span class=\"desc_follow\">\\n\\t\\t\\t\\t\\t\\t\\t\\t\\t\\t퇴사 후 세계일주를 택한 이십 대 후반.\\n\\n매사 일희일비하며,\\n옆, 아래, 뒤를 자주 돌아보는 삶을 지향하고 있습니다. \\n\\n유튜브 &lt;여행자may&gt; 운영 중\\n\\t\\t\\t\\t\\t\\t\\t\\t\\t</span>\\n\\t\\t\\t\\t\\t\\t\\t\\t</span>\\n\\t\\t\\t\\t\\t\\t\\t</a>\\n\\t\\t\\t\\t\\t\\t\\t\\t\\t\\t\\t\\t\\t\\t\\t\\t\\t\\t\\t\\t\\t\\t\\t\\t<button type=\"button\" id=\"btn_2T1q\" class=\"btn_post btn_default #follow\" value=\"2T1q\">\\n\\t\\t\\t\\t\\t\\t\\t\\t\\t\\t구독하기\\n\\t\\t\\t\\t\\t\\t\\t\\t\\t\\t<span class=\"ico_brunch\"></span>\\n\\t\\t\\t\\t\\t\\t\\t\\t\\t</button>\\n\\t\\t\\t\\t\\t\\t\\t\\t\\t\\t\\t\\t\\t\\t\\t\\t\\t\\t\\t\\t\\t</li>\\n\\t\\t\\t\\t\\t\\t\\t\\t\\t\\t\\t\\t\\t\\t\\t\\t\\t\\t\\t\\t<li >\\n\\t\\t\\t\\t\\t\\t\\t<!-- 2015-04-03 제목만 있을경우 single_line 부여 -->\\n\\t\\t\\t\\t\\t\\t\\t<a href=\"/@theedit\" class=\"ico_brunch bloger_thumb #profile\"> <!-- 2015-04-03 클래스 link_thumb 삭제 -->\\n\\t\\t\\t\\t\\t\\t\\t\\t<img src=\"//img1.daumcdn.net/thumb/C42x42/?fname=http://t1.daumcdn.net/brunch/service/user/5uW/image/hY5T-1ebCLuzaOrKuVnqmdzbCYY.png\" width=\"42\" height=\"42\" class=\"img_thumb\" alt=\"이미지정보\"> <!-- 2015-04-03 img 사이즈 변경 -->\\n\\t\\t\\t\\t\\t\\t\\t</a>\\n\\t\\t\\t\\t\\t\\t\\t<a href=\"/@theedit\" class=\"link_follow #profile\">\\n\\t\\t\\t\\t\\t\\t\\t\\t<span class=\"cont_follow\">\\n\\t\\t\\t\\t\\t\\t\\t\\t\\t<strong class=\"tit_subject\">디에디트</strong>\\n\\t\\t\\t\\t\\t\\t\\t\\t\\t<span class=\"desc_follow\">\\n\\t\\t\\t\\t\\t\\t\\t\\t\\t\\t사는 재미가 없으면 사는 재미라도  the-edit.co.kr\\n\\t\\t\\t\\t\\t\\t\\t\\t\\t</span>\\n\\t\\t\\t\\t\\t\\t\\t\\t</span>\\n\\t\\t\\t\\t\\t\\t\\t</a>\\n\\t\\t\\t\\t\\t\\t\\t\\t\\t\\t\\t\\t\\t\\t\\t\\t\\t\\t\\t\\t\\t\\t\\t\\t<button type=\"button\" id=\"btn_5uW\" class=\"btn_post btn_default #follow\" value=\"5uW\">\\n\\t\\t\\t\\t\\t\\t\\t\\t\\t\\t구독하기\\n\\t\\t\\t\\t\\t\\t\\t\\t\\t\\t<span class=\"ico_brunch\"></span>\\n\\t\\t\\t\\t\\t\\t\\t\\t\\t</button>\\n\\t\\t\\t\\t\\t\\t\\t\\t\\t\\t\\t\\t\\t\\t\\t\\t\\t\\t\\t\\t\\t</li>\\n\\t\\t\\t\\t\\t\\t\\t\\t\\t\\t\\t\\t\\t\\t\\t\\t\\t\\t\\t\\t<li >\\n\\t\\t\\t\\t\\t\\t\\t<!-- 2015-04-03 제목만 있을경우 single_line 부여 -->\\n\\t\\t\\t\\t\\t\\t\\t<a href=\"/@tenbody\" class=\"ico_brunch bloger_thumb #profile\"> <!-- 2015-04-03 클래스 link_thumb 삭제 -->\\n\\t\\t\\t\\t\\t\\t\\t\\t<img src=\"//img1.daumcdn.net/thumb/C42x42/?fname=http://t1.daumcdn.net/brunch/service/guest/image/--iNzJYxIR2glapAcfgV1edqMPc.jpg\" width=\"42\" height=\"42\" class=\"img_thumb\" alt=\"이미지정보\"> <!-- 2015-04-03 img 사이즈 변경 -->\\n\\t\\t\\t\\t\\t\\t\\t</a>\\n\\t\\t\\t\\t\\t\\t\\t<a href=\"/@tenbody\" class=\"link_follow #profile\">\\n\\t\\t\\t\\t\\t\\t\\t\\t<span class=\"cont_follow\">\\n\\t\\t\\t\\t\\t\\t\\t\\t\\t<strong class=\"tit_subject\">텐바디</strong>\\n\\t\\t\\t\\t\\t\\t\\t\\t\\t<span class=\"desc_follow\">\\n\\t\\t\\t\\t\\t\\t\\t\\t\\t\\t텐바디의 브런치입니다.\\n\\t\\t\\t\\t\\t\\t\\t\\t\\t</span>\\n\\t\\t\\t\\t\\t\\t\\t\\t</span>\\n\\t\\t\\t\\t\\t\\t\\t</a>\\n\\t\\t\\t\\t\\t\\t\\t\\t\\t\\t\\t\\t\\t\\t\\t\\t\\t\\t\\t\\t\\t\\t\\t\\t<button type=\"button\" id=\"btn_2xMI\" class=\"btn_post btn_default #follow\" value=\"2xMI\">\\n\\t\\t\\t\\t\\t\\t\\t\\t\\t\\t구독하기\\n\\t\\t\\t\\t\\t\\t\\t\\t\\t\\t<span class=\"ico_brunch\"></span>\\n\\t\\t\\t\\t\\t\\t\\t\\t\\t</button>\\n\\t\\t\\t\\t\\t\\t\\t\\t\\t\\t\\t\\t\\t\\t\\t\\t\\t\\t\\t\\t\\t</li>\\n\\t\\t\\t\\t\\t\\t\\t\\t\\t\\t\\t\\t\\t\\t\\t\\t\\t\\t\\t\\t<li >\\n\\t\\t\\t\\t\\t\\t\\t<!-- 2015-04-03 제목만 있을경우 single_line 부여 -->\\n\\t\\t\\t\\t\\t\\t\\t<a href=\"/@micamica199\" class=\"ico_brunch bloger_thumb #profile\"> <!-- 2015-04-03 클래스 link_thumb 삭제 -->\\n\\t\\t\\t\\t\\t\\t\\t\\t<img src=\"//img1.daumcdn.net/thumb/C42x42/?fname=http://t1.daumcdn.net/brunch/service/guest/image/87w3IshJ6YmhC7hvO2MGaDQfs_w\" width=\"42\" height=\"42\" class=\"img_thumb\" alt=\"이미지정보\"> <!-- 2015-04-03 img 사이즈 변경 -->\\n\\t\\t\\t\\t\\t\\t\\t</a>\\n\\t\\t\\t\\t\\t\\t\\t<a href=\"/@micamica199\" class=\"link_follow #profile\">\\n\\t\\t\\t\\t\\t\\t\\t\\t<span class=\"cont_follow\">\\n\\t\\t\\t\\t\\t\\t\\t\\t\\t<strong class=\"tit_subject\">탐구토끼</strong>\\n\\t\\t\\t\\t\\t\\t\\t\\t\\t<span class=\"desc_follow\">\\n\\t\\t\\t\\t\\t\\t\\t\\t\\t\\t취미가 많은 음미주의자\\n\\t\\t\\t\\t\\t\\t\\t\\t\\t</span>\\n\\t\\t\\t\\t\\t\\t\\t\\t</span>\\n\\t\\t\\t\\t\\t\\t\\t</a>\\n\\t\\t\\t\\t\\t\\t\\t\\t\\t\\t\\t\\t\\t\\t\\t\\t\\t\\t\\t\\t\\t\\t\\t\\t<button type=\"button\" id=\"btn_oBJ\" class=\"btn_post btn_default #follow\" value=\"oBJ\">\\n\\t\\t\\t\\t\\t\\t\\t\\t\\t\\t구독하기\\n\\t\\t\\t\\t\\t\\t\\t\\t\\t\\t<span class=\"ico_brunch\"></span>\\n\\t\\t\\t\\t\\t\\t\\t\\t\\t</button>\\n\\t\\t\\t\\t\\t\\t\\t\\t\\t\\t\\t\\t\\t\\t\\t\\t\\t\\t\\t\\t\\t</li>\\n\\t\\t\\t\\t\\t\\t\\t\\t\\t\\t\\t\\t\\t\\t\\t\\t\\t\\t\\t\\t<li >\\n\\t\\t\\t\\t\\t\\t\\t<!-- 2015-04-03 제목만 있을경우 single_line 부여 -->\\n\\t\\t\\t\\t\\t\\t\\t<a href=\"/@dohwaceramic\" class=\"ico_brunch bloger_thumb #profile\"> <!-- 2015-04-03 클래스 link_thumb 삭제 -->\\n\\t\\t\\t\\t\\t\\t\\t\\t<img src=\"//img1.daumcdn.net/thumb/C42x42/?fname=http://t1.daumcdn.net/brunch/service/user/B35/image/Lp5OVfu_UsyDhAJeJjYKzWavFWM.png\" width=\"42\" height=\"42\" class=\"img_thumb\" alt=\"이미지정보\"> <!-- 2015-04-03 img 사이즈 변경 -->\\n\\t\\t\\t\\t\\t\\t\\t</a>\\n\\t\\t\\t\\t\\t\\t\\t<a href=\"/@dohwaceramic\" class=\"link_follow #profile\">\\n\\t\\t\\t\\t\\t\\t\\t\\t<span class=\"cont_follow\">\\n\\t\\t\\t\\t\\t\\t\\t\\t\\t<strong class=\"tit_subject\">세라믹 아티스트 도화김소영</strong>\\n\\t\\t\\t\\t\\t\\t\\t\\t\\t<span class=\"desc_follow\">\\n\\t\\t\\t\\t\\t\\t\\t\\t\\t\\t세라믹 주얼리 아티스트 도화 김소영 4번의 &lt;산티아고순례길&gt; 총4,040km 완주 도자기와 13년, 산티아고순례길과 7년째 연애중완주 홍천 산속 귀촌생활 &amp; 작업이야기\\n\\t\\t\\t\\t\\t\\t\\t\\t\\t</span>\\n\\t\\t\\t\\t\\t\\t\\t\\t</span>\\n\\t\\t\\t\\t\\t\\t\\t</a>\\n\\t\\t\\t\\t\\t\\t\\t\\t\\t\\t\\t\\t\\t\\t\\t\\t\\t\\t\\t\\t\\t\\t\\t\\t<button type=\"button\" id=\"btn_B35\" class=\"btn_post btn_default #follow\" value=\"B35\">\\n\\t\\t\\t\\t\\t\\t\\t\\t\\t\\t구독하기\\n\\t\\t\\t\\t\\t\\t\\t\\t\\t\\t<span class=\"ico_brunch\"></span>\\n\\t\\t\\t\\t\\t\\t\\t\\t\\t</button>\\n\\t\\t\\t\\t\\t\\t\\t\\t\\t\\t\\t\\t\\t\\t\\t\\t\\t\\t\\t\\t\\t</li>\\n\\t\\t\\t\\t\\t\\t\\t\\t\\t\\t\\t\\t</ul>\\n            <div id=\"loadingIco\" class=\"layer-more-loading\" style=\"display: none\">\\n                <div class=\"loader\">\\n                    <div class=\"dot dot1\"></div>\\n                    <div class=\"dot dot2\"></div>\\n                    <div class=\"dot dot3\"></div>\\n                </div>\\n            </div>\\n\\t\\t</div>\\n\\t</div>\\n</main>\\n\\n\\t\\n\\t\\n\\t\\n\\n\\t<script type=\"text/javascript\" src=\"//t1.daumcdn.net/brunch/static/real/201904101429/product/B.min.js\"></script>\\n\\t<script src=\"//developers.kakao.com/sdk/js/kakao.min.js?v=2\"></script>\\n\\t\\n            <script type=\"text/javascript\" src=\"//t1.daumcdn.net/brunch/static/real/201904101429/product/B.Message.min.js\"></script>\\n    \\n    <script type=\"text/javascript\">\\n        B.Config = {\"apiUrl\":\"https://api.brunch.co.kr\",\"servicecode\":\"7eF1DYRbLy8LCLcy\",\"serviceUrl\":\"https://brunch.co.kr\",\"active\":\"real\",\"isInnerNetwork\":false,\"kakaoJSKey\":\"7577e1f674fc3bc73963db5bf15e03df\",\"serviceDomain\":\"brunch.co.kr\",\"templateUrl\":\"/template/\"};\\n        B.UserAgent = {\\n            platform: \"unknown\"\\n        };\\n        B.User = {\\n                };\\n        B.SocialUser = {\\n                            check: false\\n                    }\\n\\n    </script>\\n\\n<script type=\"text/javascript\" src=\"//t1.daumcdn.net/brunch/static/real/201904101429/product/B.Util.min.js\"></script>\\n\\n\\t\\t\\t<div class=\"compatible-info\">\\n\\t\\t\\t\\t<em class=\"text_noti\">브런치는 최신 브라우저에 최적화 되어있습니다.</em>\\n\\t\\t\\t\\t<a class=\"ico_browser ico_ie text_hide\" target=\"_blank\" href=\"http://windows.microsoft.com/ko-kr/internet-explorer/download-ie\">IE</a>\\n\\t\\t\\t\\t<a class=\"ico_browser ico_chrome text_hide\" target=\"_blank\" href=\"http://www.google.co.kr/chrome/\">chrome</a>\\n\\t\\t\\t\\t<a class=\"ico_browser ico_safari text_hide\" target=\"_blank\" href=\"http://www.apple.com/kr/safari/\">safari</a>\\n\\t\\t</div>\\n\\t\\n\\t<script type=\"text/javascript\">\\n\\t\\ttry {\\n\\t\\t\\t\\t\\t\\t\\tif(jQuery.userAgent.browser.name == \\'msie\\' && jQuery.userAgent.browser.version.major < 11) {\\n\\t\\t\\t\\t\\t\\tjQuery(\\'body\\').addClass(\\'no-compatible\\');\\n\\t\\t\\t}\\n\\t\\t\\t\\t\\t\\t} catch(e) {\\n\\t\\t}\\n\\t</script>\\n\\n\\n\\t\\t\\t<script type=\"text/javascript\" src=\"//t1.daumcdn.net/brunch/static/real/201904101429/product/B.Subscription.Template.js\"></script>\\n\\t\\t<script type=\"text/javascript\" src=\"//t1.daumcdn.net/brunch/static/real/201904101429/product/B.Subscription.min.js\"></script>\\n\\t\\n\\n<script type=\"text/javascript\">\\n\\tB.Subscription.intEvent(\"LKp\", true, \"2807697\", \"writers\", \"\");\\n</script>\\n\\n\\t\\n<script type=\"text/javascript\">\\n\\t//티아라 스크립트\\n\\t\\t\\t_tiq.push([\\'__setPageName\\', \\'my\\']);\\n\\t\\t_tiq.push([\\'__setParam\\', \\'svcdomain\\', \\'brunch.co.kr\\']);\\n\\t_tiq.push([\\'__setParam\\', \\'puid\\', 1555151893320]); // 서버 시간 (Unix Timestamp ms)입니다.\\n\\t_tiq.push([\\'__setConfig\\', {\\n\\t\\tenableButton:true,\\n\\t\\tenableScroll:true\\n\\t}]);\\n\\t_tiq.push([\\'__clickOn\\']);\\n\\t_tiq.push([\\'__trackPageview\\']);\\n\\t(function(d) {\\n\\t\\tvar se = d.createElement(\\'script\\'); se.type = \\'text/javascript\\'; se.async = true;\\n\\t\\tse.src = location.protocol + \\'//m2.daumcdn.net/tiara/js/td.min.js\\';\\n\\t\\tvar s = d.getElementsByTagName(\\'head\\')[0]; s.appendChild(se);\\n\\t})(document);\\n\\n\\t</script></body>\\n</html>'"
      ]
     },
     "execution_count": 22,
     "metadata": {},
     "output_type": "execute_result"
    }
   ],
   "source": [
    "r = requests.get('https://brunch.co.kr/@he-man/following')\n",
    "r.\n"
   ]
  },
  {
   "cell_type": "code",
   "execution_count": 23,
   "metadata": {},
   "outputs": [
    {
     "data": {
      "text/plain": [
       "3"
      ]
     },
     "execution_count": 23,
     "metadata": {},
     "output_type": "execute_result"
    }
   ],
   "source": [
    "a = 'asaa'\n",
    "a.count('a')"
   ]
  },
  {
   "cell_type": "code",
   "execution_count": null,
   "metadata": {},
   "outputs": [],
   "source": []
  },
  {
   "cell_type": "code",
   "execution_count": 4,
   "metadata": {},
   "outputs": [
    {
     "data": {
      "text/plain": [
       "\"''''''''''''''\""
      ]
     },
     "execution_count": 4,
     "metadata": {},
     "output_type": "execute_result"
    }
   ],
   "source": [
    "a.replace(\"'\", \"''\")"
   ]
  },
  {
   "cell_type": "code",
   "execution_count": null,
   "metadata": {},
   "outputs": [],
   "source": []
  },
  {
   "cell_type": "code",
   "execution_count": null,
   "metadata": {},
   "outputs": [],
   "source": []
  },
  {
   "cell_type": "code",
   "execution_count": null,
   "metadata": {},
   "outputs": [],
   "source": []
  },
  {
   "cell_type": "code",
   "execution_count": null,
   "metadata": {},
   "outputs": [],
   "source": []
  },
  {
   "cell_type": "code",
   "execution_count": 5,
   "metadata": {},
   "outputs": [
    {
     "ename": "TypeError",
     "evalue": "'str' object is not an iterator",
     "output_type": "error",
     "traceback": [
      "\u001b[0;31m---------------------------------------------------------------------------\u001b[0m",
      "\u001b[0;31mTypeError\u001b[0m                                 Traceback (most recent call last)",
      "\u001b[0;32m<ipython-input-5-adc0cedaf849>\u001b[0m in \u001b[0;36m<module>\u001b[0;34m\u001b[0m\n\u001b[0;32m----> 1\u001b[0;31m \u001b[0mprint\u001b[0m\u001b[0;34m(\u001b[0m\u001b[0mnext\u001b[0m\u001b[0;34m(\u001b[0m\u001b[0ma\u001b[0m\u001b[0;34m)\u001b[0m\u001b[0;34m)\u001b[0m\u001b[0;34m\u001b[0m\u001b[0;34m\u001b[0m\u001b[0m\n\u001b[0m\u001b[1;32m      2\u001b[0m \u001b[0mprint\u001b[0m\u001b[0;34m(\u001b[0m\u001b[0ma\u001b[0m\u001b[0;34m.\u001b[0m\u001b[0msend\u001b[0m\u001b[0;34m(\u001b[0m\u001b[0;36m3\u001b[0m\u001b[0;34m)\u001b[0m\u001b[0;34m)\u001b[0m\u001b[0;34m\u001b[0m\u001b[0;34m\u001b[0m\u001b[0m\n\u001b[1;32m      3\u001b[0m \u001b[0mprint\u001b[0m\u001b[0;34m(\u001b[0m\u001b[0ma\u001b[0m\u001b[0;34m.\u001b[0m\u001b[0msend\u001b[0m\u001b[0;34m(\u001b[0m\u001b[0;36m7\u001b[0m\u001b[0;34m)\u001b[0m\u001b[0;34m)\u001b[0m\u001b[0;34m\u001b[0m\u001b[0;34m\u001b[0m\u001b[0m\n",
      "\u001b[0;31mTypeError\u001b[0m: 'str' object is not an iterator"
     ]
    }
   ],
   "source": [
    "print(next(a))\n",
    "print(a.send(3))\n",
    "print(a.send(7))\n"
   ]
  },
  {
   "cell_type": "code",
   "execution_count": null,
   "metadata": {},
   "outputs": [],
   "source": [
    "a.send(2)"
   ]
  },
  {
   "cell_type": "code",
   "execution_count": null,
   "metadata": {},
   "outputs": [],
   "source": [
    "def countdown(n):\n",
    "    while n > 0:\n",
    "        yield n\n",
    "        n -= 1\n",
    "for i in countdown(5):\n",
    "    print(i, end=\" \")\n",
    "### 5 4 3 2 1"
   ]
  },
  {
   "cell_type": "code",
   "execution_count": null,
   "metadata": {},
   "outputs": [],
   "source": [
    "def print_abc():\n",
    "    yield print('a')\n",
    "    yield print('b')\n",
    "    yield 1"
   ]
  },
  {
   "cell_type": "code",
   "execution_count": null,
   "metadata": {},
   "outputs": [],
   "source": [
    "a = print_abc()\n",
    "next(a)\n",
    "next(a)\n",
    "print(type(next(a)))"
   ]
  },
  {
   "cell_type": "code",
   "execution_count": null,
   "metadata": {},
   "outputs": [],
   "source": [
    "import asyncio\n",
    "import time\n",
    "import functools\n",
    "\n",
    "async def main():\n",
    "    task1 = asyncio.create_task(functools.partial(say_after, 1, 'hello'))\n",
    "#         say_after(1, 'hello'))\n",
    "\n",
    "    task2 = asyncio.create_task(functools.partial(say_after, 2, 'hello'))\n",
    "#         say_after(2, 'world'))\n",
    "\n",
    "    print(f\"started at {time.strftime('%X')}\")\n",
    "\n",
    "    # Wait until both tasks are completed (should take\n",
    "    # around 2 seconds.)\n",
    "    await task1\n",
    "    await task2\n",
    "\n",
    "    print(f\"finished at {time.strftime('%X')}\")"
   ]
  },
  {
   "cell_type": "code",
   "execution_count": null,
   "metadata": {},
   "outputs": [],
   "source": [
    "loop = asyncio.get_event_loop()\n",
    "result = loop.run_until_complete(main())"
   ]
  },
  {
   "cell_type": "code",
   "execution_count": null,
   "metadata": {},
   "outputs": [],
   "source": [
    "import asyncio\n",
    "import functools\n",
    " \n",
    " \n",
    "def event_handler(loop, stop=False):\n",
    "    print('Event handler called')\n",
    "    if stop:\n",
    "        print('stopping the loop')\n",
    "        loop.stop()\n",
    " \n",
    " \n",
    "if __name__ == '__main__':\n",
    "    loop = asyncio.get_event_loop()\n",
    "    try:\n",
    "        loop.call_soon(functools.partial(event_handler, loop))\n",
    "        print('starting event loop')\n",
    "        loop.call_soon(functools.partial(event_handler, loop, stop=True))\n",
    " \n",
    "        loop.run_forever()\n",
    "    finally:\n",
    "        print('closing event loop')\n",
    "        loop.close()\n",
    "        "
   ]
  },
  {
   "cell_type": "code",
   "execution_count": null,
   "metadata": {},
   "outputs": [],
   "source": [
    "a = '123'\n",
    "b = '3a2'\n",
    "bool('1' in a)\n",
    "a.pop(0)\n"
   ]
  },
  {
   "cell_type": "code",
   "execution_count": null,
   "metadata": {},
   "outputs": [],
   "source": [
    "a = -1.5\n",
    "print(a.as_integer_ratio())\n",
    "dir(a)"
   ]
  },
  {
   "cell_type": "code",
   "execution_count": null,
   "metadata": {},
   "outputs": [],
   "source": [
    "assert 1 == 2, (\n",
    "            \"'%s' should either include a `queryset` attribute, \"\n",
    "            \"or override the `get_queryset()` method.\"\n",
    "            % '안녕하세요'\n",
    "        )"
   ]
  },
  {
   "cell_type": "code",
   "execution_count": null,
   "metadata": {},
   "outputs": [],
   "source": [
    "class A:\n",
    "    def __init__(self):\n",
    "        print('A.__init__')\n",
    "\n",
    "class B(A):\n",
    "    def __init__(self):\n",
    "        print('B.__init__')\n",
    "        \n",
    "class C(B):\n",
    "    def __init__(self):\n",
    "#         print(super(C, self), super())\n",
    "        super(B, self).__init__()\n",
    "        \n",
    "a = B()\n",
    "b = C()"
   ]
  }
 ],
 "metadata": {
  "kernelspec": {
   "display_name": "Python 3",
   "language": "python",
   "name": "python3"
  },
  "language_info": {
   "codemirror_mode": {
    "name": "ipython",
    "version": 3
   },
   "file_extension": ".py",
   "mimetype": "text/x-python",
   "name": "python",
   "nbconvert_exporter": "python",
   "pygments_lexer": "ipython3",
   "version": "3.6.7"
  }
 },
 "nbformat": 4,
 "nbformat_minor": 2
}
