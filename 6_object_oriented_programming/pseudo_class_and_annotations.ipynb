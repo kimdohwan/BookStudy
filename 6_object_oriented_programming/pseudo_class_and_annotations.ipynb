{
 "cells": [
  {
   "cell_type": "markdown",
   "metadata": {},
   "source": [
    "### 객체를 알기 위해 클래스와 똑같이 동작하는 함수를 구현해본다\n",
    "- class 키워드를 사용하지 않고 클래스와 비슷학 객체지향 프로그래밍을 구현하는 이유는 함수 정의가 제각각 떨어져있고 직관적이지 않은 코드를 작성해 보면서 클래스의 필요성을 느끼기 위해서이다."
   ]
  },
  {
   "cell_type": "code",
   "execution_count": 1,
   "metadata": {},
   "outputs": [],
   "source": [
    "''' annotations 작성 하는법\n",
    "함수 인자로 들어가는 곳에 colon 의 형태로 지정해준다.\n",
    "여기서 볼 것은 money 의 str 이 함수 인자의 자료형을 제약하지 않는다는 것이다.\n",
    "str 부분은 밑쪽에서 다시 살펴보자.\n",
    "equal(=) 과 colon(:) 을 구분하자 '''\n",
    "def person_init(name: 'annotation', money: str):\n",
    "    obj = {'name': name, 'money': money}\n",
    "    obj['give_money'] = Person[1]\n",
    "    obj['get_money'] = Person[2]\n",
    "    obj['show'] = Person[3]\n",
    "    return obj\n",
    "\n",
    "def give_money(self, other, money):\n",
    "    self['money'] -= money\n",
    "    other['get_money'](other, money)\n",
    "    \n",
    "def get_money(self, money):\n",
    "    self['money'] += money\n",
    "\n",
    "def show(self):\n",
    "    print('{}: {}'.format(self['name'], self['money']))"
   ]
  },
  {
   "cell_type": "code",
   "execution_count": 2,
   "metadata": {},
   "outputs": [],
   "source": [
    "Person = person_init, give_money, get_money, show"
   ]
  },
  {
   "cell_type": "code",
   "execution_count": 3,
   "metadata": {},
   "outputs": [
    {
     "name": "stdout",
     "output_type": "stream",
     "text": [
      "greg: 5000\n",
      "john: 2000\n",
      "greg: 3000\n",
      "john: 4000\n"
     ]
    }
   ],
   "source": [
    "g = Person[0]('greg', 5000)\n",
    "j = Person[0]('john', 2000)\n",
    "\n",
    "g['show'](g)\n",
    "j['show'](j)\n",
    "\n",
    "g['give_money'](g, j, 2000)\n",
    "\n",
    "g['show'](g)\n",
    "j['show'](j)\n"
   ]
  },
  {
   "cell_type": "markdown",
   "metadata": {},
   "source": [
    "#### __annotations__  \n",
    "- 주석(인자에 대한 설명)"
   ]
  },
  {
   "cell_type": "code",
   "execution_count": 4,
   "metadata": {},
   "outputs": [
    {
     "name": "stdout",
     "output_type": "stream",
     "text": [
      "['__annotations__', '__call__', '__class__', '__closure__', '__code__', '__defaults__', '__delattr__', '__dict__', '__dir__', '__doc__', '__eq__', '__format__', '__ge__', '__get__', '__getattribute__', '__globals__', '__gt__', '__hash__', '__init__', '__init_subclass__', '__kwdefaults__', '__le__', '__lt__', '__module__', '__name__', '__ne__', '__new__', '__qualname__', '__reduce__', '__reduce_ex__', '__repr__', '__setattr__', '__sizeof__', '__str__', '__subclasshook__']\n"
     ]
    }
   ],
   "source": [
    "print(dir(Person[1]))"
   ]
  },
  {
   "cell_type": "code",
   "execution_count": 5,
   "metadata": {},
   "outputs": [
    {
     "data": {
      "text/plain": [
       "{'name': 'annotation', 'money': str}"
      ]
     },
     "execution_count": 5,
     "metadata": {},
     "output_type": "execute_result"
    }
   ],
   "source": [
    "Person[0].__annotations__"
   ]
  },
  {
   "cell_type": "code",
   "execution_count": 7,
   "metadata": {},
   "outputs": [
    {
     "name": "stdout",
     "output_type": "stream",
     "text": [
      "{'name': 'kim', 'money': 100, 'give_money': <function give_money at 0x7fa1fc3af0d0>, 'get_money': <function get_money at 0x7fa1fc3af048>, 'show': <function show at 0x7fa1fc3af7b8>}\n",
      "<class 'int'>\n"
     ]
    }
   ],
   "source": [
    "me = Person[0]('kim', 100)\n",
    "print(me)\n",
    "# money 는 주석에 str 이지만 int 로 입력되었음\n",
    "print(type(me['money']))"
   ]
  }
 ],
 "metadata": {
  "kernelspec": {
   "display_name": "Python 3",
   "language": "python",
   "name": "python3"
  },
  "language_info": {
   "codemirror_mode": {
    "name": "ipython",
    "version": 3
   },
   "file_extension": ".py",
   "mimetype": "text/x-python",
   "name": "python",
   "nbconvert_exporter": "python",
   "pygments_lexer": "ipython3",
   "version": "3.6.5"
  }
 },
 "nbformat": 4,
 "nbformat_minor": 2
}
