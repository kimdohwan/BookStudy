{
 "cells": [
  {
   "cell_type": "code",
   "execution_count": 8,
   "metadata": {},
   "outputs": [],
   "source": [
    "class Person:\n",
    "    def __init__(self, name, money):\n",
    "        self.name = name\n",
    "        self.money = money\n",
    "        \n",
    "    def give_money(self, other, money):\n",
    "        self.money -= money\n",
    "        other.get_money(money)\n",
    "        \n",
    "    def get_money(self, money):\n",
    "        self.money += money\n",
    "        \n",
    "    def show(self):\n",
    "        print(f'{self.name}: {self.money}')"
   ]
  },
  {
   "cell_type": "code",
   "execution_count": 10,
   "metadata": {},
   "outputs": [
    {
     "name": "stdout",
     "output_type": "stream",
     "text": [
      "greg: 5000\n",
      "john: 2000\n",
      "greg: 3000\n",
      "john: 4000\n"
     ]
    }
   ],
   "source": [
    "g = Person('greg', 5000)\n",
    "j = Person('john', 2000)\n",
    "\n",
    "g.show()\n",
    "j.show()\n",
    "\n",
    "g.give_money(j, 2000)\n",
    "\n",
    "g.show()\n",
    "j.show()"
   ]
  },
  {
   "cell_type": "code",
   "execution_count": 21,
   "metadata": {},
   "outputs": [
    {
     "name": "stdout",
     "output_type": "stream",
     "text": [
      "<class 'function'> <class 'function'> <class 'function'> \n",
      " <class 'method'> <class 'method'> <class 'method'>\n"
     ]
    }
   ],
   "source": [
    "''' 클래스와 인스턴스의 차이점\n",
    "클래스는 \"함수\"\n",
    "인스턴스는 \"메서드\" '''\n",
    "\n",
    "print(\n",
    "    type(Person.__init__),\n",
    "    type(Person.give_money),\n",
    "    type(Person.get_money),\n",
    "    '\\n',\n",
    "    type(g.__init__),\n",
    "    type(g.give_money),\n",
    "    type(g.get_money),\n",
    ")\n"
   ]
  },
  {
   "cell_type": "code",
   "execution_count": 34,
   "metadata": {},
   "outputs": [
    {
     "name": "stdout",
     "output_type": "stream",
     "text": [
      "['__class__', '__delattr__', '__dict__', '__dir__', '__doc__', '__eq__', '__format__', '__ge__', '__getattribute__', '__gt__', '__hash__', '__init__', '__init_subclass__', '__le__', '__lt__', '__module__', '__ne__', '__new__', '__reduce__', '__reduce_ex__', '__repr__', '__setattr__', '__sizeof__', '__str__', '__subclasshook__', '__weakref__', 'get_money', 'give_money', 'show']\n",
      "['__class__', '__delattr__', '__dict__', '__dir__', '__doc__', '__eq__', '__format__', '__ge__', '__getattribute__', '__gt__', '__hash__', '__init__', '__init_subclass__', '__le__', '__lt__', '__module__', '__ne__', '__new__', '__reduce__', '__reduce_ex__', '__repr__', '__setattr__', '__sizeof__', '__str__', '__subclasshook__', '__weakref__', 'get_money', 'give_money', 'money', 'name', 'show']\n"
     ]
    }
   ],
   "source": [
    "''' 클래스와 인스턴스의 dir 목록을 비교해보자\n",
    "내가 만든 클래스 정의안에서는 \n",
    "인스턴스 attribute 인 money, name 이 class dir에 추가되어있다\n",
    "\n",
    "파이썬 문서에 적힌 설명\n",
    "The default dir() mechanism behaves differently with different types of objects, as it attempts to produce the most relevant, rather than complete, information:\n",
    "\n",
    "If the object is a module object, the list contains the names of the module’s attributes.\n",
    "If the object is a type or class object, the list contains the names of its attributes, and recursively of the attributes of its bases.\n",
    "'''\n",
    "\n",
    "print(dir(Person))\n",
    "print(dir(g))\n",
    "\n"
   ]
  }
 ],
 "metadata": {
  "kernelspec": {
   "display_name": "Python 3",
   "language": "python",
   "name": "python3"
  },
  "language_info": {
   "codemirror_mode": {
    "name": "ipython",
    "version": 3
   },
   "file_extension": ".py",
   "mimetype": "text/x-python",
   "name": "python",
   "nbconvert_exporter": "python",
   "pygments_lexer": "ipython3",
   "version": "3.6.5"
  }
 },
 "nbformat": 4,
 "nbformat_minor": 2
}
