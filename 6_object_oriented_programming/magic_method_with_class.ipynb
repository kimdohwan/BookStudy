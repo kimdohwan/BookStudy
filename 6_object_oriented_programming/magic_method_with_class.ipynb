{
 "cells": [
  {
   "cell_type": "code",
   "execution_count": 1,
   "metadata": {},
   "outputs": [],
   "source": [
    "class TestClass:\n",
    "    def __init__(self, name):\n",
    "        self.name = name\n",
    "        \n",
    "    def method_function(self):\n",
    "        print('this is method function')\n",
    "        \n",
    "    def __call__(self, x, y):\n",
    "        return x + y\n",
    "    \n",
    "    def __getattr__(self, attribute):\n",
    "        return f'{attribute} 는 없다 이놈아'\n",
    "\n",
    "        \n",
    "def common_function():\n",
    "    print('this is common function')\n",
    "\n",
    "a = TestClass('안녕')\n",
    "b = common_function"
   ]
  },
  {
   "cell_type": "code",
   "execution_count": 2,
   "metadata": {},
   "outputs": [
    {
     "name": "stdout",
     "output_type": "stream",
     "text": [
      "['__call__', '__class__', '__delattr__', '__dict__', '__dir__', '__doc__', '__eq__', '__format__', '__ge__', '__getattr__', '__getattribute__', '__gt__', '__hash__', '__init__', '__init_subclass__', '__le__', '__lt__', '__module__', '__ne__', '__new__', '__reduce__', '__reduce_ex__', '__repr__', '__setattr__', '__sizeof__', '__str__', '__subclasshook__', '__weakref__', 'method_function'] \n",
      " ['__call__', '__class__', '__delattr__', '__dict__', '__dir__', '__doc__', '__eq__', '__format__', '__ge__', '__getattr__', '__getattribute__', '__gt__', '__hash__', '__init__', '__init_subclass__', '__le__', '__lt__', '__module__', '__ne__', '__new__', '__reduce__', '__reduce_ex__', '__repr__', '__setattr__', '__sizeof__', '__str__', '__subclasshook__', '__weakref__', 'method_function', 'name'] \n",
      " ['__call__', '__class__', '__delattr__', '__dir__', '__doc__', '__eq__', '__format__', '__func__', '__ge__', '__get__', '__getattribute__', '__gt__', '__hash__', '__init__', '__init_subclass__', '__le__', '__lt__', '__ne__', '__new__', '__reduce__', '__reduce_ex__', '__repr__', '__self__', '__setattr__', '__sizeof__', '__str__', '__subclasshook__'] \n",
      " ['__annotations__', '__call__', '__class__', '__closure__', '__code__', '__defaults__', '__delattr__', '__dict__', '__dir__', '__doc__', '__eq__', '__format__', '__ge__', '__get__', '__getattribute__', '__globals__', '__gt__', '__hash__', '__init__', '__init_subclass__', '__kwdefaults__', '__le__', '__lt__', '__module__', '__name__', '__ne__', '__new__', '__qualname__', '__reduce__', '__reduce_ex__', '__repr__', '__setattr__', '__sizeof__', '__str__', '__subclasshook__']\n"
     ]
    }
   ],
   "source": [
    "# 클래스와 함수에 들어가는 dir 의 차이와 용도를 알아본다\n",
    "print(\n",
    "    dir(TestClass),\n",
    "    '\\n',\n",
    "    dir(a), # 인스턴스\n",
    "    '\\n',\n",
    "    dir(a.method_function), # 인스턴스의 메소드(호출포함)\n",
    "    '\\n',\n",
    "    dir(b), # 일반함수\n",
    ")"
   ]
  },
  {
   "cell_type": "markdown",
   "metadata": {},
   "source": [
    "- 인스턴스의 메소드와 일반함수를 dir() 해본 결과\n",
    "    - 호출 시 () o  \n",
    "    둘다 같은 attribute 가짐, 따라서 인스턴스의 메소드나 일반 함수나 같은 방식으로 동작한다는 것을 알 수 있다.  \n",
    "    - 호출 없음 () x  \n",
    "        - 일반 함수만 가지는 attribute:  \n",
    "            annotations, closure, code, default, dict, globals, kwdefault, module, name, qualname, \n",
    "        - 인스턴스 메소드만 가지는 attribute:  \n",
    "            func, self, \n",
    "            \n",
    "attribute 의 동작을 공부하면서 왜 저렇게 다르고 어떻게 작동하는지 참고하자 "
   ]
  },
  {
   "cell_type": "code",
   "execution_count": 3,
   "metadata": {},
   "outputs": [
    {
     "name": "stdout",
     "output_type": "stream",
     "text": [
      "<class '__main__.TestClass'> <class 'function'>\n",
      "<class '__main__.TestClass'> <class 'function'>\n",
      "<class 'type'> <class 'type'>\n"
     ]
    }
   ],
   "source": [
    "'''__class__\n",
    "- class instance 가 속한 class\n",
    "- type() 실행 시 object.__class__와 같은 object 를 return'''\n",
    "print(a.__class__, b.__class__)\n",
    "print(type(a), type(b))\n",
    "print(type(type), type.__class__)"
   ]
  },
  {
   "cell_type": "code",
   "execution_count": 4,
   "metadata": {},
   "outputs": [
    {
     "name": "stdout",
     "output_type": "stream",
     "text": [
      "<function TestClass.__call__ at 0x7fdab52a0158>\n",
      "<bound method TestClass.__call__ of <__main__.TestClass object at 0x7fdab5293ef0>>\n",
      "3\n",
      "True True True\n"
     ]
    }
   ],
   "source": [
    "'''__call__\n",
    "- () 를 의미, callable() 함수가 True 를 return 한다면 __call__ 있다고 볼수있다.(아닌경우도 있음)\n",
    "- 클래스는 callable(인스턴스 생성 시 사용)\n",
    "- 클래스에 __call__() 구현 할 경우 인스턴스를 함수처럼 동작하게 할 수 있다.'''\n",
    "print(TestClass.__call__)\n",
    "print(a.__call__)\n",
    "print(a(1, 2))\n",
    "print(callable(a), callable(TestClass), callable(b))"
   ]
  },
  {
   "cell_type": "code",
   "execution_count": 5,
   "metadata": {},
   "outputs": [
    {
     "name": "stdout",
     "output_type": "stream",
     "text": [
      "안녕 안녕\n",
      "no 는 없다 이놈아\n",
      "True\n",
      "no 는 없다 이놈아\n",
      "안녕\n",
      "hello\n",
      "True\n"
     ]
    },
    {
     "data": {
      "text/plain": [
       "\"정리해보기 \\n같은 기능을 하는 3가지\\n    a.name\\n    getattr(a, 'name')\\n    a.__getattribute('name') \\n__getattr__ 의 역할 \\n    클래스에 정의된 경우, 존재하지 않는 attr 을 존재하는 것처럼 해준다(hasattr->T)\\n    정의 없는 경우, getattr 에서 에러발생(3번째 인자 유무에 따라 다름, hasattr->F)\\nget, set, del 친구들의 역할 \\n    클래스의 attr 에 들어갈 value 값을 설정, 삭제해주며 \\n    매직 매서드가 존재함으로서 \\n    del, getattr(), setattr() 과 같은 함수사용이 가능한 느낌.\""
      ]
     },
     "execution_count": 5,
     "metadata": {},
     "output_type": "execute_result"
    }
   ],
   "source": [
    "'''__getattr__, __setattr__, __delattr__, __getattribute__\n",
    "- hasattr() 함수는 getattr() 을 호출함으로써 실행된다고 한다(Error->False)\n",
    "- getattr\n",
    "You use\n",
    "__getattr__ to define how to handle attributes that are not found\n",
    "and\n",
    "getattr to get the attributes\n",
    "__getattribute__ 는 getattr() 과 같은 역할을 하는듯\n",
    "하지만 __getattr__ 은 없는 속성 처리를 위한 메서드인듯\n",
    "'''\n",
    "print(getattr(a, 'name'), a.name) # name 이 없을 경우 AttributeError \n",
    "# a.name 은 위의 getattr(a, 'name') 과 동일(쟤를 호출하나봐)\n",
    "\n",
    "print(getattr(a, 'no', 'a')) \n",
    "# no 라는 attr 이 없으면 'a' 를 리턴\n",
    "# (하지만 내가 직접 __getattr__을 정의했기때문에 해당하는 attr 이 없을 경우\n",
    "# 직접 정의한 __getattr__ 이 실행된다)\n",
    "\n",
    "print(hasattr(a, 'no')) \n",
    "# no 라는 attr 이 생성되는건 아니다.\n",
    "# (__getattr__ 이 정의되어 있다면 True를 반환\n",
    "# 정의되지 않았다면 False 를 반환)\n",
    "print(a.no) # __getattr__ 정의 했으므로 에러 안남(정의안하면 에러 발생)\n",
    "\n",
    "print(a.__getattribute__('name')) # 얘가 있어서 getattr() 이 되나봐?\n",
    "\n",
    "setattr(a, 'hi', 'hello') # a.hi = 'hello' 와 동일\n",
    "print(a.hi)\n",
    "\n",
    "delattr(a, 'hi') # del a.hi 와 동일 \n",
    "print(hasattr(a, 'hi'))\n",
    "\n",
    "'''정리해보기 \n",
    "같은 기능을 하는 3가지\n",
    "    a.name\n",
    "    getattr(a, 'name')\n",
    "    a.__getattribute('name') \n",
    "__getattr__ 의 역할 \n",
    "    클래스에 정의된 경우, 존재하지 않는 attr 을 존재하는 것처럼 해준다(hasattr->T)\n",
    "    정의 없는 경우, getattr 에서 에러발생(3번째 인자 유무에 따라 다름, hasattr->F)\n",
    "get, set, del 친구들의 역할 \n",
    "    클래스의 attr 에 들어갈 value 값을 설정, 삭제해주며 \n",
    "    매직 매서드가 존재함으로서 \n",
    "    del, getattr(), setattr() 과 같은 함수사용이 가능한 느낌.'''"
   ]
  },
  {
   "cell_type": "code",
   "execution_count": 6,
   "metadata": {},
   "outputs": [
    {
     "name": "stdout",
     "output_type": "stream",
     "text": [
      "['name', '__module__', '__init__', 'method_function', '__call__', '__getattr__', '__dict__', '__weakref__', '__doc__', '__repr__', '__hash__', '__str__', '__getattribute__', '__setattr__', '__delattr__', '__lt__', '__le__', '__eq__', '__ne__', '__gt__', '__ge__', '__new__', '__reduce_ex__', '__reduce__', '__subclasshook__', '__init_subclass__', '__format__', '__sizeof__', '__dir__', '__class__'] \n",
      " ['__call__', '__class__', '__delattr__', '__dict__', '__dir__', '__doc__', '__eq__', '__format__', '__ge__', '__getattr__', '__getattribute__', '__gt__', '__hash__', '__init__', '__init_subclass__', '__le__', '__lt__', '__module__', '__ne__', '__new__', '__reduce__', '__reduce_ex__', '__repr__', '__setattr__', '__sizeof__', '__str__', '__subclasshook__', '__weakref__', 'method_function', 'name']\n"
     ]
    }
   ],
   "source": [
    "'''__dir__\n",
    "dir()이 객체에서 호출 될 때 실행된다.\n",
    "객체가 __dir__ 이 없거나 __getattr__ 커스텀 정의가 있는경우엔\n",
    "dir() 실행 시 정확한 값이 return 되지 않을 수도 있다.'''\n",
    "print(a.__dir__(), '\\n', dir(a)) # 같은 값"
   ]
  },
  {
   "cell_type": "code",
   "execution_count": 7,
   "metadata": {},
   "outputs": [
    {
     "data": {
      "text/plain": [
       "{'name': '안녕'}"
      ]
     },
     "execution_count": 7,
     "metadata": {},
     "output_type": "execute_result"
    }
   ],
   "source": [
    "'''__dict__\n",
    "A dictionary or other mapping object used \n",
    "to store an object’s (writable) attributes. <- 공식문서\n",
    "Keep 메모 참고 할 것(설명 깃 주소)\n",
    "__dict__ 는 단지 인스턴스의 'local' attr 을 보여줄 뿐이다.\n",
    "하지만 dir() 은 더 확장시킨 전체적인 attr 을 알 수 있다.\n",
    "'''\n",
    "a.__dict__"
   ]
  }
 ],
 "metadata": {
  "kernelspec": {
   "display_name": "Python 3",
   "language": "python",
   "name": "python3"
  },
  "language_info": {
   "codemirror_mode": {
    "name": "ipython",
    "version": 3
   },
   "file_extension": ".py",
   "mimetype": "text/x-python",
   "name": "python",
   "nbconvert_exporter": "python",
   "pygments_lexer": "ipython3",
   "version": "3.6.5"
  }
 },
 "nbformat": 4,
 "nbformat_minor": 2
}
