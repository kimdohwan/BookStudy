{
 "cells": [
  {
   "cell_type": "code",
   "execution_count": 6,
   "metadata": {},
   "outputs": [],
   "source": [
    "# https://www.hackerrank.com/challenges/append-and-delete/problem\n",
    "\n",
    "def appendAndDelete(s, t, k):\n",
    "\n",
    "    # 조건 1: k 가 s와 t 삭제, 추가를 넉넉히 커버하는 경우\n",
    "    if len(s) + len(t) < k:\n",
    "        return 'Yes'\n",
    "\n",
    "    # 공통 str 구하기 \n",
    "    count = 0\n",
    "    while count < min(len(s), len(t)):\n",
    "        if s[count] == t[count]:\n",
    "            count += 1\n",
    "        else:\n",
    "            break\n",
    "        \n",
    "    # 조건 2: s + t 에서 공통 문자열을 제외한 개수가 k 보다 크면 No\n",
    "    result = len(s) + len(t) - 2 * count\n",
    "    if result > k:\n",
    "        return 'No'\n",
    "\n",
    "    # 조건 3:\n",
    "    # - y, yu, 2 의 경우\n",
    "    # 1. y 를 지우면(+1) y, u 추가(+2)에서 실패(3 != 2)\n",
    "    # 2. u를 추가(+1)하면 실패(1 != 2)\n",
    "    # 맞는 결과: No \n",
    "    # 해결 방법: \n",
    "    #   공통된 문자(y)를 제외한 문자(u)의 홀짝 여부가 다르게되면\n",
    "    #   k 의 크기가 문자 추가를 할 수 있는 값이 충분히 큼에도 \n",
    "    #   1 차이로 실패할 수밖에 없게된다.\n",
    "\n",
    "    #   사례를 들어 k 에 1, 2, 3, 4 인 경우를 각각 따져보자\n",
    "    #   k = 1, Yes(2번 결과와 매칭)\n",
    "    #   k = 2, No(문제 답))\n",
    "    #   k = 3, Yes(1번 결과과 매칭)\n",
    "    #   k = 4, Yes(조건 1에서 3보다 큰 수는 모두 Yes 로 걸러짐)\n",
    "    #   따라서 k = 2 인 경우, No 처리하는 조건 필요\n",
    "    #        k = 1, 3 인 경우, Yes 처리하는 조건 필요\n",
    "    \n",
    "    #   조건 1을 통과 한 후 남는 수들(1, 2, 3)의 경우 홀/짝여부 일치에 따라서 \n",
    "    #   Yes, No 를 판별해야 한다는 것을 알 수 있다.\n",
    "\n",
    "    # s + t 에서 공통 문자열을 제외한 문자의 개수 홀/짝 여부가 \n",
    "    # k 의 홀/짝 여부와 같은 경우\n",
    "    result = result % 2 \n",
    "    if result == k % 2:\n",
    "        return 'Yes'\n",
    "    else:\n",
    "        return 'No'\n",
    "\n",
    "\n",
    "#     return 'No' # 조건 3이 return 'Yes'라면, 이곳은 'No"
   ]
  },
  {
   "cell_type": "code",
   "execution_count": 7,
   "metadata": {},
   "outputs": [
    {
     "data": {
      "text/plain": [
       "'Yes'"
      ]
     },
     "execution_count": 7,
     "metadata": {},
     "output_type": "execute_result"
    }
   ],
   "source": [
    "appendAndDelete('hackerhappy', 'hackerrank', 9)"
   ]
  }
 ],
 "metadata": {
  "kernelspec": {
   "display_name": "Python 3",
   "language": "python",
   "name": "python3"
  },
  "language_info": {
   "codemirror_mode": {
    "name": "ipython",
    "version": 3
   },
   "file_extension": ".py",
   "mimetype": "text/x-python",
   "name": "python",
   "nbconvert_exporter": "python",
   "pygments_lexer": "ipython3",
   "version": "3.6.5"
  }
 },
 "nbformat": 4,
 "nbformat_minor": 2
}
