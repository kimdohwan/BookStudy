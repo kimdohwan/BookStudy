{
 "cells": [
  {
   "cell_type": "code",
   "execution_count": 81,
   "metadata": {},
   "outputs": [
    {
     "name": "stdout",
     "output_type": "stream",
     "text": [
      "순회: \n",
      "0  2  3  9  8  1  4  5  7  6  "
     ]
    }
   ],
   "source": [
    "adj_list = [[2, 1], [3, 0], [3, 0], [9, 8, 2, 1],\n",
    "            [5], [7, 6, 4], [7, 5], [6, 5], [3], [3]]\n",
    "visited = [False for x in range(N + 1)]\n",
    "\n",
    "def depth_first_search(i):\n",
    "    visited[i] = True\n",
    "    print(i, ' ', end='')\n",
    "    for w in adj_list[i]:\n",
    "        if not visited[w]:\n",
    "            depth_first_search(w)\n",
    "\n",
    "            \n",
    "print('순회: ')\n",
    "for i in range(len(adj_list)):\n",
    "    if not visited[i]:\n",
    "        depth_first_search(i)"
   ]
  },
  {
   "cell_type": "code",
   "execution_count": 82,
   "metadata": {},
   "outputs": [
    {
     "name": "stdout",
     "output_type": "stream",
     "text": [
      "순회: \n",
      "0  2  1  3  9  8  4  5  7  6  "
     ]
    }
   ],
   "source": [
    "adj_list = [[2, 1], [3, 0], [3, 0], [9, 8, 2, 1],\n",
    "            [5], [7, 6, 4], [7, 5], [6, 5], [3], [3]]\n",
    "visited = [False for x in range(N + 1)]\n",
    "\n",
    "def breath_first_search(i):\n",
    "    queue = []\n",
    "    visited[i] = True\n",
    "    queue.append(i)\n",
    "    while len(queue) != 0:\n",
    "        v = queue.pop(0)\n",
    "        print(v, ' ', end='')\n",
    "        for w in adj_list[v]:\n",
    "            if not visited[w]:\n",
    "                visited[w] = True\n",
    "                queue.append(w)\n",
    "                \n",
    "\n",
    "print('순회: ')\n",
    "for i in range(len(adj_list)):\n",
    "    if not visited[i]:\n",
    "        breath_first_search(i)"
   ]
  }
 ],
 "metadata": {
  "kernelspec": {
   "display_name": "Python 3",
   "language": "python",
   "name": "python3"
  },
  "language_info": {
   "codemirror_mode": {
    "name": "ipython",
    "version": 3
   },
   "file_extension": ".py",
   "mimetype": "text/x-python",
   "name": "python",
   "nbconvert_exporter": "python",
   "pygments_lexer": "ipython3",
   "version": "3.6.5"
  }
 },
 "nbformat": 4,
 "nbformat_minor": 2
}
