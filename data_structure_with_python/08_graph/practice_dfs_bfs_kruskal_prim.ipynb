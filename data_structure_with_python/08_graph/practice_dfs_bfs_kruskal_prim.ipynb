{
 "cells": [
  {
   "cell_type": "code",
   "execution_count": null,
   "metadata": {},
   "outputs": [],
   "source": [
    "'''DFS 적어보기\n",
    "'''\n",
    "adj_list = [[2, 1], [3, 0], [3, 0], [9, 8, 2, 1],\n",
    "            [5], [7, 6, 4], [7, 5], [6, 5], [3], [3]]\n",
    "N = len(adj_list)\n",
    "visited = [False for x in range(N)]\n",
    "\n",
    "def depth_first_search(i):\n",
    "    visited[i] = True\n",
    "    print(i, ' ', end='')\n",
    "    for w in adj_list[i]:\n",
    "        if not visited[w]:\n",
    "            depth_first_search(w)\n",
    "\n",
    "            \n",
    "print('순회: ')\n",
    "for i in range(len(adj_list)):\n",
    "    if not visited[i]:\n",
    "        depth_first_search(i)"
   ]
  },
  {
   "cell_type": "code",
   "execution_count": 22,
   "metadata": {},
   "outputs": [
    {
     "name": "stdout",
     "output_type": "stream",
     "text": [
      "순회: \n",
      "0  2  1  3  9  8  4  5  7  6  "
     ]
    }
   ],
   "source": [
    "'''BFS 적어보기\n",
    "'''\n",
    "adj_list = [[2, 1], [3, 0], [3, 0], [9, 8, 2, 1],\n",
    "            [5], [7, 6, 4], [7, 5], [6, 5], [3], [3]]\n",
    "visited = [False for x in range(N)]\n",
    "\n",
    "def breath_first_search(i):\n",
    "    queue = []\n",
    "    visited[i] = True\n",
    "    queue.append(i)\n",
    "    while len(queue) != 0:\n",
    "        v = queue.pop(0)\n",
    "        print(v, ' ', end='')\n",
    "        for w in adj_list[v]:\n",
    "            if not visited[w]:\n",
    "                visited[w] = True\n",
    "                queue.append(w)\n",
    "                \n",
    "\n",
    "print('순회: ')\n",
    "for i in range(len(adj_list)):\n",
    "    if not visited[i]:\n",
    "        breath_first_search(i)"
   ]
  },
  {
   "cell_type": "code",
   "execution_count": 23,
   "metadata": {},
   "outputs": [
    {
     "name": "stdout",
     "output_type": "stream",
     "text": [
      "Connected Component List\n",
      "[[0, 3, 6, 1, 7, 2, 11, 8, 10, 12], [4, 13, 9], [5, 14]]\n"
     ]
    }
   ],
   "source": [
    "'''연결 요소 리스트를 출력하는 코드\n",
    "'''\n",
    "\n",
    "adj_list = [[3], [6, 7], [7, 11], [0, 6, 8], [13], [14],\n",
    "            [1, 3, 8, 10, 11], [2, 11], [3, 6, 10, 12],\n",
    "            [13], [1, 6, 8], [2, 6, 7], [8], [4, 9], [5]]\n",
    "N = len(adj_list)\n",
    "CCList = []\n",
    "visited = [False for i in range(N)]\n",
    "\n",
    "\n",
    "def dfs(v):\n",
    "    visited[v] = True\n",
    "    cc.append(v)\n",
    "    for w in adj_list[v]:\n",
    "        if not visited[w]:\n",
    "            dfs(w)\n",
    "            \n",
    "\n",
    "for i in range(N):\n",
    "    if not visited[i]:\n",
    "        cc = []\n",
    "        dfs(i)\n",
    "        CCList.append(cc)\n",
    "        \n",
    "print('Connected Component List')\n",
    "print(CCList)"
   ]
  },
  {
   "cell_type": "code",
   "execution_count": 48,
   "metadata": {},
   "outputs": [
    {
     "name": "stdout",
     "output_type": "stream",
     "text": [
      "25 [(4, 6), (2, 5), (6, 1), (3, 5), (5, 6), (1, 0)]\n"
     ]
    }
   ],
   "source": [
    "'''kruskal 적어보기\n",
    "'''\n",
    "weights = [(1, 0, 9), (0, 2, 10), (1, 3, 10), (1, 4, 5),\n",
    "           (6, 1, 3), (2, 3, 9), (2, 4, 7), (2, 5, 2),\n",
    "           (3, 5, 4), (3, 6, 8), (4, 6, 1), (5, 6, 6)]\n",
    "weights.sort(key = lambda t: t[2])\n",
    "N = 7\n",
    "mst = []\n",
    "p = []\n",
    "\n",
    "for i in range(N):\n",
    "    p.append(i)\n",
    "    \n",
    "def find(u):\n",
    "    if u != p[u]:\n",
    "        p[u] = find(p[u])\n",
    "    return p[u]\n",
    "\n",
    "def union(u, v):\n",
    "    root1 = find(u)\n",
    "    root2 = find(v)\n",
    "    p[root2] = root1\n",
    "    \n",
    "num_edges = 0\n",
    "mst_cost = 0\n",
    "while num_edges < N - 1:\n",
    "    u, v, wt = weights.pop(0)\n",
    "    if find(u) != find(v):\n",
    "        union(u, v)\n",
    "        mst.append((u, v))\n",
    "        mst_cost += wt\n",
    "        num_edges += 1\n",
    "        \n",
    "print(mst_cost, mst)\n"
   ]
  },
  {
   "cell_type": "code",
   "execution_count": 102,
   "metadata": {},
   "outputs": [
    {
     "name": "stdout",
     "output_type": "stream",
     "text": [
      "(1,0)(2,5)(3,5)(4,6)(5,6)(6,1)\n",
      "최소신장트리 가중치 합산:  25\n"
     ]
    }
   ],
   "source": [
    "'''prim 적어보기\n",
    "'''\n",
    "\n",
    "n = 7\n",
    "vertex_edges = [None] * n\n",
    "\n",
    "vertex_edges[0] = [(1, 9), (2, 10)]\n",
    "vertex_edges[1] = [(0, 9), (3, 10), (4, 5), (6, 3)]\n",
    "vertex_edges[2] = [(0, 10), (3, 9), (4, 7), (5, 2)]\n",
    "vertex_edges[3] = [(1, 10), (2, 9), (5, 4), (6, 8)]\n",
    "vertex_edges[4] = [(1, 5), (2, 7), (6, 1)]\n",
    "vertex_edges[5] = [(2, 2), (3, 4), (6, 6)]\n",
    "vertex_edges[6] = [(1, 3), (3, 8), (4, 1), (5, 6)]\n",
    "\n",
    "max_wt = max([edge[1] for edges in vertex_edges for edge in edges]) + 1\n",
    "weights = [0] + [max_wt] * (n - 1)\n",
    "linked_vertex = [0] + [None] * (n - 1)\n",
    "vertex_in_tree = [False] * n\n",
    "\n",
    "\n",
    "for i in range(n):\n",
    "    \n",
    "    min_value = max_wt\n",
    "    for j in range(n):\n",
    "        if not vertex_in_tree[j] and weights[j] < min_value:\n",
    "            min_value = weights[j]\n",
    "            link_vertex = j\n",
    "            \n",
    "    vertex_in_tree[link_vertex] = True\n",
    "    \n",
    "    for v, weight in vertex_edges[link_vertex]:\n",
    "        if not vertex_in_tree[v]:\n",
    "            if weight < weights[v]:\n",
    "                weights[v] = weight\n",
    "                linked_vertex[v] = link_vertex\n",
    "                \n",
    "mst_cost = 0\n",
    "for i in range(1, n):\n",
    "    mst_cost += weights[i]\n",
    "    print(f'({i},{linked_vertex[i]})', end='')\n",
    "print('\\n최소신장트리 가중치 합산: ', mst_cost)"
   ]
  }
 ],
 "metadata": {
  "kernelspec": {
   "display_name": "Python 3",
   "language": "python",
   "name": "python3"
  },
  "language_info": {
   "codemirror_mode": {
    "name": "ipython",
    "version": 3
   },
   "file_extension": ".py",
   "mimetype": "text/x-python",
   "name": "python",
   "nbconvert_exporter": "python",
   "pygments_lexer": "ipython3",
   "version": "3.6.5"
  }
 },
 "nbformat": 4,
 "nbformat_minor": 2
}
