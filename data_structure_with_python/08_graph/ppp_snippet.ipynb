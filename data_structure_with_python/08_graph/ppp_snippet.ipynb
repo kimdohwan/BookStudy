{
 "cells": [
  {
   "cell_type": "code",
   "execution_count": 60,
   "metadata": {},
   "outputs": [
    {
     "name": "stdout",
     "output_type": "stream",
     "text": [
      "(1, 3, 2, 5, 4) 15\n",
      "(1, 3, 2, 5) 11\n",
      "(1, 3, 2, 4) 10\n",
      "(1, 3, 5, 4) 13\n",
      "(1, 2, 5, 4) 12\n",
      "(3, 2, 5, 4) 14\n",
      "(1, 3, 2) 6\n",
      "3\n",
      "b 3\n"
     ]
    }
   ],
   "source": [
    "from itertools import combinations\n",
    "\n",
    "def solution(d, budget):\n",
    "    # n 개의 item 을 더해서 budget보다 작거나 같다면 ok, return n\n",
    "    # 만약 n 이 ok 라면 n-1 은 실행하지 않음 \n",
    "    # n 의 조합은 combinations 로 구한다 \n",
    "    \n",
    "    # n개부터 가능한 조합을 만듭니다\n",
    "    n = len(d)\n",
    "    result = 0\n",
    "    while n != 0:\n",
    "        c = combinations(d, n)\n",
    "        for i in c:\n",
    "            print(i, sum(i))\n",
    "            if sum(i) <= budget:\n",
    "                print(len(i))\n",
    "                result = len(i)\n",
    "                return print('b', result)\n",
    "        n -= 1\n",
    "    return print('a', result)\n",
    "\n",
    "solution([1,3,2,5,4], 9)"
   ]
  },
  {
   "cell_type": "code",
   "execution_count": 67,
   "metadata": {},
   "outputs": [
    {
     "name": "stdout",
     "output_type": "stream",
     "text": [
      "4\n",
      "3\n",
      "2\n",
      "1\n",
      "0\n"
     ]
    }
   ],
   "source": [
    "a = [1,3,2,5,4]\n",
    "a.pop()\n",
    "\n",
    "for i in range(4, -1, -1):\n",
    "    print(i)\n"
   ]
  }
 ],
 "metadata": {
  "kernelspec": {
   "display_name": "Python 3",
   "language": "python",
   "name": "python3"
  },
  "language_info": {
   "codemirror_mode": {
    "name": "ipython",
    "version": 3
   },
   "file_extension": ".py",
   "mimetype": "text/x-python",
   "name": "python",
   "nbconvert_exporter": "python",
   "pygments_lexer": "ipython3",
   "version": "3.6.7"
  }
 },
 "nbformat": 4,
 "nbformat_minor": 2
}
