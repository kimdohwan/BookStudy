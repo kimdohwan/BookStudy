{
 "cells": [
  {
   "cell_type": "code",
   "execution_count": 49,
   "metadata": {},
   "outputs": [],
   "source": [
    "class BHeap:\n",
    "    def __init__(self, a):\n",
    "        self.a = a\n",
    "        self.N = len(a) - 1 # a[0] = None, it needs '-1'\n",
    "        \n",
    "    def create_heap(self):\n",
    "        for i in range(self.N // 2, 0, -1):\n",
    "            print(i, 'downheap 실행')\n",
    "            self.downheap(i)\n",
    "            \n",
    "    def insert(self, key_value):\n",
    "        self.N += 1\n",
    "        self.a.append(key_value)\n",
    "        self.upheap(self.N)\n",
    "        \n",
    "    def delete_min(self):\n",
    "        if self.N == 0:\n",
    "            print('self.N == 0')\n",
    "            return None\n",
    "        minimum = self.a[1]\n",
    "        self.a[1], self.a[-1] = self.a[-1], self.a[1]\n",
    "        \n",
    "        del self.a[-1]\n",
    "        self.N -= 1\n",
    "        self.downheap(1)\n",
    "        return minimum\n",
    "    \n",
    "    def downheap(self, i):\n",
    "        while 2 * i <= self.N:\n",
    "            k = 2 * i\n",
    "            if k < self.N and self.a[k][0] > self.a[k+1][0]:\n",
    "                k += 1\n",
    "                print('k + 1', k)\n",
    "            if self.a[i][0] < self.a[k][0]:\n",
    "                print('break')\n",
    "                break\n",
    "            self.a[i], self.a[k] = self.a[k], self.a[i]\n",
    "            i = k\n",
    "            print('i = k', k)\n",
    "            \n",
    "    def upheap(self, j):\n",
    "        while j > 1 and self.a[j // 2][0] > self.a[j][0]:\n",
    "            self.a[j], self.a[j // 2] = self.a[j // 2], self.a[j]\n",
    "            j = j // 2\n",
    "            \n",
    "    def print_heap(self):\n",
    "        for i in range(1, self.N + 1):\n",
    "            print('[%2d' % self.a[i][0], self.a[i][1], ']', end='')\n",
    "        print(self.N)"
   ]
  },
  {
   "cell_type": "code",
   "execution_count": 50,
   "metadata": {},
   "outputs": [
    {
     "name": "stdout",
     "output_type": "stream",
     "text": [
      "[90 watermelon ][80 pear ][70 melon ][50 lime ][60 mange ][20 cherry ][30 grape ]7\n",
      "3 downheap 실행\n",
      "i = k 6\n",
      "2 downheap 실행\n",
      "i = k 4\n",
      "1 downheap 실행\n",
      "k + 1 3\n",
      "i = k 3\n",
      "k + 1 7\n",
      "i = k 7\n",
      "k + 1 3\n",
      "i = k 3\n",
      "i = k 6\n",
      "[30 grape ][50 lime ][70 melon ][80 pear ][60 mange ][90 watermelon ][100 apple ]7\n"
     ]
    }
   ],
   "source": [
    "a = [None] * 1\n",
    "a.append([90, 'watermelon'])\n",
    "a.append([80, 'pear'])\n",
    "a.append([70, 'melon'])\n",
    "a.append([50, 'lime'])\n",
    "a.append([60, 'mange'])\n",
    "a.append([20, 'cherry'])\n",
    "a.append([30, 'grape'])\n",
    "\n",
    "b = BHeap(a)\n",
    "b.print_heap()\n",
    "b.create_heap()\n",
    "b.delete_min()\n",
    "b.insert([100, 'apple'])\n",
    "\n",
    "b.print_heap()"
   ]
  },
  {
   "cell_type": "code",
   "execution_count": null,
   "metadata": {},
   "outputs": [],
   "source": []
  },
  {
   "cell_type": "code",
   "execution_count": null,
   "metadata": {},
   "outputs": [],
   "source": []
  },
  {
   "cell_type": "code",
   "execution_count": null,
   "metadata": {},
   "outputs": [],
   "source": []
  }
 ],
 "metadata": {
  "kernelspec": {
   "display_name": "Python 3",
   "language": "python",
   "name": "python3"
  },
  "language_info": {
   "codemirror_mode": {
    "name": "ipython",
    "version": 3
   },
   "file_extension": ".py",
   "mimetype": "text/x-python",
   "name": "python",
   "nbconvert_exporter": "python",
   "pygments_lexer": "ipython3",
   "version": "3.6.5"
  }
 },
 "nbformat": 4,
 "nbformat_minor": 2
}
