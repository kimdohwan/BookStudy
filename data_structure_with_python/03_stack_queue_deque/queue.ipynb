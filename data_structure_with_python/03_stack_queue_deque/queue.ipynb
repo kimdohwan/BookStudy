{
 "cells": [
  {
   "cell_type": "code",
   "execution_count": 1,
   "metadata": {},
   "outputs": [],
   "source": [
    "'''list 로 구현하는 queue'''\n",
    "# FIFO\n",
    "\n",
    "def add(item):\n",
    "    q.append(item)\n",
    "    \n",
    "def remove():\n",
    "    if len(q) != 0:\n",
    "        item = q.pop(0)\n",
    "        return item\n",
    "    \n",
    "def print_q():\n",
    "    print('front -> ', end='')\n",
    "    for i in range(len(q)):\n",
    "        # {!s:>8} 이거 문자열 포멧팅에서 좌우로 정렬하는 파이썬 문법\n",
    "        # 파이썬 문서 string 에 설명 나온다\n",
    "        print('{!s:>3}'.format(q[i]), end=' ') \n",
    "    print('<- rear')\n",
    "    \n",
    "q = []"
   ]
  },
  {
   "cell_type": "code",
   "execution_count": 2,
   "metadata": {},
   "outputs": [
    {
     "name": "stdout",
     "output_type": "stream",
     "text": [
      "front ->   1 two   3 <- rear\n"
     ]
    }
   ],
   "source": [
    "add(1)\n",
    "add('two')\n",
    "add(3)\n",
    "# remove()\n",
    "\n",
    "print_q()"
   ]
  },
  {
   "cell_type": "code",
   "execution_count": 3,
   "metadata": {},
   "outputs": [],
   "source": [
    "'''singly linked list 로 구현하는 queue'''\n",
    "\n",
    "class Node:\n",
    "    def __init__(self, item, n):\n",
    "        self.item = item\n",
    "        self.next = n\n",
    "        \n",
    "\n",
    "def add(item):\n",
    "    global size\n",
    "    global front\n",
    "    global rear\n",
    "    new_node = Node(item, None)\n",
    "    if size == 0:\n",
    "        front = new_node\n",
    "    else:\n",
    "        rear.next = new_node\n",
    "    rear = new_node\n",
    "    size += 1\n",
    "\n",
    "def remove():\n",
    "    global size\n",
    "    global front\n",
    "    global rear\n",
    "    if size != 0:\n",
    "        fitem = front.item # return 해줄 front item \n",
    "        front = front.next # front 를 새로 지정(다음 항목\n",
    "        size -= 1\n",
    "        if size == 0: # size 가 1개였다가 -1되서 0이 된 경우 따로 정의\n",
    "        # front = None, rear = None 정의, \n",
    "        # front 는 이미 front.next 값이 None 일것이기 때문에 또 정의 않해도 됨\n",
    "            rear = None \n",
    "        return fitem\n",
    "\n",
    "def print_q():\n",
    "    p = front\n",
    "    print('front: ', end='')\n",
    "    while p:\n",
    "        if p.next != None:\n",
    "            print(p.item, '->   ', end='')\n",
    "        else:\n",
    "            print(p.item, end='')\n",
    "        p = p.next\n",
    "    print('   : rear')\n",
    "\n",
    "front = None\n",
    "rear = None\n",
    "size = 0"
   ]
  },
  {
   "cell_type": "code",
   "execution_count": 4,
   "metadata": {},
   "outputs": [
    {
     "name": "stdout",
     "output_type": "stream",
     "text": [
      "front: the ->   hell   : rear\n"
     ]
    }
   ],
   "source": [
    "add('what')\n",
    "add('the')\n",
    "add('hell')\n",
    "remove()\n",
    "\n",
    "print_q()"
   ]
  },
  {
   "cell_type": "code",
   "execution_count": 5,
   "metadata": {},
   "outputs": [
    {
     "name": "stdout",
     "output_type": "stream",
     "text": [
      "DATA\n",
      "deque(['k', 'd', 'a', 't', 'a', 'r'])\n",
      "a\n",
      "False\n",
      "deque(['n', 'o', 'h', 't', 'y', 'p', 'd', 'a', 't', 'a', 's', 't', 'r', 'u', 'c', 't', 'u', 'r', 'e'])\n"
     ]
    }
   ],
   "source": [
    "'''deque import 로 사용하기'''\n",
    "from collections import deque\n",
    "\n",
    "dq = deque('data')\n",
    "for elem in dq:\n",
    "    print(elem.upper(), end='')\n",
    "    \n",
    "print()\n",
    "\n",
    "dq.append('r')\n",
    "dq.appendleft('k')\n",
    "print(dq)\n",
    "dq.pop()\n",
    "dq.popleft()\n",
    "print(dq[-1])\n",
    "print('x' in dq)\n",
    "dq.extend('structure')\n",
    "# 문자열 'python' 의 [0]부터 left 에 삽입되므로 \n",
    "# 1. 'p', <dq 리스트 요소>\n",
    "# 2. 'y', 'p', <dq 리스트 요소>\n",
    "# 3. 't', 'y', 'p', <dq 리스트 요소>\n",
    "# 위와 같은 방식으로 삽입되게 된다. 이를 똑바로 넣기위해 reversed() 사용\n",
    "# dq.extendleft(reversed('python'))\n",
    "dq.extendleft('python') \n",
    "\n",
    "print(dq)"
   ]
  },
  {
   "cell_type": "code",
   "execution_count": 87,
   "metadata": {},
   "outputs": [
    {
     "name": "stdout",
     "output_type": "stream",
     "text": [
      "['__add__', '__class__', '__contains__', '__delattr__', '__delitem__', '__dir__', '__doc__', '__eq__', '__format__', '__ge__', '__getattribute__', '__getitem__', '__gt__', '__hash__', '__iadd__', '__imul__', '__init__', '__init_subclass__', '__iter__', '__le__', '__len__', '__lt__', '__mul__', '__ne__', '__new__', '__reduce__', '__reduce_ex__', '__repr__', '__reversed__', '__rmul__', '__setattr__', '__setitem__', '__sizeof__', '__str__', '__subclasshook__', 'append', 'clear', 'copy', 'count', 'extend', 'index', 'insert', 'pop', 'remove', 'reverse', 'sort'] \n",
      " ['__add__', '__bool__', '__class__', '__contains__', '__copy__', '__delattr__', '__delitem__', '__dir__', '__doc__', '__eq__', '__format__', '__ge__', '__getattribute__', '__getitem__', '__gt__', '__hash__', '__iadd__', '__imul__', '__init__', '__init_subclass__', '__iter__', '__le__', '__len__', '__lt__', '__mul__', '__ne__', '__new__', '__reduce__', '__reduce_ex__', '__repr__', '__reversed__', '__rmul__', '__setattr__', '__setitem__', '__sizeof__', '__str__', '__subclasshook__', 'append', 'appendleft', 'clear', 'copy', 'count', 'extend', 'extendleft', 'index', 'insert', 'maxlen', 'pop', 'popleft', 'remove', 'reverse', 'rotate']\n",
      "(<class 'collections.deque'>, <class 'object'>) \n",
      " (<class 'list'>, <class 'object'>) \n",
      " (<class 'type'>, <class 'object'>) \n",
      " (<class 'object'>,) \n",
      " (<class 'str'>, <class 'object'>) \n",
      "\n",
      "<class '__main__.J'> <class '__main__.J'> (<class '__main__.J'>, <class '__main__.H'>, <class 'object'>)\n"
     ]
    },
    {
     "data": {
      "text/plain": [
       "(map, object)"
      ]
     },
     "execution_count": 87,
     "metadata": {},
     "output_type": "execute_result"
    }
   ],
   "source": [
    "# dir() 로 보는 list 와 deque 의 차이점 \n",
    "# appendleft, popleft 와 같이 앞 쪽에 데이터 삽입 가능함 \n",
    "# 추측컨데 deque 는 list 를 상속받은 클래스일듯\n",
    "# 이라고 예상했지만 둘다 object 를 상속받은 친구임 \n",
    "# object 가 끝판왕인걸 보니 object 를 공부해야할 듯 \n",
    "print(dir(list),'\\n', dir(deque))\n",
    "\n",
    "import inspect\n",
    "print(\n",
    "    # superclass 를 검사할 수 있는 python module\n",
    "    inspect.getmro(deque), '\\n',\n",
    "    inspect.getmro(list), '\\n',\n",
    "    inspect.getmro(type), '\\n',\n",
    "    inspect.getmro(object), '\\n',\n",
    "    inspect.getmro(str), '\\n',\n",
    ")\n",
    "type(type)\n",
    "\n",
    "class H:\n",
    "    pass\n",
    "class J(H):\n",
    "    def __init__(self, name):\n",
    "        self.name = name\n",
    "\n",
    "b = J('b')\n",
    "print(\n",
    "    type(b),\n",
    "    b.__class__,\n",
    "#     inspect.getmro(b) # 인스턴스에 먹히지 않음 \n",
    "    J.__mro__\n",
    "    # __mro__ 하니까 inspect import 하지 않아도 되네??????뭐지??그런가보다\n",
    ")\n"
   ]
  }
 ],
 "metadata": {
  "kernelspec": {
   "display_name": "Python 3",
   "language": "python",
   "name": "python3"
  },
  "language_info": {
   "codemirror_mode": {
    "name": "ipython",
    "version": 3
   },
   "file_extension": ".py",
   "mimetype": "text/x-python",
   "name": "python",
   "nbconvert_exporter": "python",
   "pygments_lexer": "ipython3",
   "version": "3.6.5"
  }
 },
 "nbformat": 4,
 "nbformat_minor": 2
}
