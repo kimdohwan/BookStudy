{
 "cells": [
  {
   "cell_type": "code",
   "execution_count": 1,
   "metadata": {},
   "outputs": [],
   "source": [
    "''''Linear Probing in Open Addressing\n",
    "개방주소방식의 선형조사\n",
    "colision 발생 시 인덱스 +1 방식으로 해결\n",
    "-문제점\n",
    "prime clustering(1차 군집화)\n",
    "'1차'는 다른 해쉬방법에서 벌어지는 clustering 현상을 구별하기위한 단어일뿐이다'''\n",
    "class LinearProbing:\n",
    "    def __init__(self, size):\n",
    "        self.M = size # hash value 를 구하기 위한 값으로 사용(hash table 의 크기)\n",
    "        self.a = [None] * size # key 를 저장하는 hash table\n",
    "        self.d = [None] * size # data 를 저장하는 hash table\n",
    "        \n",
    "    def hash(self, key): # hash function\n",
    "        return key % self.M # 나머지 값이 hash value(hash table index)\n",
    "    \n",
    "    def put(self, key, data):\n",
    "        initial_position = self.hash(key) # hash value\n",
    "        i = initial_position\n",
    "        j = 0\n",
    "        while True:\n",
    "            if self.a[i] == None: # 해당 위치가 비어있다면 저장\n",
    "                self.a[i] = key\n",
    "                self.d[i] = data\n",
    "                return '저장 완료'\n",
    "            if self.a[i] == key: # 이미 key 존재하므로 data 만 수정/갱신\n",
    "                self.d[i] = data\n",
    "                return '수정/갱신 완료(data, key is aleady existed)'\n",
    "            # self.a[i] 에 비어있지않고 다른 key 가 이미 존재하는 경우\n",
    "            j += 1 # 순차적으로 빈 공간을 탐색하기위해 인덱스 증가\n",
    "            i = (initial_position + j) % self.M # hash value(+1)\n",
    "            if i == initial_position: # 한바퀴 돌아서 제자리로 돌아올 경우(저장 실패)\n",
    "                break\n",
    "                \n",
    "    # 함수에서는 return 이 나올경우 어떤 스코프에 해당하던(들여쓰기가 몇번 되었건간에)\n",
    "    # return 으로 인해 함수가 즉시 종료된다 \n",
    "    \n",
    "    def get(self, key):\n",
    "        initial_position = self.hash(key)\n",
    "        i = initial_position\n",
    "        j = 1 # 위에서는 j를 0 으로 해놓고 여기서는 1로 시작하네. 변태인가?\n",
    "        while self.a[i] != None:\n",
    "            if self.a[i] == key:\n",
    "                return self.d[i]\n",
    "            i = (initial_position + j) % self.M\n",
    "            j += 1 # put 은 0, get 은 1부터 시작이라 j += 1 코드 순서가 다름\n",
    "            if i == initial_position: # 한바퀴 돌아서 제자리로 돌아옴\n",
    "                return None # 존재하지 않는 key 를 검색한 경우\n",
    "        return None # 존재하지 않는 key 검색(while 문의 None 은 한바퀴 돌은 경우)\n",
    "            \n",
    "    def print_table(self):\n",
    "        for i in range(self.M): # 인덱스 출력 \n",
    "            print('{:4}'.format(str(i)), ' ', end='')\n",
    "        print('')\n",
    "        for i in range(self.M): # key 출력\n",
    "            print('{:4}'.format(str(self.a[i])), ' ', end='')\n",
    "        print('')\n",
    "        for i in range(self.M):\n",
    "            print(f'{self.d[i]}', ' ', end='')"
   ]
  },
  {
   "cell_type": "code",
   "execution_count": 14,
   "metadata": {},
   "outputs": [
    {
     "name": "stdout",
     "output_type": "stream",
     "text": [
      "0     1     2     3     4     5     6     7     8     9     10    11    12    \n",
      "None  1     2     3     17    4     None  7     20    None  10    None  None  \n",
      "None  부폰  람  이영표  케이힐  에브라  None  호날두  손흥민  None  메시  None  None  "
     ]
    }
   ],
   "source": [
    "table = LinearProbing(13)\n",
    "\n",
    "table.put(7, '호날두') \n",
    "table.put(10, '메시')\n",
    "table.put(17, '케이힐')\n",
    "table.put(20, '손흥민') # 호날두와 hashvalue 같아서 +1 의 자리에 위치\n",
    "table.put(1, '부폰')\n",
    "table.put(2, '람')\n",
    "table.put(3, '이영표')\n",
    "table.put(4, '에브라')\n",
    "\n",
    "table.get(7)\n",
    "table.print_table()"
   ]
  },
  {
   "cell_type": "code",
   "execution_count": null,
   "metadata": {},
   "outputs": [],
   "source": [
    "# 문자열 포멧팅에 이용되는 문법\n",
    "\n",
    "\n",
    "a = 'a, 1, 한글'\n",
    "print(f'{a!a}') # !a 를 붙여주면 ascii() 를 수행한다(아스키코드로 변환)\n",
    "b = 13\n",
    "print(f'{b!s}, {b}') # !s 는 str() 문자열로 변환, 언제 쓰는건지 잘 모르겠음\n",
    "print(f'{a!r}') # !r 은 repr() 을 수행, 역시 언제쓰는건지 잘 모르겠음\n",
    "print(f'{a:30}', '안녕') # :(int) 는 문자열 뒤에 공백을 숫자만큼 추가해줌"
   ]
  }
 ],
 "metadata": {
  "kernelspec": {
   "display_name": "Python 3",
   "language": "python",
   "name": "python3"
  },
  "language_info": {
   "codemirror_mode": {
    "name": "ipython",
    "version": 3
   },
   "file_extension": ".py",
   "mimetype": "text/x-python",
   "name": "python",
   "nbconvert_exporter": "python",
   "pygments_lexer": "ipython3",
   "version": "3.6.5"
  }
 },
 "nbformat": 4,
 "nbformat_minor": 2
}
