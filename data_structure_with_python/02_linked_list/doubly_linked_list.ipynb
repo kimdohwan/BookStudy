{
 "cells": [
  {
   "cell_type": "code",
   "execution_count": 18,
   "metadata": {},
   "outputs": [],
   "source": [
    "'''doubly linked list\n",
    "- previout node 와 next node 가 존재(서로 연결, chaining)\n",
    "- 탐색/참조가 필요없다면 singly linked list 사용하지만 그 외에는 dobouly 가 good\n",
    "- 장점:\n",
    "    - singly linked list 보다 탐색/참조에 유연(앞,뒤 에서 모두 검색 시작 가능)\n",
    "- 단점:\n",
    "    - prev 로 인해 singliy 보다 메모리 조오금 더 먹는 것?\n",
    "    \n",
    "'''\n",
    "\n",
    "# 이 코드의 경우(책에나온), head 와 tail 을 빈 Node 로 셋팅 해두었음 \n",
    "# head 와 tail 이 data 를 입력받아 size 에 포함되는 코드도 찾아볼 것\n",
    "# search 같은 경우는 singly linked list 와 비슷해서 생략된듯 하니 찾아볼 것\n",
    "class DList:\n",
    "    class Node:\n",
    "        def __init__(self, item, prev, link):\n",
    "            self.item = item\n",
    "            self.prev = prev\n",
    "            self.next = link\n",
    "            \n",
    "    \n",
    "    def __init__(self):\n",
    "        self.head = self.Node(None, None, None)\n",
    "        self.tail = self.Node(None, self.head, None)\n",
    "        self.head.next = self.tail\n",
    "        self.size = 0\n",
    "        \n",
    "    def size(self):\n",
    "        return self.size\n",
    "    \n",
    "    def is_empty(self):\n",
    "        return self.size == 0\n",
    "    \n",
    "    def insert_before(self, p, item): # (a - b) Node b 앞에 insert\n",
    "        t = p.prev # b 앞의 Node(a)\n",
    "        n = self.Node(item, t, p) # prev 에 b.prev(a), next 에 b\n",
    "        p.prev = n # b.prev 에 새로운 Node insert\n",
    "        t.next = n # 원래 b 앞의 Node 였던 a 의 next 에 새로운 Node insert\n",
    "        self.size += 1\n",
    "        \n",
    "    def insert_after(self, p, item): # (a - b) Node a 다음에 insert\n",
    "        t = p.next # a 다음 Node(b)\n",
    "        n = self.Node(item, p, t) # prev 에 a, next 에 a.next(b)\n",
    "        t.prev = n # b.prev 에 새로운 Node insert\n",
    "        p.next = n # a.next 에 새로운 Node insert\n",
    "        self.size += 1\n",
    "        \n",
    "    def delete(self, x):\n",
    "        # x 의 prev 와 next Node 를 연결\n",
    "        f = x.prev \n",
    "        r = x.next\n",
    "        f.next = r\n",
    "        r.prev = f\n",
    "        self.size -= 1\n",
    "        return x.item\n",
    "    \n",
    "    def print_list(self):\n",
    "        if self.is_empty():\n",
    "            print('Empty list')\n",
    "        else:\n",
    "            p = self.head.next # 첫 노드가 head.next. 작성자에따라 다른듯\n",
    "            while p != self.tail:\n",
    "                if p.next != self.tail:\n",
    "                    print(p.item, '<=>', end=' ')\n",
    "                else:\n",
    "                    print(p.item)\n",
    "                p = p.next\n",
    "                \n"
   ]
  },
  {
   "cell_type": "code",
   "execution_count": 30,
   "metadata": {},
   "outputs": [
    {
     "name": "stdout",
     "output_type": "stream",
     "text": [
      "True True\n",
      "True True\n",
      "3\n",
      "a3\n",
      "a1 <=> a2\n"
     ]
    }
   ],
   "source": [
    "dl = DList()\n",
    "print(dl.head is dl.tail.prev, dl.head.next is dl.tail)\n",
    "print(dl.head == dl.tail.prev, dl.head.next == dl.tail)\n",
    "\n",
    "dl.insert_after(dl.head, 'a2')\n",
    "dl.insert_before(dl.head.next, 'a1')\n",
    "dl.insert_before(dl.tail, 'a3')\n",
    "print(dl.size)\n",
    "print(dl.delete(dl.tail.prev))\n",
    "\n",
    "\n",
    "dl.print_list()"
   ]
  }
 ],
 "metadata": {
  "kernelspec": {
   "display_name": "Python 3",
   "language": "python",
   "name": "python3"
  },
  "language_info": {
   "codemirror_mode": {
    "name": "ipython",
    "version": 3
   },
   "file_extension": ".py",
   "mimetype": "text/x-python",
   "name": "python",
   "nbconvert_exporter": "python",
   "pygments_lexer": "ipython3",
   "version": "3.6.5"
  }
 },
 "nbformat": 4,
 "nbformat_minor": 2
}
