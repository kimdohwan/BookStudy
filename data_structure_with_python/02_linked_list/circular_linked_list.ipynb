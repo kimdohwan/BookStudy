{
 "cells": [
  {
   "cell_type": "code",
   "execution_count": 53,
   "metadata": {},
   "outputs": [],
   "source": [
    "'''circular linked list\n",
    "- 원형으로 순환하는 구조\n",
    "- singly linked list 에서 head 와 tail 을 이어줌\n",
    "- 장점:\n",
    "    - head 포인터 변수가 필요없다(tail 만 있으면 된다. head=tail.next)\n",
    "    - 하나의 Node 에서 모든 Node 를 접근 가능 \n",
    "- 단점:\n",
    "    - 노드 검색 시 결과가 없다면 무한 loop(밑 코드는 range(size)로 작성)\n",
    "\n",
    "'''\n",
    "\n",
    "# 책에 나온 insert, delete 는 LIFO(후입선출) 방식이다.\n",
    "# 인터넷에 보니 특정 노드 삭제도 가능할 수 있더라.\n",
    "# 중요한 것은 link 부분이고 자료 insert,delete 방식은 의도에 따라 다르다.\n",
    "class CList:\n",
    "    class _Node:\n",
    "        def __init__(self, item, link):\n",
    "            self.item = item\n",
    "            self.next = link\n",
    "            \n",
    "    \n",
    "    def __init__(self):\n",
    "        self.last = None\n",
    "        self.size = 0\n",
    "        \n",
    "    def no_items(self):\n",
    "        return self.size\n",
    "    \n",
    "    def is_empty(self):\n",
    "        return self.size == 0\n",
    "    \n",
    "    def insert(self, item):\n",
    "        n = self._Node(item, None) # 생성 Node\n",
    "        if self.is_empty(): \n",
    "            n.next = n # 순환구조이므로 자신의 next 를 자신으로 설정\n",
    "            self.last = n # self.last 로 설정\n",
    "        else:\n",
    "            n.next = self.last.next # last.next Node 를 생성 Node의 next 로 설정\n",
    "            self.last.next = n # last.next 에 생성 Node 설정\n",
    "        self.size += 1\n",
    "        \n",
    "    def first(self): # 첫번쨰 Node 리턴해주는 함수\n",
    "        if self.is_empty():\n",
    "            raise EmptyError('Underflow')\n",
    "        f = self.last.next # last 의 next 가 첫번째 Node\n",
    "        return f.item\n",
    "    \n",
    "    def delete(self): # last 의 link Node 를 삭제하게된다(first()에 해당)\n",
    "        if self.is_empty():\n",
    "            raise(EmptyError)\n",
    "        x = self.last.next # 삭제할 Node(last.next)\n",
    "        if self.size == 1:\n",
    "            self.last = None # 마지막 Node 일 경우 self.last 해제 필요\n",
    "        else:\n",
    "            self.last.next = x.next # link 를 변경함으로써 Node 삭제\n",
    "        self.size -= 1\n",
    "        return x.item\n",
    "    \n",
    "    def print_list(self):\n",
    "        if self.is_empty():\n",
    "            print('Empty list')\n",
    "        else:\n",
    "            f = self.last.next\n",
    "            p = f\n",
    "            while p.next != f:\n",
    "                print(p.item, '->', end=' ')\n",
    "                p = p.next\n",
    "            print(p.item)\n",
    "            \n",
    "    # 내가 search 작성(책에 없음)        \n",
    "    def search(self, item):\n",
    "        val = self.last.next # head 객체\n",
    "        for i in range(self.size): # Node 갯수만큼 loop\n",
    "            if item == val.item:\n",
    "                return val\n",
    "            val = val.next\n",
    "        return f\"Can't find {item}\"\n",
    "            \n",
    "\n",
    "class EmptyError(Exception):\n",
    "    pass"
   ]
  },
  {
   "cell_type": "code",
   "execution_count": 54,
   "metadata": {},
   "outputs": [
    {
     "name": "stdout",
     "output_type": "stream",
     "text": [
      "a6 -> a5 -> a4 -> a3 -> a2 -> a1 -> a0 -> A3 -> A2 -> A1\n",
      "a6\n",
      "a5 -> a4 -> a3 -> a2 -> a1 -> a0 -> A3 -> A2 -> A1\n",
      "A2\n"
     ]
    },
    {
     "data": {
      "text/plain": [
       "\"Can't find 2929\""
      ]
     },
     "execution_count": 54,
     "metadata": {},
     "output_type": "execute_result"
    }
   ],
   "source": [
    "cl = CList()\n",
    "cl.insert('A1')\n",
    "cl.insert('A2')\n",
    "cl.insert('A3')\n",
    "\n",
    "for i in range(7):\n",
    "    cl.insert(f'a{i}')\n",
    "\n",
    "cl.print_list()\n",
    "print(cl.first())\n",
    "cl.delete()\n",
    "cl.print_list()\n",
    "print(cl.search('A3').next.item)\n",
    "\n",
    "cl.search(2929)"
   ]
  }
 ],
 "metadata": {
  "kernelspec": {
   "display_name": "Python 3",
   "language": "python",
   "name": "python3"
  },
  "language_info": {
   "codemirror_mode": {
    "name": "ipython",
    "version": 3
   },
   "file_extension": ".py",
   "mimetype": "text/x-python",
   "name": "python",
   "nbconvert_exporter": "python",
   "pygments_lexer": "ipython3",
   "version": "3.6.5"
  }
 },
 "nbformat": 4,
 "nbformat_minor": 2
}
