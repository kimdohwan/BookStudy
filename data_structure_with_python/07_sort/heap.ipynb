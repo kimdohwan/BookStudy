{
 "cells": [
  {
   "cell_type": "code",
   "execution_count": 1,
   "metadata": {},
   "outputs": [],
   "source": [
    "'''heap sort\n",
    "(이진)힙 자료구조를 이용한 알고리즘'''\n",
    "def downheap(i, size):\n",
    "    while 2 * i <= size:\n",
    "        k = 2 * i\n",
    "        if k < size and a[k] < a[k + 1]:\n",
    "            k += 1\n",
    "        if a[i] >= a[k]:\n",
    "            break\n",
    "        a[i], a[k] = a[k], a[i]\n",
    "        i = k\n",
    "        \n",
    "def create_heap(a):\n",
    "    hsize = len(a) - 1\n",
    "    for i in reversed(range(1, hsize // 2 + 1)):\n",
    "        downheap(i, hsize)\n",
    "        \n",
    "def heap_sort(a):\n",
    "    N = len(a) - 1\n",
    "    for i in range(N):\n",
    "        a[1], a[N] = a[N], a[1]\n",
    "        downheap(1, N - 1)\n",
    "        N -= 1"
   ]
  },
  {
   "cell_type": "code",
   "execution_count": 2,
   "metadata": {},
   "outputs": [
    {
     "name": "stdout",
     "output_type": "stream",
     "text": [
      "[-1, 78, 57, 95, 11, 53, 4, 23, 18, 51, 82]\n",
      "[-1, 4, 11, 18, 23, 51, 53, 57, 78, 82, 95]\n"
     ]
    }
   ],
   "source": [
    "import random\n",
    "a = [-1] + [random.randint(0, 99) for i in range(10)]\n",
    "print(a)\n",
    "create_heap(a)\n",
    "heap_sort(a)\n",
    "print(a)"
   ]
  },
  {
   "cell_type": "code",
   "execution_count": 3,
   "metadata": {},
   "outputs": [
    {
     "name": "stdout",
     "output_type": "stream",
     "text": [
      "[86, 6, 90, 19, 82, 43, 0, 28, 2, 8]\n",
      "[0, 2, 43, 6, 8, 86, 90, 28, 19, 82] heapify\n",
      "[0, 2, 6, 8, 19, 28, 43, 82, 86, 90] after heap sort\n"
     ]
    }
   ],
   "source": [
    "import heapq\n",
    "a = [random.randint(0, 99) for i in range(10)]\n",
    "print(a)\n",
    "heapq.heapify(a)\n",
    "print(a, 'heapify')\n",
    "s = []\n",
    "while a:\n",
    "    s.append(heapq.heappop(a))\n",
    "print(s, 'after heap sort')"
   ]
  }
 ],
 "metadata": {
  "kernelspec": {
   "display_name": "Python 3",
   "language": "python",
   "name": "python3"
  },
  "language_info": {
   "codemirror_mode": {
    "name": "ipython",
    "version": 3
   },
   "file_extension": ".py",
   "mimetype": "text/x-python",
   "name": "python",
   "nbconvert_exporter": "python",
   "pygments_lexer": "ipython3",
   "version": "3.6.5"
  }
 },
 "nbformat": 4,
 "nbformat_minor": 2
}
