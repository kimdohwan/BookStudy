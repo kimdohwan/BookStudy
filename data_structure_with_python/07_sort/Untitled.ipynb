{
 "cells": [
  {
   "cell_type": "code",
   "execution_count": 49,
   "metadata": {},
   "outputs": [
    {
     "name": "stdout",
     "output_type": "stream",
     "text": [
      "[3, 24, 34, 38, 38, 45, 67, 73, 80, 81]\n"
     ]
    }
   ],
   "source": [
    "'''insertion sort\n",
    "'''\n",
    "import random\n",
    "\n",
    "def insertion_sort(a):\n",
    "    for i in range(0, len(a)):\n",
    "        for j in range(i, 0, -1):\n",
    "            if a[j - 1] > a[j]:\n",
    "                a[j - 1], a[j] = a[j], a[j - 1]\n",
    "    print(a)\n",
    "    \n",
    "a = [random.randint(0, 99) for i in range(10)]\n",
    "insertion_sort(a)"
   ]
  }
 ],
 "metadata": {
  "kernelspec": {
   "display_name": "Python 3",
   "language": "python",
   "name": "python3"
  },
  "language_info": {
   "codemirror_mode": {
    "name": "ipython",
    "version": 3
   },
   "file_extension": ".py",
   "mimetype": "text/x-python",
   "name": "python",
   "nbconvert_exporter": "python",
   "pygments_lexer": "ipython3",
   "version": "3.6.5"
  }
 },
 "nbformat": 4,
 "nbformat_minor": 2
}
