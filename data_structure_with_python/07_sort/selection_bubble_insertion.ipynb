{
 "cells": [
  {
   "cell_type": "code",
   "execution_count": 1,
   "metadata": {},
   "outputs": [],
   "source": [
    "'''selection sort, bubble sort\n",
    "두 정렬의 차이점은 selection 의 존재 유무도 있지만 \n",
    "사실상 값 교환을 언제 하느냐에 따라서 sort 의 정체성이 나뉜다\n",
    "---------------코드 작동 정리-------------------------\n",
    "selection sort 의 minimum 은 2번째 for loop 밖에서 \n",
    "값 교환을 해주기위한 수단일 뿐이다 \n",
    "\n",
    "두 정렬의 코드를 작성할 때 가장 관건은 \n",
    "for loop 에 들어가는 range() 의 index 설정이라고 할 수 있다\n",
    "\n",
    "첫번째 for loop 는 list 의 첫번쨰 항목부터 '마지막 항목 한개 전'까지 \n",
    "설정해준다. 예를 들어 len(a) == 10, a[8]까지 loop 를 돌고나면 \n",
    "a[9](마지막 항목)은 저절로 가장 큰 값으로 정렬되기 떄문이다 \n",
    "\n",
    "두번째 for loop 는 list 에서 정렬된 부분을 제외한 나머지 인덱스들이다\n",
    "정렬이 된 항목들은 첫번째 for loop 에 의해 앞쪽으로 배치된다 \n",
    "예를 들어 i = 3 까지 첫번쨰 for loop 가 진행된 경우,\n",
    "이는 a[0], a[1], a[2], a[3] 은 정렬이 완료 됫음을 의미 \n",
    "따라서 정렬이 되야하는 나머지 항목의 index 를 for loop 에 설정해준다\n",
    "위의 예대로 라면 다음에 실행될 두번째 for loop는 \n",
    "a[4] ~ a[9] 가 될 것이다.\n",
    "첫번째 for loop 는 len(a) - 1 이지만 두번째 for loop는 \n",
    "모든 값을 비교해야하기 떄문에 마지막 값을 제외할수 없다 \n",
    "따라서 range(i, len(a)) 와 같이 된다.\n",
    "---------------------------------------------------\n",
    "'''\n",
    "def selection_sort(a):\n",
    "    for i in range(0, len(a) - 1):\n",
    "        minimum = i\n",
    "        for j in range(i, len(a)):\n",
    "            if a[minimum] > a[j]:\n",
    "                minimum = j\n",
    "        a[i], a[minimum] = a[minimum], a[i]\n",
    "    print(a, 'selection')\n",
    "\n",
    "\n",
    "# selection sort 와 비교해서 어떻게 다른지 볼 것 \n",
    "# bubble sort 가 인접한 두 값 비교라는 의미가 중요하다면 \n",
    "# 이 코드는  bubble sort 라고 할 수 있는건가?\n",
    "def my_bubble_sort(a):\n",
    "    for i in range(len(a) - 1):\n",
    "        for j in range(i, len(a)):\n",
    "            if a[i] > a[j]:\n",
    "                a[i], a[j] = a[j], a[i]\n",
    "    print(a, 'my bubble')"
   ]
  },
  {
   "cell_type": "code",
   "execution_count": 2,
   "metadata": {},
   "outputs": [],
   "source": [
    "'''\n",
    "--------------bubble index 원리---------------------\n",
    "최대값을 한쪽으로 몰아가는 형식\n",
    "첫번째 for loop 를 '1st', 두번쨰를 '2nd' 라고 표기하겠다\n",
    "\n",
    "일단 for loop 는 본질적으로 몇번 반복되냐가 핵심.\n",
    "1st for loop 에서는 a(len) == 10 인 경우, \n",
    "크기비교를 실행한 숫자를 제위치잡기위해 9번의 loop 가 필요 \n",
    "\n",
    "2nd for loop 는 정렬이 되지 않은 항목을 연산해야하므로 \n",
    "정렬이 되는 항목들을 하나씩 제외해가며 실행하므로 \n",
    "range(len(a) - 1 - i) 번이 필요하다 '''\n",
    "def bubble_sort(a):\n",
    "    for i in range(len(a) - 1):\n",
    "        for j in range(len(a)- 1 - i): # 이렇게 range 범위를 설정한경우 뒤에서부터 정렬된다\n",
    "            if a[j] > a[j + 1]:\n",
    "                a[j], a[j + 1] = a[j + 1], a[j]\n",
    "    print(a, '버블 정석')"
   ]
  },
  {
   "cell_type": "code",
   "execution_count": 3,
   "metadata": {},
   "outputs": [],
   "source": [
    "'''insertion sort\n",
    "범위를 1, 2, 3, 4, 5..., 10 순서대로 늘려가며\n",
    "범위안에서 크기비교와 순서 정렬을 이룬다 \n",
    "이 때 범위가 한 개씩 커져가는 과정에서 \n",
    "새로들어오는 값(범위의 마지막 인덱스)이 \n",
    "제자리를 찾아가(마지막 값부터 순차적으로 크기 비교 후)삽입되게 된다 \n",
    "\n",
    "버블과 유사해 보이는데 차이점은?\n",
    "버블의 경우, 최대값을 한쪽끝으로 몰아가며 정렬 \n",
    "삽입의 경우, 범위를 list 크기로 증가시키며 범위안에서 정렬\n",
    "\n",
    "'''\n",
    "def insertion_sort(a):\n",
    "    for i in range(len(a)):\n",
    "        for j in range(i, 0, -1):\n",
    "            if a[j - 1] > a[j]:\n",
    "                a[j - 1], a[j] = a[j], a[j - 1]\n",
    "    print(a, 'insertion')"
   ]
  },
  {
   "cell_type": "code",
   "execution_count": 4,
   "metadata": {},
   "outputs": [
    {
     "name": "stdout",
     "output_type": "stream",
     "text": [
      "[68, 46, 43, 80, 8, 9, 80, 64, 49, 84]\n",
      "[8, 9, 43, 46, 49, 64, 68, 80, 80, 84] selection\n",
      "[8, 9, 43, 46, 49, 64, 68, 80, 80, 84] my bubble\n",
      "[8, 9, 43, 46, 49, 64, 68, 80, 80, 84] 버블 정석\n",
      "[8, 9, 43, 46, 49, 64, 68, 80, 80, 84] insertion\n"
     ]
    }
   ],
   "source": [
    "import random\n",
    "\n",
    "a = [random.randint(1, 99) for i in range(10)]\n",
    "print(a)\n",
    "selection_sort(a)\n",
    "my_bubble_sort(a)\n",
    "bubble_sort(a)\n",
    "insertion_sort(a)"
   ]
  }
 ],
 "metadata": {
  "kernelspec": {
   "display_name": "Python 3",
   "language": "python",
   "name": "python3"
  },
  "language_info": {
   "codemirror_mode": {
    "name": "ipython",
    "version": 3
   },
   "file_extension": ".py",
   "mimetype": "text/x-python",
   "name": "python",
   "nbconvert_exporter": "python",
   "pygments_lexer": "ipython3",
   "version": "3.6.5"
  }
 },
 "nbformat": 4,
 "nbformat_minor": 2
}
