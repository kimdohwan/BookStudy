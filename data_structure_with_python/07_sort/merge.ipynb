{
 "cells": [
  {
   "cell_type": "code",
   "execution_count": 80,
   "metadata": {},
   "outputs": [],
   "source": [
    "count = 0\n",
    "def merge_sort(a, b, low, high):\n",
    "    if high <= low:\n",
    "        print(f'return {high} <= {low}')\n",
    "        return\n",
    "    mid = low + (high - low) // 2\n",
    "    merge_sort(a, b, low, mid)\n",
    "    merge_sort(a, b, mid + 1, high)\n",
    "    merge(a, b, low, mid, high)\n",
    "    \n",
    "def merge(a, b, low, mid, high):\n",
    "    global count\n",
    "    count += 1\n",
    "    print(low, mid, high, f'merge() 실행 횟수: {count}')\n",
    "\n",
    "    i = low\n",
    "    j = mid + 1\n",
    "    for k in range(low, high + 1):\n",
    "        if i > mid:\n",
    "            b[k] = a[j]\n",
    "            j += 1\n",
    "        elif j > high:\n",
    "            b[k] = a[i]\n",
    "            i += 1\n",
    "        elif a[j] < a[i]:\n",
    "            b[k] = a[j]\n",
    "            j += 1\n",
    "        else:\n",
    "            b[k] = a[i]\n",
    "            i += 1\n",
    "        print(b)\n",
    "    for k in range(low, high + 1):\n",
    "        a[k] = b[k]\n"
   ]
  },
  {
   "cell_type": "code",
   "execution_count": 83,
   "metadata": {},
   "outputs": [
    {
     "name": "stdout",
     "output_type": "stream",
     "text": [
      "[90, 29, 46, 2, 33, 63]\n",
      "return 0 <= 0\n",
      "return 1 <= 1\n",
      "0 0 1 merge() 실행 횟수: 15\n",
      "[29, '', '', '', '', '']\n",
      "[29, 90, '', '', '', '']\n",
      "return 2 <= 2\n",
      "0 1 2 merge() 실행 횟수: 16\n",
      "[29, 90, '', '', '', '']\n",
      "[29, 46, '', '', '', '']\n",
      "[29, 46, 90, '', '', '']\n",
      "return 3 <= 3\n",
      "return 4 <= 4\n",
      "3 3 4 merge() 실행 횟수: 17\n",
      "[29, 46, 90, 2, '', '']\n",
      "[29, 46, 90, 2, 33, '']\n",
      "return 5 <= 5\n",
      "3 4 5 merge() 실행 횟수: 18\n",
      "[29, 46, 90, 2, 33, '']\n",
      "[29, 46, 90, 2, 33, '']\n",
      "[29, 46, 90, 2, 33, 63]\n",
      "0 2 5 merge() 실행 횟수: 19\n",
      "[2, 46, 90, 2, 33, 63]\n",
      "[2, 29, 90, 2, 33, 63]\n",
      "[2, 29, 33, 2, 33, 63]\n",
      "[2, 29, 33, 46, 33, 63]\n",
      "[2, 29, 33, 46, 63, 63]\n",
      "[2, 29, 33, 46, 63, 90]\n",
      "[2, 29, 33, 46, 63, 90]\n",
      "[2, 29, 33, 46, 63, 90]\n"
     ]
    }
   ],
   "source": [
    "import random\n",
    "a = [random.randint(0, 99) for i in range(6)]\n",
    "b = [''] * len(a) # 담는 용도일 뿐\n",
    "print(a)\n",
    "merge_sort(a, b, 0, len(a) - 1)\n",
    "print(a)\n",
    "print(b)\n"
   ]
  }
 ],
 "metadata": {
  "kernelspec": {
   "display_name": "Python 3",
   "language": "python",
   "name": "python3"
  },
  "language_info": {
   "codemirror_mode": {
    "name": "ipython",
    "version": 3
   },
   "file_extension": ".py",
   "mimetype": "text/x-python",
   "name": "python",
   "nbconvert_exporter": "python",
   "pygments_lexer": "ipython3",
   "version": "3.6.5"
  }
 },
 "nbformat": 4,
 "nbformat_minor": 2
}
