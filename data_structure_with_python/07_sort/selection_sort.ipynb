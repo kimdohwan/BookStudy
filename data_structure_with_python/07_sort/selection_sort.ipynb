{
 "cells": [
  {
   "cell_type": "code",
   "execution_count": 137,
   "metadata": {},
   "outputs": [
    {
     "name": "stdout",
     "output_type": "stream",
     "text": [
      "[57, 56, 59, 76, 28, 70, 72, 27, 46, 43]\n",
      "[27, 28, 43, 46, 56, 57, 59, 70, 72, 76] selection\n",
      "[27, 28, 43, 46, 56, 57, 59, 70, 72, 76] bubble\n"
     ]
    }
   ],
   "source": [
    "'''selection sort, bubble sort\n",
    "두 정렬의 차이점은 selection 의 존재 유무도 있지만 \n",
    "사실상 값 교환을 언제 하느냐에 따라서 sort 의 정체성이 나뉜다\n",
    "\n",
    "selection sort 의 minimum 은 2번째 for loop 밖에서 \n",
    "값 교환을 해주기위한 수단일 뿐이다 \n",
    "\n",
    "두 정렬의 코드를 작성할 때 가장 관건은 \n",
    "for loop 에 들어가는 range() 의 index 설정이라고 할 수 있다\n",
    "\n",
    "첫번째 for loop 는 list 의 첫번쨰 항목부터 '마지막 항목 한개 전'까지 \n",
    "설정해준다. 예를 들어 len(a) == 10, a[8]까지 loop 를 돌고나면 \n",
    "a[9](마지막 항목)은 저절로 가장 큰 값으로 정렬되기 떄문이다 \n",
    "\n",
    "두번째 for loop 는 list 에서 정렬된 부분을 제외한 나머지 인덱스들이다\n",
    "정렬이 된 항목들은 첫번째 for loop 에 의해 앞쪽으로 배치된다 \n",
    "예를 들어 i = 3 까지 첫번쨰 for loop 가 진행된 경우,\n",
    "이는 a[0], a[1], a[2], a[3] 은 정렬이 완료 됫음을 의미 \n",
    "따라서 정렬이 되야하는 나머지 항목의 index 를 for loop 에 설정해준다\n",
    "위의 예대로 라면 다음에 실행될 두번째 for loop는 \n",
    "a[4] ~ a[9] 가 될 것이다.\n",
    "첫번째 for loop 는 len(a) - 1 이지만 두번째 for loop는 \n",
    "모든 값을 비교해야하기 떄문에 마지막 값을 제외할수 없다 \n",
    "따라서 range(i, len(a)) 와 같이 된다.\n",
    "'''\n",
    "import random\n",
    "\n",
    "def selection_sort(a):\n",
    "    for i in range(0, len(a) - 1):\n",
    "        minimum = i\n",
    "        for j in range(i, len(a)):\n",
    "            if a[minimum] > a[j]:\n",
    "                minimum = j\n",
    "        a[i], a[minimum] = a[minimum], a[i]\n",
    "    print(a, 'selection')\n",
    "    \n",
    "def bubble_sort(a):\n",
    "    for i in range(0, len(a) - 1):\n",
    "        for j in range(i, len(a)):\n",
    "            if a[i] > a[j]:\n",
    "                a[i], a[j] = a[j], a[i]\n",
    "    print(a, 'bubble')\n",
    "        \n",
    "a = [random.randint(1, 99) for i in range(10)]\n",
    "print(a)\n",
    "selection_sort(a)\n",
    "bubble_sort(a)"
   ]
  },
  {
   "cell_type": "code",
   "execution_count": null,
   "metadata": {},
   "outputs": [],
   "source": []
  }
 ],
 "metadata": {
  "kernelspec": {
   "display_name": "Python 3",
   "language": "python",
   "name": "python3"
  },
  "language_info": {
   "codemirror_mode": {
    "name": "ipython",
    "version": 3
   },
   "file_extension": ".py",
   "mimetype": "text/x-python",
   "name": "python",
   "nbconvert_exporter": "python",
   "pygments_lexer": "ipython3",
   "version": "3.6.5"
  }
 },
 "nbformat": 4,
 "nbformat_minor": 2
}
