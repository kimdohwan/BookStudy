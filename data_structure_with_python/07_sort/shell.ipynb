{
 "cells": [
  {
   "cell_type": "code",
   "execution_count": 92,
   "metadata": {},
   "outputs": [],
   "source": [
    "'''shell sort\n",
    "insertion 이 이미 정렬되어 있는 경우 빠른 속도를 보이는 것에\n",
    "기반을 둔 정렬\n",
    "insertion 이전에 전처리과정을 둔다\n",
    "4개의 배열로 리스트를 자른후에(한칸씩 이동하는 insertion 의 단점 보완) \n",
    "각 배열의 같은 인덱스를 가진 값끼리 비교 후에 insertion 으로 정렬\n",
    "한번의  loop 를 돌 때마다 작은수가 앞으로 큰수가 뒤로 갈 확률 증가\n",
    "마지막 Loop 에서는 1개의 배열(즉, 그냥 insertion sort)을 실행하며\n",
    "마무리해주는데 이 때 간격에 해당하는 h 값에 따라서 성능이 차이가있다\n",
    "보통 h = 2^n - 1 일 때 좋은 성능.\n",
    "'''\n",
    "def shell_sort(a):\n",
    "    h = 4\n",
    "    while h >= 1:\n",
    "#         print(h)\n",
    "        for i in range(h, len(a)):\n",
    "            j = i\n",
    "#             print(a, j, 'for문')\n",
    "            while j >= h and a[j] < a[j - h]:\n",
    "                a[j], a[j - h] = a[j - h], a[j]\n",
    "#                 print(a, j, 'while 문')\n",
    "                j -= h\n",
    "        h //= 3\n",
    "    print(a)"
   ]
  },
  {
   "cell_type": "code",
   "execution_count": 107,
   "metadata": {
    "scrolled": true
   },
   "outputs": [
    {
     "name": "stdout",
     "output_type": "stream",
     "text": [
      "[62, 87, 73, 42, 67, 94, 66, 55, 42, 34, 97, 72, 19, 41, 42, 42, 78, 12, 90, 70, 38, 10, 32, 69, 27, 30, 53, 38, 4, 18, 0, 96, 52, 89, 8, 3, 61, 42, 84, 42]\n",
      "[0, 3, 4, 8, 10, 12, 18, 19, 27, 30, 32, 34, 38, 38, 41, 42, 42, 42, 42, 42, 42, 52, 53, 55, 61, 62, 66, 67, 69, 70, 72, 73, 78, 84, 87, 89, 90, 94, 96, 97]\n"
     ]
    }
   ],
   "source": [
    "import random\n",
    "a = [random.randint(0, 99) for i in range(40)]\n",
    "print(a)\n",
    "shell_sort(a)"
   ]
  }
 ],
 "metadata": {
  "kernelspec": {
   "display_name": "Python 3",
   "language": "python",
   "name": "python3"
  },
  "language_info": {
   "codemirror_mode": {
    "name": "ipython",
    "version": 3
   },
   "file_extension": ".py",
   "mimetype": "text/x-python",
   "name": "python",
   "nbconvert_exporter": "python",
   "pygments_lexer": "ipython3",
   "version": "3.6.5"
  }
 },
 "nbformat": 4,
 "nbformat_minor": 2
}
