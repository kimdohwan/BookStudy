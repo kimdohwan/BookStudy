{
 "cells": [
  {
   "cell_type": "code",
   "execution_count": 1,
   "metadata": {},
   "outputs": [],
   "source": [
    "def qsort(a, low, high):\n",
    "    if low < high:\n",
    "        pivot = partition(a, low, high)\n",
    "        qsort(a, low, pivot - 1)\n",
    "        qsort(a, pivot + 1, high)\n",
    "        \n",
    "def partition(a, pivot, high):\n",
    "    i = pivot + 1\n",
    "    j = high\n",
    "    while True:\n",
    "        while i < high and a[i] < a[pivot]:\n",
    "            i += 1\n",
    "        while j > pivot and a[j] > a[pivot]:\n",
    "            j -= 1\n",
    "        if j <= i:\n",
    "            break\n",
    "        a[i], a[j] = a[j], a[i]\n",
    "        i += 1\n",
    "        j -= 1\n",
    "        \n",
    "    a[pivot], a[j] = a[j], a[pivot]\n",
    "    return j"
   ]
  },
  {
   "cell_type": "code",
   "execution_count": 2,
   "metadata": {},
   "outputs": [
    {
     "name": "stdout",
     "output_type": "stream",
     "text": [
      "[14, 8, 43, 61, 60, 25, 22, 21, 67, 66, 4]\n",
      "[4, 8, 14, 21, 22, 25, 43, 60, 61, 66, 67]\n"
     ]
    }
   ],
   "source": [
    "import random\n",
    "a = [random.randint(0, 99) for i in range(11)]\n",
    "print(a)\n",
    "qsort(a, 0, len(a) - 1)\n",
    "print(a)"
   ]
  },
  {
   "cell_type": "code",
   "execution_count": 11,
   "metadata": {},
   "outputs": [
    {
     "name": "stdout",
     "output_type": "stream",
     "text": [
      "[1, 3, 2, 4, 5] [  1 100   3   4   5] [100   3]\n",
      "[1, 100, 3, 4, 5]\n"
     ]
    }
   ],
   "source": [
    "import numpy\n",
    "\n",
    "a = [1, 2, 3, 4, 5]\n",
    "b = numpy.asarray(a)\n",
    "c = b[1:3]\n",
    "a[1], a[2] = a[2], a[1]\n",
    "b[1] = 100\n",
    "print(a, b, c)\n",
    "print(list(b))\n"
   ]
  },
  {
   "cell_type": "code",
   "execution_count": 52,
   "metadata": {},
   "outputs": [],
   "source": [
    "# 변수 이름 바꿔서 외워서 작성해본 코드\n",
    "def quick_sort(a, start, end):\n",
    "    if start < end:\n",
    "        pivot = partition(a, start, end)\n",
    "        quick_sort(a, start, pivot -1)\n",
    "        quick_sort(a, pivot + 1, end)\n",
    "        \n",
    "\n",
    "def partition(a, pivot, end):\n",
    "    left = pivot + 1\n",
    "    right = end\n",
    "    while True:\n",
    "        while left < end and a[left] < a[pivot]:\n",
    "            left += 1\n",
    "        while pivot < right and a[pivot] < a[right]:\n",
    "            right -= 1\n",
    "        if left >= right:\n",
    "            break\n",
    "        a[left], a[right] = a[right], a[left]\n",
    "        left += 1\n",
    "        right -= 1\n",
    "    a[pivot], a[right] = a[right], a[pivot]\n",
    "    return right\n",
    "    "
   ]
  },
  {
   "cell_type": "code",
   "execution_count": 57,
   "metadata": {},
   "outputs": [
    {
     "name": "stdout",
     "output_type": "stream",
     "text": [
      "[66, 96, 85, 80, 65, 34, 40, 23, 41, 77, 48]\n",
      "[23, 34, 40, 41, 48, 65, 66, 77, 80, 85, 96]\n"
     ]
    }
   ],
   "source": [
    "import random\n",
    "a = [random.randint(0, 99) for i in range(11)]\n",
    "print(a)\n",
    "quick_sort(a, 0, len(a) - 1)\n",
    "print(a)"
   ]
  }
 ],
 "metadata": {
  "kernelspec": {
   "display_name": "Python 3",
   "language": "python",
   "name": "python3"
  },
  "language_info": {
   "codemirror_mode": {
    "name": "ipython",
    "version": 3
   },
   "file_extension": ".py",
   "mimetype": "text/x-python",
   "name": "python",
   "nbconvert_exporter": "python",
   "pygments_lexer": "ipython3",
   "version": "3.6.5"
  }
 },
 "nbformat": 4,
 "nbformat_minor": 2
}
