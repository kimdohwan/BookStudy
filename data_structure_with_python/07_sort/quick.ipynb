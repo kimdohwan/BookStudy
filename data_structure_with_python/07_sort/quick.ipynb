{
 "cells": [
  {
   "cell_type": "code",
   "execution_count": 1,
   "metadata": {},
   "outputs": [],
   "source": [
    "def qsort(a, low, high):\n",
    "    if low < high:\n",
    "        pivot = partition(a, low, high)\n",
    "        qsort(a, low, pivot - 1)\n",
    "        qsort(a, pivot + 1, high)\n",
    "        \n",
    "def partition(a, pivot, high):\n",
    "    i = pivot + 1\n",
    "    j = high\n",
    "    while True:\n",
    "        while i < high and a[i] < a[pivot]:\n",
    "            i += 1\n",
    "        while j > pivot and a[j] > a[pivot]:\n",
    "            j -= 1\n",
    "        if j <= i:\n",
    "            break\n",
    "        a[i], a[j] = a[j], a[i]\n",
    "        i += 1\n",
    "        j -= 1\n",
    "        \n",
    "    a[pivot], a[j] = a[j], a[pivot]\n",
    "    return j"
   ]
  },
  {
   "cell_type": "code",
   "execution_count": 2,
   "metadata": {},
   "outputs": [
    {
     "name": "stdout",
     "output_type": "stream",
     "text": [
      "[63, 47, 52, 77, 86, 89, 50, 45, 73, 20, 19]\n",
      "[19, 20, 45, 47, 50, 52, 63, 73, 77, 86, 89]\n"
     ]
    }
   ],
   "source": [
    "import random\n",
    "a = [random.randint(0, 99) for i in range(11)]\n",
    "print(a)\n",
    "qsort(a, 0, len(a) - 1)\n",
    "print(a)"
   ]
  },
  {
   "cell_type": "code",
   "execution_count": 3,
   "metadata": {},
   "outputs": [
    {
     "name": "stdout",
     "output_type": "stream",
     "text": [
      "[1, 3, 2, 4, 5] [  1 100   3   4   5] [100   3]\n"
     ]
    }
   ],
   "source": [
    "import numpy\n",
    "\n",
    "a = [1, 2, 3, 4, 5]\n",
    "b = numpy.asarray(a)\n",
    "c = b[1:3]\n",
    "a[1], a[2] = a[2], a[1]\n",
    "b[1] = 100\n",
    "print(a, b, c)\n"
   ]
  },
  {
   "cell_type": "code",
   "execution_count": 4,
   "metadata": {},
   "outputs": [
    {
     "name": "stdout",
     "output_type": "stream",
     "text": [
      "[[1, '111', '000'], 2, 3] [[1, '111', '000'], 2, 3]\n",
      "True False\n"
     ]
    }
   ],
   "source": [
    "import copy\n",
    "\n",
    "d = [[1], 2, 3]\n",
    "e = copy.copy(d)\n",
    "e[0].append('111')\n",
    "d[0].append('000')\n",
    "print(d, e)\n",
    "print(d == e, id(d) == id(e))\n",
    "\n",
    "# shallow copy 는 new list object + copies all the reference\n",
    "# 따라서 shallow copy 객체에 append 를 하면 new list object + item 이므로\n",
    "# 원본 객체에는 영향을 주지 않음\n",
    "# 하지만 원본객체에서 append 하면 shallow 객체의 copy 된 reference 는 \n",
    "# 영향을 받게 되는 것 \n",
    "# list 는(담은 그릇) new object 지만 복사된 item(내용물)은 원본객체의 reference\n",
    "# \n",
    "# deep copy 는 now list object + new object 걍 아예 독립적인 자식이 된다."
   ]
  }
 ],
 "metadata": {
  "kernelspec": {
   "display_name": "Python 3",
   "language": "python",
   "name": "python3"
  },
  "language_info": {
   "codemirror_mode": {
    "name": "ipython",
    "version": 3
   },
   "file_extension": ".py",
   "mimetype": "text/x-python",
   "name": "python",
   "nbconvert_exporter": "python",
   "pygments_lexer": "ipython3",
   "version": "3.6.5"
  }
 },
 "nbformat": 4,
 "nbformat_minor": 2
}
