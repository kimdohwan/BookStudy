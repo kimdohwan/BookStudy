{
 "cells": [
  {
   "cell_type": "code",
   "execution_count": 8,
   "metadata": {},
   "outputs": [],
   "source": [
    "def qsort(a, low, high):\n",
    "    if low < high:\n",
    "        pivot = partition(a, low, high)\n",
    "        qsort(a, low, pivot - 1)\n",
    "        qsort(a, pivot + 1, high)\n",
    "        \n",
    "def partition(a, pivot, high):\n",
    "    i = pivot + 1\n",
    "    j = high\n",
    "    while True:\n",
    "        while i < high and a[i] < a[pivot]:\n",
    "            i += 1\n",
    "        while j > pivot and a[j] > a[pivot]:\n",
    "            j -= 1\n",
    "        if j <= i:\n",
    "            break\n",
    "        a[i], a[j] = a[j], a[i]\n",
    "        i += 1\n",
    "        j -= 1\n",
    "        \n",
    "    a[pivot], a[j] = a[j], a[pivot]\n",
    "    return j"
   ]
  },
  {
   "cell_type": "code",
   "execution_count": null,
   "metadata": {},
   "outputs": [],
   "source": [
    "import random\n",
    "a = [random.randint(0, 99) for i in range(11)]\n",
    "print(a)\n",
    "qsort(a, 0, len(a) - 1)\n",
    "print(a)"
   ]
  },
  {
   "cell_type": "code",
   "execution_count": 45,
   "metadata": {},
   "outputs": [
    {
     "name": "stdout",
     "output_type": "stream",
     "text": [
      "[1, 3, 2, 4, 5] [1 2 3 4 5] [2 3]\n"
     ]
    }
   ],
   "source": [
    "import numpy\n",
    "\n",
    "a = [1, 2, 3, 4, 5]\n",
    "b = numpy.asarray(a)\n",
    "c = b[1:3]\n",
    "a[1], a[2] = a[2], a[1]\n",
    "print(a, b, c)\n"
   ]
  }
 ],
 "metadata": {
  "kernelspec": {
   "display_name": "Python 3",
   "language": "python",
   "name": "python3"
  },
  "language_info": {
   "codemirror_mode": {
    "name": "ipython",
    "version": 3
   },
   "file_extension": ".py",
   "mimetype": "text/x-python",
   "name": "python",
   "nbconvert_exporter": "python",
   "pygments_lexer": "ipython3",
   "version": "3.6.5"
  }
 },
 "nbformat": 4,
 "nbformat_minor": 2
}
