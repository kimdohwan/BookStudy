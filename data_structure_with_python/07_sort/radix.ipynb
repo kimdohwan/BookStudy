{
 "cells": [
  {
   "cell_type": "code",
   "execution_count": 34,
   "metadata": {},
   "outputs": [
    {
     "name": "stdout",
     "output_type": "stream",
     "text": [
      "[0, 1, 1, 4, 9, 10, 22, 22, 100]\n"
     ]
    }
   ],
   "source": [
    "def radix_sort(a, base=10):\n",
    "    size = len(a)\n",
    "    maxval = max(a)\n",
    "    exp = 1\n",
    "    \n",
    "    while exp <= maxval:\n",
    "        output = [0]*size\n",
    "        count = [0]*base\n",
    "        \n",
    "        for i in range(size): \n",
    "            count[(a[i]//exp)%base] += 1\n",
    "        for i in range(1,base): \n",
    "            count[i]+=count[i-1]\n",
    "        for i in range(size-1,-1,-1):\n",
    "            j = (a[i]//exp)%base\n",
    "            output[count[j]-1] = a[i]\n",
    "            count[j] -= 1\n",
    "        for i in range(size): \n",
    "            a[i]=output[i]\n",
    "            \n",
    "        exp *= base\n"
   ]
  },
  {
   "cell_type": "code",
   "execution_count": 80,
   "metadata": {},
   "outputs": [
    {
     "name": "stdout",
     "output_type": "stream",
     "text": [
      "[19, 24, 47, 54, 68, 72, 85, 87, 94, 97]\n"
     ]
    }
   ],
   "source": [
    "import random\n",
    "\n",
    "a = random.sample(range(0, 100), 10)\n",
    "radix_sort(a)\n",
    "print(a)"
   ]
  },
  {
   "cell_type": "code",
   "execution_count": 85,
   "metadata": {},
   "outputs": [
    {
     "data": {
      "text/plain": [
       "[1, 2]"
      ]
     },
     "execution_count": 85,
     "metadata": {},
     "output_type": "execute_result"
    }
   ],
   "source": [
    "a = {1: 'a', 2: 'b'}\n",
    "sorted(a.keys())"
   ]
  },
  {
   "cell_type": "code",
   "execution_count": null,
   "metadata": {},
   "outputs": [],
   "source": []
  }
 ],
 "metadata": {
  "kernelspec": {
   "display_name": "Python 3",
   "language": "python",
   "name": "python3"
  },
  "language_info": {
   "codemirror_mode": {
    "name": "ipython",
    "version": 3
   },
   "file_extension": ".py",
   "mimetype": "text/x-python",
   "name": "python",
   "nbconvert_exporter": "python",
   "pygments_lexer": "ipython3",
   "version": "3.6.5"
  }
 },
 "nbformat": 4,
 "nbformat_minor": 2
}
